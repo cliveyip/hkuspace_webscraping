{
 "cells": [
  {
   "cell_type": "code",
   "execution_count": 1,
   "id": "6496f96b",
   "metadata": {},
   "outputs": [],
   "source": [
    "import requests\n",
    "import json\n",
    "import pandas as pd\n",
    "from bs4 import BeautifulSoup"
   ]
  },
  {
   "cell_type": "code",
   "execution_count": 2,
   "id": "daa3ab57",
   "metadata": {},
   "outputs": [],
   "source": [
    "url = 'https://www.fda.gov/datatables/views/ajax?search_api_fulltext=&field_regulated_product_field=All&field_terminated_recall=All&draw=7&columns%5B0%5D%5Bdata%5D=0&columns%5B0%5D%5Bname%5D=&columns%5B0%5D%5Bsearchable%5D=true&columns%5B0%5D%5Borderable%5D=true&columns%5B0%5D%5Bsearch%5D%5Bvalue%5D=&columns%5B0%5D%5Bsearch%5D%5Bregex%5D=false&columns%5B1%5D%5Bdata%5D=1&columns%5B1%5D%5Bname%5D=&columns%5B1%5D%5Bsearchable%5D=true&columns%5B1%5D%5Borderable%5D=true&columns%5B1%5D%5Bsearch%5D%5Bvalue%5D=&columns%5B1%5D%5Bsearch%5D%5Bregex%5D=false&columns%5B2%5D%5Bdata%5D=2&columns%5B2%5D%5Bname%5D=&columns%5B2%5D%5Bsearchable%5D=true&columns%5B2%5D%5Borderable%5D=true&columns%5B2%5D%5Bsearch%5D%5Bvalue%5D=&columns%5B2%5D%5Bsearch%5D%5Bregex%5D=false&columns%5B3%5D%5Bdata%5D=3&columns%5B3%5D%5Bname%5D=&columns%5B3%5D%5Bsearchable%5D=true&columns%5B3%5D%5Borderable%5D=true&columns%5B3%5D%5Bsearch%5D%5Bvalue%5D=&columns%5B3%5D%5Bsearch%5D%5Bregex%5D=false&columns%5B4%5D%5Bdata%5D=4&columns%5B4%5D%5Bname%5D=&columns%5B4%5D%5Bsearchable%5D=true&columns%5B4%5D%5Borderable%5D=true&columns%5B4%5D%5Bsearch%5D%5Bvalue%5D=&columns%5B4%5D%5Bsearch%5D%5Bregex%5D=false&columns%5B5%5D%5Bdata%5D=5&columns%5B5%5D%5Bname%5D=&columns%5B5%5D%5Bsearchable%5D=true&columns%5B5%5D%5Borderable%5D=true&columns%5B5%5D%5Bsearch%5D%5Bvalue%5D=&columns%5B5%5D%5Bsearch%5D%5Bregex%5D=false&columns%5B6%5D%5Bdata%5D=6&columns%5B6%5D%5Bname%5D=&columns%5B6%5D%5Bsearchable%5D=true&columns%5B6%5D%5Borderable%5D=false&columns%5B6%5D%5Bsearch%5D%5Bvalue%5D=&columns%5B6%5D%5Bsearch%5D%5Bregex%5D=false&columns%5B7%5D%5Bdata%5D=7&columns%5B7%5D%5Bname%5D=&columns%5B7%5D%5Bsearchable%5D=true&columns%5B7%5D%5Borderable%5D=false&columns%5B7%5D%5Bsearch%5D%5Bvalue%5D=&columns%5B7%5D%5Bsearch%5D%5Bregex%5D=false&start=10&length=10&search%5Bvalue%5D=&search%5Bregex%5D=false&_drupal_ajax=1&_wrapper_format=drupal_ajax&pager_element=0&view_args=&view_base_path=safety%2Frecalls-market-withdrawals-safety-alerts%2Fdatatables-data&view_display_id=recall_datatable_block_1&view_dom_id=2901ee938b3ff31873e0ab0bbfdc6806d270f41acf3ebc96bd0b4de449c4d045&view_name=recall_solr_index&view_path=%2Fsafety%2Frecalls-market-withdrawals-safety-alerts&total_items=990&_=1693102270051'"
   ]
  },
  {
   "cell_type": "code",
   "execution_count": 3,
   "id": "706690f6",
   "metadata": {},
   "outputs": [],
   "source": [
    "response = requests.get(url)"
   ]
  },
  {
   "cell_type": "code",
   "execution_count": 4,
   "id": "482cd631",
   "metadata": {},
   "outputs": [
    {
     "data": {
      "text/plain": [
       "<Response [200]>"
      ]
     },
     "execution_count": 4,
     "metadata": {},
     "output_type": "execute_result"
    }
   ],
   "source": [
    "response"
   ]
  },
  {
   "cell_type": "code",
   "execution_count": null,
   "id": "b7aee3e3",
   "metadata": {},
   "outputs": [],
   "source": [
    "# response.json()"
   ]
  },
  {
   "cell_type": "code",
   "execution_count": 15,
   "id": "9141bb57",
   "metadata": {},
   "outputs": [],
   "source": [
    "# response.json()['data'][0]"
   ]
  },
  {
   "cell_type": "code",
   "execution_count": 8,
   "id": "7f70a7eb",
   "metadata": {},
   "outputs": [],
   "source": [
    "# from json record list, parse the fields and return a dictionary\n",
    "def parse_json_data(record):\n",
    "    \n",
    "    soup_time = BeautifulSoup(record[0], 'html.parser')\n",
    "    soup_company = BeautifulSoup(record[1], 'html.parser')\n",
    "    \n",
    "    root_url = 'https://www.fda.gov'\n",
    "    \n",
    "    record_dict = {}\n",
    "    \n",
    "    record_dict['Time'] = soup_time.find('time').text\n",
    "    record_dict['Company'] = soup_company.find('a').text\n",
    "    record_dict['URL'] = root_url + soup_company.find('a')['href']\n",
    "    record_dict['Product Description'] = record[2]\n",
    "    record_dict['Product Type'] = record[3]\n",
    "    record_dict['Recall Reason Description'] = record[4]\n",
    "    record_dict['Unnamed Column 1'] = record[5]\n",
    "    \n",
    "    return record_dict"
   ]
  },
  {
   "cell_type": "code",
   "execution_count": 9,
   "id": "1408f3ab",
   "metadata": {},
   "outputs": [
    {
     "data": {
      "text/plain": [
       "{'Time': '08/08/2023',\n",
       " 'Company': 'Bickel’s Snack Foods, Inc.',\n",
       " 'URL': 'https://www.fda.gov/safety/recalls-market-withdrawals-safety-alerts/bickels-snack-foods-inc-issues-allergy-alert-undeclared-milk-specific-lots-butter-flavored-popcorn',\n",
       " 'Product Description': 'Butter Flavored Popcorn',\n",
       " 'Product Type': 'Food &amp; Beverages, Allergens',\n",
       " 'Recall Reason Description': 'Undeclared milk ',\n",
       " 'Unnamed Column 1': 'Bickel’s Snack Foods, Inc.'}"
      ]
     },
     "execution_count": 9,
     "metadata": {},
     "output_type": "execute_result"
    }
   ],
   "source": [
    "parse_json_data(response.json()['data'][0])"
   ]
  },
  {
   "cell_type": "code",
   "execution_count": 10,
   "id": "c7a86043",
   "metadata": {},
   "outputs": [],
   "source": [
    "record_container = []\n",
    "for record in response.json()['data']:\n",
    "    record_container.append(parse_json_data(record))"
   ]
  },
  {
   "cell_type": "code",
   "execution_count": 12,
   "id": "0ed1e714",
   "metadata": {},
   "outputs": [],
   "source": [
    "df = pd.DataFrame(record_container)"
   ]
  },
  {
   "cell_type": "code",
   "execution_count": 13,
   "id": "7c4797cf",
   "metadata": {},
   "outputs": [
    {
     "data": {
      "text/html": [
       "<div>\n",
       "<style scoped>\n",
       "    .dataframe tbody tr th:only-of-type {\n",
       "        vertical-align: middle;\n",
       "    }\n",
       "\n",
       "    .dataframe tbody tr th {\n",
       "        vertical-align: top;\n",
       "    }\n",
       "\n",
       "    .dataframe thead th {\n",
       "        text-align: right;\n",
       "    }\n",
       "</style>\n",
       "<table border=\"1\" class=\"dataframe\">\n",
       "  <thead>\n",
       "    <tr style=\"text-align: right;\">\n",
       "      <th></th>\n",
       "      <th>Time</th>\n",
       "      <th>Company</th>\n",
       "      <th>URL</th>\n",
       "      <th>Product Description</th>\n",
       "      <th>Product Type</th>\n",
       "      <th>Recall Reason Description</th>\n",
       "      <th>Unnamed Column 1</th>\n",
       "    </tr>\n",
       "  </thead>\n",
       "  <tbody>\n",
       "    <tr>\n",
       "      <th>0</th>\n",
       "      <td>08/08/2023</td>\n",
       "      <td>Bickel’s Snack Foods, Inc.</td>\n",
       "      <td>https://www.fda.gov/safety/recalls-market-with...</td>\n",
       "      <td>Butter Flavored Popcorn</td>\n",
       "      <td>Food &amp;amp; Beverages, Allergens</td>\n",
       "      <td>Undeclared milk</td>\n",
       "      <td>Bickel’s Snack Foods, Inc.</td>\n",
       "    </tr>\n",
       "    <tr>\n",
       "      <th>1</th>\n",
       "      <td>08/04/2023</td>\n",
       "      <td>Dräger</td>\n",
       "      <td>https://www.fda.gov/safety/recalls-market-with...</td>\n",
       "      <td>Carina Sub-Acute Care Ventilators</td>\n",
       "      <td>Medical Devices</td>\n",
       "      <td>Product Safety/Potential Foreign Material</td>\n",
       "      <td>Drägerwerk AG &amp;amp; Co. KGaA</td>\n",
       "    </tr>\n",
       "    <tr>\n",
       "      <th>2</th>\n",
       "      <td>08/01/2023</td>\n",
       "      <td>Ozona, Go Healthy</td>\n",
       "      <td>https://www.fda.gov/safety/recalls-market-with...</td>\n",
       "      <td>Liquid Probiotics for adults and toddlers; Pro...</td>\n",
       "      <td>Animal &amp;amp; Veterinary, Food &amp;amp; Beverages</td>\n",
       "      <td>Potential Foodborne Illness</td>\n",
       "      <td>Ozona Organics, LLC</td>\n",
       "    </tr>\n",
       "    <tr>\n",
       "      <th>3</th>\n",
       "      <td>08/01/2023</td>\n",
       "      <td>Doritos</td>\n",
       "      <td>https://www.fda.gov/safety/recalls-market-with...</td>\n",
       "      <td>Doritos Nacho Cheese Tortilla Chips</td>\n",
       "      <td>Food &amp;amp; Beverages, Allergens, Snack Food Item</td>\n",
       "      <td>Undeclared Soy and Wheat Allergen</td>\n",
       "      <td>Frito-Lay</td>\n",
       "    </tr>\n",
       "    <tr>\n",
       "      <th>4</th>\n",
       "      <td>07/31/2023</td>\n",
       "      <td>Lupin Pharmaceuticals, Inc.</td>\n",
       "      <td>https://www.fda.gov/safety/recalls-market-with...</td>\n",
       "      <td>Tydemy oral contraceptive</td>\n",
       "      <td>Drugs</td>\n",
       "      <td>Out of Specification Results</td>\n",
       "      <td>Lupin Pharmaceuticals, Inc.</td>\n",
       "    </tr>\n",
       "    <tr>\n",
       "      <th>5</th>\n",
       "      <td>07/31/2023</td>\n",
       "      <td>SIGMA Spectrum and Spectrum IQ</td>\n",
       "      <td>https://www.fda.gov/safety/recalls-market-with...</td>\n",
       "      <td>Infusion pumps</td>\n",
       "      <td>Medical Devices</td>\n",
       "      <td>Due to an increase in reported false upstream ...</td>\n",
       "      <td>Baxter International Inc.</td>\n",
       "    </tr>\n",
       "    <tr>\n",
       "      <th>6</th>\n",
       "      <td>07/25/2023</td>\n",
       "      <td>Member’s Mark</td>\n",
       "      <td>https://www.fda.gov/safety/recalls-market-with...</td>\n",
       "      <td>Member’s Mark Breaded Mozzarella Sticks</td>\n",
       "      <td>Food &amp;amp; Beverages, Allergens</td>\n",
       "      <td>Undeclared egg and soy</td>\n",
       "      <td>Rich Products</td>\n",
       "    </tr>\n",
       "    <tr>\n",
       "      <th>7</th>\n",
       "      <td>07/21/2023</td>\n",
       "      <td>Cooperstown Cheese Company</td>\n",
       "      <td>https://www.fda.gov/safety/recalls-market-with...</td>\n",
       "      <td>Cheese Products</td>\n",
       "      <td>Food &amp;amp; Beverages</td>\n",
       "      <td>Potential Listeria monocytogenes contamination</td>\n",
       "      <td>Cooperstown Cheese Company LLC</td>\n",
       "    </tr>\n",
       "    <tr>\n",
       "      <th>8</th>\n",
       "      <td>07/19/2023</td>\n",
       "      <td>Tim Heung Yuen</td>\n",
       "      <td>https://www.fda.gov/safety/recalls-market-with...</td>\n",
       "      <td>Black Melon Seed</td>\n",
       "      <td>Food &amp;amp; Beverages</td>\n",
       "      <td>Undeclared soy and wheat allergens</td>\n",
       "      <td>Richin Trading Inc.</td>\n",
       "    </tr>\n",
       "    <tr>\n",
       "      <th>9</th>\n",
       "      <td>07/19/2023</td>\n",
       "      <td>ONO</td>\n",
       "      <td>https://www.fda.gov/safety/recalls-market-with...</td>\n",
       "      <td>Vegan Blueberry Muffin Protein Overnight Oats</td>\n",
       "      <td>Food &amp;amp; Beverages</td>\n",
       "      <td>Undeclared milk allergen</td>\n",
       "      <td>ONO LLC</td>\n",
       "    </tr>\n",
       "  </tbody>\n",
       "</table>\n",
       "</div>"
      ],
      "text/plain": [
       "         Time                         Company  \\\n",
       "0  08/08/2023      Bickel’s Snack Foods, Inc.   \n",
       "1  08/04/2023                          Dräger   \n",
       "2  08/01/2023               Ozona, Go Healthy   \n",
       "3  08/01/2023                         Doritos   \n",
       "4  07/31/2023     Lupin Pharmaceuticals, Inc.   \n",
       "5  07/31/2023  SIGMA Spectrum and Spectrum IQ   \n",
       "6  07/25/2023                   Member’s Mark   \n",
       "7  07/21/2023      Cooperstown Cheese Company   \n",
       "8  07/19/2023                  Tim Heung Yuen   \n",
       "9  07/19/2023                             ONO   \n",
       "\n",
       "                                                 URL  \\\n",
       "0  https://www.fda.gov/safety/recalls-market-with...   \n",
       "1  https://www.fda.gov/safety/recalls-market-with...   \n",
       "2  https://www.fda.gov/safety/recalls-market-with...   \n",
       "3  https://www.fda.gov/safety/recalls-market-with...   \n",
       "4  https://www.fda.gov/safety/recalls-market-with...   \n",
       "5  https://www.fda.gov/safety/recalls-market-with...   \n",
       "6  https://www.fda.gov/safety/recalls-market-with...   \n",
       "7  https://www.fda.gov/safety/recalls-market-with...   \n",
       "8  https://www.fda.gov/safety/recalls-market-with...   \n",
       "9  https://www.fda.gov/safety/recalls-market-with...   \n",
       "\n",
       "                                 Product Description  \\\n",
       "0                            Butter Flavored Popcorn   \n",
       "1                  Carina Sub-Acute Care Ventilators   \n",
       "2  Liquid Probiotics for adults and toddlers; Pro...   \n",
       "3                Doritos Nacho Cheese Tortilla Chips   \n",
       "4                          Tydemy oral contraceptive   \n",
       "5                                     Infusion pumps   \n",
       "6            Member’s Mark Breaded Mozzarella Sticks   \n",
       "7                                    Cheese Products   \n",
       "8                                  Black Melon Seed    \n",
       "9      Vegan Blueberry Muffin Protein Overnight Oats   \n",
       "\n",
       "                                       Product Type  \\\n",
       "0                   Food &amp; Beverages, Allergens   \n",
       "1                                   Medical Devices   \n",
       "2     Animal &amp; Veterinary, Food &amp; Beverages   \n",
       "3  Food &amp; Beverages, Allergens, Snack Food Item   \n",
       "4                                             Drugs   \n",
       "5                                   Medical Devices   \n",
       "6                   Food &amp; Beverages, Allergens   \n",
       "7                              Food &amp; Beverages   \n",
       "8                              Food &amp; Beverages   \n",
       "9                              Food &amp; Beverages   \n",
       "\n",
       "                           Recall Reason Description  \\\n",
       "0                                   Undeclared milk    \n",
       "1          Product Safety/Potential Foreign Material   \n",
       "2                        Potential Foodborne Illness   \n",
       "3                  Undeclared Soy and Wheat Allergen   \n",
       "4                       Out of Specification Results   \n",
       "5  Due to an increase in reported false upstream ...   \n",
       "6                            Undeclared egg and soy    \n",
       "7     Potential Listeria monocytogenes contamination   \n",
       "8                 Undeclared soy and wheat allergens   \n",
       "9                           Undeclared milk allergen   \n",
       "\n",
       "                 Unnamed Column 1  \n",
       "0      Bickel’s Snack Foods, Inc.  \n",
       "1    Drägerwerk AG &amp; Co. KGaA  \n",
       "2             Ozona Organics, LLC  \n",
       "3                      Frito-Lay   \n",
       "4     Lupin Pharmaceuticals, Inc.  \n",
       "5       Baxter International Inc.  \n",
       "6                  Rich Products   \n",
       "7  Cooperstown Cheese Company LLC  \n",
       "8             Richin Trading Inc.  \n",
       "9                         ONO LLC  "
      ]
     },
     "execution_count": 13,
     "metadata": {},
     "output_type": "execute_result"
    }
   ],
   "source": [
    "df"
   ]
  },
  {
   "cell_type": "code",
   "execution_count": 14,
   "id": "d4bc5498",
   "metadata": {},
   "outputs": [],
   "source": [
    "df.to_excel('FDA.xlsx', index=False)"
   ]
  },
  {
   "cell_type": "code",
   "execution_count": null,
   "id": "a442df55",
   "metadata": {},
   "outputs": [],
   "source": []
  }
 ],
 "metadata": {
  "kernelspec": {
   "display_name": "Python 3 (ipykernel)",
   "language": "python",
   "name": "python3"
  },
  "language_info": {
   "codemirror_mode": {
    "name": "ipython",
    "version": 3
   },
   "file_extension": ".py",
   "mimetype": "text/x-python",
   "name": "python",
   "nbconvert_exporter": "python",
   "pygments_lexer": "ipython3",
   "version": "3.9.13"
  }
 },
 "nbformat": 4,
 "nbformat_minor": 5
}
