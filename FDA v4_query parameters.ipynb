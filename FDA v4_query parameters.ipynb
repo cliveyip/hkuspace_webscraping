{
 "cells": [
  {
   "cell_type": "code",
   "execution_count": 1,
   "id": "6496f96b",
   "metadata": {},
   "outputs": [],
   "source": [
    "import requests\n",
    "import json\n",
    "import pandas as pd\n",
    "from bs4 import BeautifulSoup"
   ]
  },
  {
   "cell_type": "code",
   "execution_count": 2,
   "id": "b09d0e79",
   "metadata": {},
   "outputs": [],
   "source": [
    "start = 0\n",
    "length = 500\n",
    "\n",
    "url = 'https://www.fda.gov/datatables/views/ajax?search_api_fulltext=&' + \\\n",
    "'field_regulated_product_field=All&field_terminated_recall=All&draw=7&columns%5B0%5D%5Bdata%5D=0&columns%5B0%5D%5Bname%5D=&columns%5B0%5D%5Bsearchable%5D=true&columns%5B0%5D%5Borderable%5D=true&columns%5B0%5D%5Bsearch%5D%5Bvalue%5D=&columns%5B0%5D%5Bsearch%5D%5Bregex%5D=false&columns%5B1%5D%5Bdata%5D=1&columns%5B1%5D%5Bname%5D=&columns%5B1%5D%5Bsearchable%5D=true&columns%5B1%5D%5Borderable%5D=true&columns%5B1%5D%5Bsearch%5D%5Bvalue%5D=&columns%5B1%5D%5Bsearch%5D%5Bregex%5D=false&columns%5B2%5D%5Bdata%5D=2&columns%5B2%5D%5Bname%5D=&columns%5B2%5D%5Bsearchable%5D=true&columns%5B2%5D%5Borderable%5D=true&columns%5B2%5D%5Bsearch%5D%5Bvalue%5D=&columns%5B2%5D%5Bsearch%5D%5Bregex%5D=false&columns%5B3%5D%5Bdata%5D=3&columns%5B3%5D%5Bname%5D=&columns%5B3%5D%5Bsearchable%5D=true&columns%5B3%5D%5Borderable%5D=true&columns%5B3%5D%5Bsearch%5D%5Bvalue%5D=&columns%5B3%5D%5Bsearch%5D%5Bregex%5D=false&columns%5B4%5D%5Bdata%5D=4&columns%5B4%5D%5Bname%5D=&columns%5B4%5D%5Bsearchable%5D=true&columns%5B4%5D%5Borderable%5D=true&columns%5B4%5D%5Bsearch%5D%5Bvalue%5D=&columns%5B4%5D%5Bsearch%5D%5Bregex%5D=false&columns%5B5%5D%5Bdata%5D=5&columns%5B5%5D%5Bname%5D=&columns%5B5%5D%5Bsearchable%5D=true&columns%5B5%5D%5Borderable%5D=true&columns%5B5%5D%5Bsearch%5D%5Bvalue%5D=&columns%5B5%5D%5Bsearch%5D%5Bregex%5D=false&columns%5B6%5D%5Bdata%5D=6&columns%5B6%5D%5Bname%5D=&columns%5B6%5D%5Bsearchable%5D=true&columns%5B6%5D%5Borderable%5D=false&columns%5B6%5D%5Bsearch%5D%5Bvalue%5D=&columns%5B6%5D%5Bsearch%5D%5Bregex%5D=false&columns%5B7%5D%5Bdata%5D=7&columns%5B7%5D%5Bname%5D=&columns%5B7%5D%5Bsearchable%5D=true&columns%5B7%5D%5Borderable%5D=false&columns%5B7%5D%5Bsearch%5D%5Bvalue%5D=&columns%5B7%5D%5Bsearch%5D%5Bregex%5D=false&' + \\\n",
    "'start=' + str(start) + \\\n",
    "'&length=' + str(length) + \\\n",
    "'&search%5Bvalue%5D=&search%5Bregex%5D=false&_drupal_ajax=1&_wrapper_format=drupal_ajax&pager_element=0&view_args=&view_base_path=safety%2Frecalls-market-withdrawals-safety-alerts%2Fdatatables-data&view_display_id=recall_datatable_block_1&view_dom_id=2901ee938b3ff31873e0ab0bbfdc6806d270f41acf3ebc96bd0b4de449c4d045&view_name=recall_solr_index&view_path=%2Fsafety%2Frecalls-market-withdrawals-safety-alerts&total_items=990&_=1693102270051'"
   ]
  },
  {
   "cell_type": "code",
   "execution_count": 20,
   "id": "fb537bcc",
   "metadata": {},
   "outputs": [
    {
     "data": {
      "text/plain": [
       "'https://www.fda.gov/datatables/views/ajax?search_api_fulltext=&field_regulated_product_field=All&field_terminated_recall=All&draw=7&columns%5B0%5D%5Bdata%5D=0&columns%5B0%5D%5Bname%5D=&columns%5B0%5D%5Bsearchable%5D=true&columns%5B0%5D%5Borderable%5D=true&columns%5B0%5D%5Bsearch%5D%5Bvalue%5D=&columns%5B0%5D%5Bsearch%5D%5Bregex%5D=false&columns%5B1%5D%5Bdata%5D=1&columns%5B1%5D%5Bname%5D=&columns%5B1%5D%5Bsearchable%5D=true&columns%5B1%5D%5Borderable%5D=true&columns%5B1%5D%5Bsearch%5D%5Bvalue%5D=&columns%5B1%5D%5Bsearch%5D%5Bregex%5D=false&columns%5B2%5D%5Bdata%5D=2&columns%5B2%5D%5Bname%5D=&columns%5B2%5D%5Bsearchable%5D=true&columns%5B2%5D%5Borderable%5D=true&columns%5B2%5D%5Bsearch%5D%5Bvalue%5D=&columns%5B2%5D%5Bsearch%5D%5Bregex%5D=false&columns%5B3%5D%5Bdata%5D=3&columns%5B3%5D%5Bname%5D=&columns%5B3%5D%5Bsearchable%5D=true&columns%5B3%5D%5Borderable%5D=true&columns%5B3%5D%5Bsearch%5D%5Bvalue%5D=&columns%5B3%5D%5Bsearch%5D%5Bregex%5D=false&columns%5B4%5D%5Bdata%5D=4&columns%5B4%5D%5Bname%5D=&columns%5B4%5D%5Bsearchable%5D=true&columns%5B4%5D%5Borderable%5D=true&columns%5B4%5D%5Bsearch%5D%5Bvalue%5D=&columns%5B4%5D%5Bsearch%5D%5Bregex%5D=false&columns%5B5%5D%5Bdata%5D=5&columns%5B5%5D%5Bname%5D=&columns%5B5%5D%5Bsearchable%5D=true&columns%5B5%5D%5Borderable%5D=true&columns%5B5%5D%5Bsearch%5D%5Bvalue%5D=&columns%5B5%5D%5Bsearch%5D%5Bregex%5D=false&columns%5B6%5D%5Bdata%5D=6&columns%5B6%5D%5Bname%5D=&columns%5B6%5D%5Bsearchable%5D=true&columns%5B6%5D%5Borderable%5D=false&columns%5B6%5D%5Bsearch%5D%5Bvalue%5D=&columns%5B6%5D%5Bsearch%5D%5Bregex%5D=false&columns%5B7%5D%5Bdata%5D=7&columns%5B7%5D%5Bname%5D=&columns%5B7%5D%5Bsearchable%5D=true&columns%5B7%5D%5Borderable%5D=false&columns%5B7%5D%5Bsearch%5D%5Bvalue%5D=&columns%5B7%5D%5Bsearch%5D%5Bregex%5D=false&start=0&length=500&search%5Bvalue%5D=&search%5Bregex%5D=false&_drupal_ajax=1&_wrapper_format=drupal_ajax&pager_element=0&view_args=&view_base_path=safety%2Frecalls-market-withdrawals-safety-alerts%2Fdatatables-data&view_display_id=recall_datatable_block_1&view_dom_id=2901ee938b3ff31873e0ab0bbfdc6806d270f41acf3ebc96bd0b4de449c4d045&view_name=recall_solr_index&view_path=%2Fsafety%2Frecalls-market-withdrawals-safety-alerts&total_items=990&_=1693102270051'"
      ]
     },
     "execution_count": 20,
     "metadata": {},
     "output_type": "execute_result"
    }
   ],
   "source": [
    "url"
   ]
  },
  {
   "cell_type": "code",
   "execution_count": null,
   "id": "842e36db",
   "metadata": {},
   "outputs": [],
   "source": []
  },
  {
   "cell_type": "code",
   "execution_count": 3,
   "id": "706690f6",
   "metadata": {},
   "outputs": [],
   "source": [
    "response = requests.get(url)"
   ]
  },
  {
   "cell_type": "code",
   "execution_count": 4,
   "id": "482cd631",
   "metadata": {},
   "outputs": [
    {
     "data": {
      "text/plain": [
       "<Response [200]>"
      ]
     },
     "execution_count": 4,
     "metadata": {},
     "output_type": "execute_result"
    }
   ],
   "source": [
    "response"
   ]
  },
  {
   "cell_type": "code",
   "execution_count": null,
   "id": "b7aee3e3",
   "metadata": {},
   "outputs": [],
   "source": [
    "# response.json()"
   ]
  },
  {
   "cell_type": "code",
   "execution_count": 15,
   "id": "9141bb57",
   "metadata": {},
   "outputs": [],
   "source": [
    "# response.json()['data'][0]"
   ]
  },
  {
   "cell_type": "code",
   "execution_count": 5,
   "id": "7f70a7eb",
   "metadata": {},
   "outputs": [],
   "source": [
    "# from json record list, parse the fields and return a dictionary\n",
    "def parse_json_data(record):\n",
    "    \n",
    "    soup_time = BeautifulSoup(record[0], 'html.parser')\n",
    "    soup_company = BeautifulSoup(record[1], 'html.parser')\n",
    "    \n",
    "    root_url = 'https://www.fda.gov'\n",
    "    \n",
    "    record_dict = {}\n",
    "    \n",
    "    record_dict['Time'] = soup_time.find('time').text\n",
    "    record_dict['Brand'] = soup_company.find('a').text\n",
    "    record_dict['URL'] = root_url + soup_company.find('a')['href']\n",
    "    record_dict['Product Description'] = record[2]\n",
    "    record_dict['Product Type'] = record[3]\n",
    "    record_dict['Recall Reason Description'] = record[4]\n",
    "    record_dict['Company'] = record[5]\n",
    "    \n",
    "    return record_dict"
   ]
  },
  {
   "cell_type": "code",
   "execution_count": 30,
   "id": "1408f3ab",
   "metadata": {},
   "outputs": [
    {
     "data": {
      "text/plain": [
       "{'Time': '08/26/2023',\n",
       " 'Brand': 'Dr. Berne’s',\n",
       " 'URL': 'https://www.fda.gov/safety/recalls-market-withdrawals-safety-alerts/dr-bernes-whole-health-products-issues-voluntary-nationwide-recall-dr-bernes-msm-drops-5-and-15',\n",
       " 'Product Description': 'MSM 5% Solution Eye Drops, MSM 15% Solution Eye Drops, Castor Oil Eye Drops; MSM MIST Drops 5% Solution',\n",
       " 'Product Type': 'Drugs',\n",
       " 'Recall Reason Description': 'Bacterial and Fungal Contamination',\n",
       " 'Company': 'Dr. Berne’s Whole Health Products'}"
      ]
     },
     "execution_count": 30,
     "metadata": {},
     "output_type": "execute_result"
    }
   ],
   "source": [
    "parse_json_data(response.json()['data'][0])"
   ]
  },
  {
   "cell_type": "code",
   "execution_count": 6,
   "id": "c7a86043",
   "metadata": {},
   "outputs": [],
   "source": [
    "record_container = []\n",
    "for record in response.json()['data']:\n",
    "    record_container.append(parse_json_data(record))"
   ]
  },
  {
   "cell_type": "code",
   "execution_count": 7,
   "id": "0ed1e714",
   "metadata": {},
   "outputs": [],
   "source": [
    "df = pd.DataFrame(record_container)"
   ]
  },
  {
   "cell_type": "code",
   "execution_count": 8,
   "id": "7c4797cf",
   "metadata": {},
   "outputs": [
    {
     "data": {
      "text/html": [
       "<div>\n",
       "<style scoped>\n",
       "    .dataframe tbody tr th:only-of-type {\n",
       "        vertical-align: middle;\n",
       "    }\n",
       "\n",
       "    .dataframe tbody tr th {\n",
       "        vertical-align: top;\n",
       "    }\n",
       "\n",
       "    .dataframe thead th {\n",
       "        text-align: right;\n",
       "    }\n",
       "</style>\n",
       "<table border=\"1\" class=\"dataframe\">\n",
       "  <thead>\n",
       "    <tr style=\"text-align: right;\">\n",
       "      <th></th>\n",
       "      <th>Time</th>\n",
       "      <th>Brand</th>\n",
       "      <th>URL</th>\n",
       "      <th>Product Description</th>\n",
       "      <th>Product Type</th>\n",
       "      <th>Recall Reason Description</th>\n",
       "      <th>Company</th>\n",
       "    </tr>\n",
       "  </thead>\n",
       "  <tbody>\n",
       "    <tr>\n",
       "      <th>0</th>\n",
       "      <td>09/01/2023</td>\n",
       "      <td>Merck Animal Health</td>\n",
       "      <td>https://www.fda.gov/safety/recalls-market-with...</td>\n",
       "      <td>Banamine; Banamine-S</td>\n",
       "      <td>Animal &amp;amp; Veterinary, Animal Drugs</td>\n",
       "      <td>Potential presence of particulate matter</td>\n",
       "      <td>Merck Animal Health</td>\n",
       "    </tr>\n",
       "    <tr>\n",
       "      <th>1</th>\n",
       "      <td>08/31/2023</td>\n",
       "      <td>Weis Quality</td>\n",
       "      <td>https://www.fda.gov/safety/recalls-market-with...</td>\n",
       "      <td>Brownie Moose Tracks Ice Cream</td>\n",
       "      <td>Food &amp;amp; Beverages, Allergens, Ice Cream/Fro...</td>\n",
       "      <td>Undeclared egg</td>\n",
       "      <td>Weis Markets Inc.</td>\n",
       "    </tr>\n",
       "    <tr>\n",
       "      <th>2</th>\n",
       "      <td>08/31/2023</td>\n",
       "      <td>Healthy Wiser and more</td>\n",
       "      <td>https://www.fda.gov/safety/recalls-market-with...</td>\n",
       "      <td>Test kits</td>\n",
       "      <td>Medical Devices</td>\n",
       "      <td>Due to lack of appropriate premarket clearance...</td>\n",
       "      <td>Universal Meditech Inc.</td>\n",
       "    </tr>\n",
       "    <tr>\n",
       "      <th>3</th>\n",
       "      <td>08/31/2023</td>\n",
       "      <td>Marlex Pharmaceuticals, Inc.</td>\n",
       "      <td>https://www.fda.gov/safety/recalls-market-with...</td>\n",
       "      <td>Digoxin Tablets USP, 0.125mg and 0.25mg</td>\n",
       "      <td>Drugs</td>\n",
       "      <td>Label Mix-Up</td>\n",
       "      <td>Marlex Pharmaceuticals, Inc.</td>\n",
       "    </tr>\n",
       "    <tr>\n",
       "      <th>4</th>\n",
       "      <td>08/30/2023</td>\n",
       "      <td>Todorganic Natural Products</td>\n",
       "      <td>https://www.fda.gov/safety/recalls-market-with...</td>\n",
       "      <td>Nuez De La India Seeds</td>\n",
       "      <td>Food &amp;amp; Beverages, Seeds</td>\n",
       "      <td>Possible Health Risk-Contain cardiac glycosides</td>\n",
       "      <td>Todorganic, Inc.</td>\n",
       "    </tr>\n",
       "    <tr>\n",
       "      <th>...</th>\n",
       "      <td>...</td>\n",
       "      <td>...</td>\n",
       "      <td>...</td>\n",
       "      <td>...</td>\n",
       "      <td>...</td>\n",
       "      <td>...</td>\n",
       "      <td>...</td>\n",
       "    </tr>\n",
       "    <tr>\n",
       "      <th>495</th>\n",
       "      <td>12/30/2021</td>\n",
       "      <td>Taro</td>\n",
       "      <td>https://www.fda.gov/safety/recalls-market-with...</td>\n",
       "      <td>Clobetasol Propionate</td>\n",
       "      <td>Drugs</td>\n",
       "      <td>Presence of Ralstonia pickettii bacteria</td>\n",
       "      <td>Taro Pharmaceuticals USA, Inc.</td>\n",
       "    </tr>\n",
       "    <tr>\n",
       "      <th>496</th>\n",
       "      <td>12/29/2021</td>\n",
       "      <td>Frozen Pacific Fusion Brand</td>\n",
       "      <td>https://www.fda.gov/safety/recalls-market-with...</td>\n",
       "      <td>Tuna steaks</td>\n",
       "      <td>Food &amp;amp; Beverages</td>\n",
       "      <td>Elevated levels of histamine</td>\n",
       "      <td>Relish Foods, Inc.</td>\n",
       "    </tr>\n",
       "    <tr>\n",
       "      <th>497</th>\n",
       "      <td>12/29/2021</td>\n",
       "      <td>Delizza</td>\n",
       "      <td>https://www.fda.gov/safety/recalls-market-with...</td>\n",
       "      <td>Cream Puffs</td>\n",
       "      <td>Food &amp;amp; Beverages</td>\n",
       "      <td>Possible presence of small metal fragements.</td>\n",
       "      <td>Poppies International, Inc.</td>\n",
       "    </tr>\n",
       "    <tr>\n",
       "      <th>498</th>\n",
       "      <td>12/29/2021</td>\n",
       "      <td>HAIFA SMOKED FISH</td>\n",
       "      <td>https://www.fda.gov/safety/recalls-market-with...</td>\n",
       "      <td>TURBOT COLD SMOKED</td>\n",
       "      <td>Food &amp;amp; Beverages</td>\n",
       "      <td>Potential for Listeria monocytogenes</td>\n",
       "      <td>HAIFA SMOKED FISH</td>\n",
       "    </tr>\n",
       "    <tr>\n",
       "      <th>499</th>\n",
       "      <td>12/28/2021</td>\n",
       "      <td>Sienna</td>\n",
       "      <td>https://www.fda.gov/safety/recalls-market-with...</td>\n",
       "      <td>Chocolate Decadent Brownies</td>\n",
       "      <td>Food &amp;amp; Beverages</td>\n",
       "      <td>Undeclared Tree Nut (Pecan)</td>\n",
       "      <td>Dianne&amp;#039;s Fine Desserts</td>\n",
       "    </tr>\n",
       "  </tbody>\n",
       "</table>\n",
       "<p>500 rows × 7 columns</p>\n",
       "</div>"
      ],
      "text/plain": [
       "           Time                         Brand  \\\n",
       "0    09/01/2023           Merck Animal Health   \n",
       "1    08/31/2023                  Weis Quality   \n",
       "2    08/31/2023        Healthy Wiser and more   \n",
       "3    08/31/2023  Marlex Pharmaceuticals, Inc.   \n",
       "4    08/30/2023   Todorganic Natural Products   \n",
       "..          ...                           ...   \n",
       "495  12/30/2021                          Taro   \n",
       "496  12/29/2021   Frozen Pacific Fusion Brand   \n",
       "497  12/29/2021                       Delizza   \n",
       "498  12/29/2021            HAIFA SMOKED FISH    \n",
       "499  12/28/2021                        Sienna   \n",
       "\n",
       "                                                   URL  \\\n",
       "0    https://www.fda.gov/safety/recalls-market-with...   \n",
       "1    https://www.fda.gov/safety/recalls-market-with...   \n",
       "2    https://www.fda.gov/safety/recalls-market-with...   \n",
       "3    https://www.fda.gov/safety/recalls-market-with...   \n",
       "4    https://www.fda.gov/safety/recalls-market-with...   \n",
       "..                                                 ...   \n",
       "495  https://www.fda.gov/safety/recalls-market-with...   \n",
       "496  https://www.fda.gov/safety/recalls-market-with...   \n",
       "497  https://www.fda.gov/safety/recalls-market-with...   \n",
       "498  https://www.fda.gov/safety/recalls-market-with...   \n",
       "499  https://www.fda.gov/safety/recalls-market-with...   \n",
       "\n",
       "                         Product Description  \\\n",
       "0                       Banamine; Banamine-S   \n",
       "1             Brownie Moose Tracks Ice Cream   \n",
       "2                                  Test kits   \n",
       "3    Digoxin Tablets USP, 0.125mg and 0.25mg   \n",
       "4                     Nuez De La India Seeds   \n",
       "..                                       ...   \n",
       "495                    Clobetasol Propionate   \n",
       "496                              Tuna steaks   \n",
       "497                              Cream Puffs   \n",
       "498                      TURBOT COLD SMOKED    \n",
       "499              Chocolate Decadent Brownies   \n",
       "\n",
       "                                          Product Type  \\\n",
       "0                Animal &amp; Veterinary, Animal Drugs   \n",
       "1    Food &amp; Beverages, Allergens, Ice Cream/Fro...   \n",
       "2                                      Medical Devices   \n",
       "3                                                Drugs   \n",
       "4                          Food &amp; Beverages, Seeds   \n",
       "..                                                 ...   \n",
       "495                                              Drugs   \n",
       "496                               Food &amp; Beverages   \n",
       "497                               Food &amp; Beverages   \n",
       "498                               Food &amp; Beverages   \n",
       "499                               Food &amp; Beverages   \n",
       "\n",
       "                             Recall Reason Description  \\\n",
       "0             Potential presence of particulate matter   \n",
       "1                                      Undeclared egg    \n",
       "2    Due to lack of appropriate premarket clearance...   \n",
       "3                                         Label Mix-Up   \n",
       "4      Possible Health Risk-Contain cardiac glycosides   \n",
       "..                                                 ...   \n",
       "495           Presence of Ralstonia pickettii bacteria   \n",
       "496                       Elevated levels of histamine   \n",
       "497       Possible presence of small metal fragements.   \n",
       "498               Potential for Listeria monocytogenes   \n",
       "499                        Undeclared Tree Nut (Pecan)   \n",
       "\n",
       "                            Company  \n",
       "0               Merck Animal Health  \n",
       "1                 Weis Markets Inc.  \n",
       "2          Universal Meditech Inc.   \n",
       "3      Marlex Pharmaceuticals, Inc.  \n",
       "4                  Todorganic, Inc.  \n",
       "..                              ...  \n",
       "495  Taro Pharmaceuticals USA, Inc.  \n",
       "496              Relish Foods, Inc.  \n",
       "497     Poppies International, Inc.  \n",
       "498              HAIFA SMOKED FISH   \n",
       "499     Dianne&#039;s Fine Desserts  \n",
       "\n",
       "[500 rows x 7 columns]"
      ]
     },
     "execution_count": 8,
     "metadata": {},
     "output_type": "execute_result"
    }
   ],
   "source": [
    "df"
   ]
  },
  {
   "cell_type": "code",
   "execution_count": 34,
   "id": "d4bc5498",
   "metadata": {},
   "outputs": [],
   "source": [
    "df.to_excel('FDA_latest_500_records.xlsx', index=False)"
   ]
  },
  {
   "cell_type": "code",
   "execution_count": null,
   "id": "a442df55",
   "metadata": {},
   "outputs": [],
   "source": []
  },
  {
   "cell_type": "code",
   "execution_count": null,
   "id": "a8b9c594",
   "metadata": {},
   "outputs": [],
   "source": []
  }
 ],
 "metadata": {
  "kernelspec": {
   "display_name": "Python 3 (ipykernel)",
   "language": "python",
   "name": "python3"
  },
  "language_info": {
   "codemirror_mode": {
    "name": "ipython",
    "version": 3
   },
   "file_extension": ".py",
   "mimetype": "text/x-python",
   "name": "python",
   "nbconvert_exporter": "python",
   "pygments_lexer": "ipython3",
   "version": "3.9.13"
  }
 },
 "nbformat": 4,
 "nbformat_minor": 5
}
