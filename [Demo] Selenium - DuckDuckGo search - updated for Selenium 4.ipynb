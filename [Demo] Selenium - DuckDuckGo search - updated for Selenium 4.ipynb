{
 "cells": [
  {
   "cell_type": "code",
   "execution_count": 1,
   "metadata": {},
   "outputs": [],
   "source": [
    "# !pip install selenium"
   ]
  },
  {
   "cell_type": "code",
   "execution_count": 2,
   "metadata": {},
   "outputs": [],
   "source": [
    "from selenium import webdriver\n",
    "from selenium.webdriver.common.keys import Keys\n",
    "from selenium.webdriver.common.by import By"
   ]
  },
  {
   "cell_type": "code",
   "execution_count": 16,
   "metadata": {},
   "outputs": [],
   "source": [
    "driver = webdriver.Chrome()\n",
    "driver.get(\"https://duckduckgo.com\")"
   ]
  },
  {
   "cell_type": "code",
   "execution_count": 17,
   "metadata": {},
   "outputs": [],
   "source": [
    "search_input = driver.find_element(By.ID, \"searchbox_input\")\n",
    "search_input.send_keys(\"HKU Space\")"
   ]
  },
  {
   "cell_type": "code",
   "execution_count": 18,
   "metadata": {},
   "outputs": [],
   "source": [
    "search_input.send_keys(Keys.ENTER)"
   ]
  },
  {
   "cell_type": "code",
   "execution_count": 20,
   "metadata": {},
   "outputs": [
    {
     "data": {
      "text/plain": [
       "'HKU SPACE - Part-time and Full-time Award-bearing, Professional, CEF ...'"
      ]
     },
     "execution_count": 20,
     "metadata": {},
     "output_type": "execute_result"
    }
   ],
   "source": [
    "result = driver.find_element(By.CLASS_NAME, 'wLL07_0Xnd1QZpzpfR4W')\n",
    "result.find_element(By.CLASS_NAME, 'EKtkFWMYpwzMKOYr0GYm').text"
   ]
  },
  {
   "cell_type": "code",
   "execution_count": 21,
   "metadata": {},
   "outputs": [
    {
     "name": "stdout",
     "output_type": "stream",
     "text": [
      "HKU SPACE - Part-time and Full-time Award-bearing, Professional, CEF ...\n",
      "Learner Portal (LP) - HKU SPACE - University of Hong Kong\n",
      "HKU School of Professional and Continuing Education\n",
      "Locations - HKU SPACE\n",
      "New Student Welcome Page - Admission - HKU SPACE\n",
      "Student Online Platform (Learner Portal) - HKU SPACE\n",
      "HKU SPACE IC - About Us - HKU SPACE International College\n",
      "HKU SPACE Central Authentication Service - University of Hong Kong\n",
      "Programmes - HKU SPACE International College\n",
      "Application Procedures - Admission - HKU SPACE Community College\n"
     ]
    }
   ],
   "source": [
    "results = driver.find_elements(By.CLASS_NAME, 'wLL07_0Xnd1QZpzpfR4W')\n",
    "for result in results:\n",
    "    print(result.find_element(By.CLASS_NAME, 'EKtkFWMYpwzMKOYr0GYm').text)\n"
   ]
  },
  {
   "cell_type": "code",
   "execution_count": 22,
   "metadata": {},
   "outputs": [],
   "source": [
    "driver.quit()"
   ]
  },
  {
   "cell_type": "code",
   "execution_count": null,
   "metadata": {},
   "outputs": [],
   "source": []
  }
 ],
 "metadata": {
  "kernelspec": {
   "display_name": "Python 3 (ipykernel)",
   "language": "python",
   "name": "python3"
  },
  "language_info": {
   "codemirror_mode": {
    "name": "ipython",
    "version": 3
   },
   "file_extension": ".py",
   "mimetype": "text/x-python",
   "name": "python",
   "nbconvert_exporter": "python",
   "pygments_lexer": "ipython3",
   "version": "3.9.13"
  },
  "varInspector": {
   "cols": {
    "lenName": "",
    "lenType": 16,
    "lenVar": 40
   },
   "kernels_config": {
    "python": {
     "delete_cmd_postfix": "",
     "delete_cmd_prefix": "del ",
     "library": "var_list.py",
     "varRefreshCmd": "print(var_dic_list())"
    },
    "r": {
     "delete_cmd_postfix": ") ",
     "delete_cmd_prefix": "rm(",
     "library": "var_list.r",
     "varRefreshCmd": "cat(var_dic_list()) "
    }
   },
   "types_to_exclude": [
    "module",
    "function",
    "builtin_function_or_method",
    "instance",
    "_Feature"
   ],
   "window_display": false
  }
 },
 "nbformat": 4,
 "nbformat_minor": 2
}
