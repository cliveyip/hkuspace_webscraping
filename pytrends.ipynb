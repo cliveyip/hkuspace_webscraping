{
 "cells": [
  {
   "cell_type": "code",
   "execution_count": 29,
   "id": "702f1eaa",
   "metadata": {},
   "outputs": [],
   "source": [
    "#!pip install pytrends"
   ]
  },
  {
   "cell_type": "code",
   "execution_count": 4,
   "id": "fac91a4e",
   "metadata": {},
   "outputs": [],
   "source": [
    "from pytrends.request import TrendReq"
   ]
  },
  {
   "cell_type": "code",
   "execution_count": 5,
   "id": "e12684fe",
   "metadata": {},
   "outputs": [],
   "source": [
    "# Only need to run this once, the rest of requests will use the same session.\n",
    "pytrend = TrendReq()"
   ]
  },
  {
   "cell_type": "code",
   "execution_count": 6,
   "id": "8e9c2c18",
   "metadata": {},
   "outputs": [
    {
     "name": "stdout",
     "output_type": "stream",
     "text": [
      "            Power BI  Python  isPartial\n",
      "date                                   \n",
      "2022-10-09         8      97      False\n",
      "2022-10-16         8      91      False\n",
      "2022-10-23         8      89      False\n",
      "2022-10-30         8      92      False\n",
      "2022-11-06         8      88      False\n",
      "2022-11-13         8      96      False\n",
      "2022-11-20         7      81      False\n",
      "2022-11-27         8      91      False\n",
      "2022-12-04         7      93      False\n",
      "2022-12-11         7      92       True\n"
     ]
    }
   ],
   "source": [
    "# Create payload and capture API tokens. Only needed for interest_over_time(), interest_by_region() & related_queries()\n",
    "pytrend.build_payload(kw_list=['Power BI', 'Python'])\n",
    "\n",
    "# Interest Over Time\n",
    "interest_over_time_df = pytrend.interest_over_time()\n",
    "print(interest_over_time_df.tail(10))\n"
   ]
  },
  {
   "cell_type": "code",
   "execution_count": 22,
   "id": "eb95b99f",
   "metadata": {},
   "outputs": [
    {
     "data": {
      "text/html": [
       "<div>\n",
       "<style scoped>\n",
       "    .dataframe tbody tr th:only-of-type {\n",
       "        vertical-align: middle;\n",
       "    }\n",
       "\n",
       "    .dataframe tbody tr th {\n",
       "        vertical-align: top;\n",
       "    }\n",
       "\n",
       "    .dataframe thead th {\n",
       "        text-align: right;\n",
       "    }\n",
       "</style>\n",
       "<table border=\"1\" class=\"dataframe\">\n",
       "  <thead>\n",
       "    <tr style=\"text-align: right;\">\n",
       "      <th></th>\n",
       "      <th>Power BI</th>\n",
       "      <th>Python</th>\n",
       "    </tr>\n",
       "    <tr>\n",
       "      <th>geoName</th>\n",
       "      <th></th>\n",
       "      <th></th>\n",
       "    </tr>\n",
       "  </thead>\n",
       "  <tbody>\n",
       "    <tr>\n",
       "      <th>Argentina</th>\n",
       "      <td>13</td>\n",
       "      <td>87</td>\n",
       "    </tr>\n",
       "    <tr>\n",
       "      <th>Australia</th>\n",
       "      <td>15</td>\n",
       "      <td>85</td>\n",
       "    </tr>\n",
       "    <tr>\n",
       "      <th>Austria</th>\n",
       "      <td>6</td>\n",
       "      <td>94</td>\n",
       "    </tr>\n",
       "    <tr>\n",
       "      <th>Bangladesh</th>\n",
       "      <td>3</td>\n",
       "      <td>97</td>\n",
       "    </tr>\n",
       "    <tr>\n",
       "      <th>Belgium</th>\n",
       "      <td>11</td>\n",
       "      <td>89</td>\n",
       "    </tr>\n",
       "    <tr>\n",
       "      <th>...</th>\n",
       "      <td>...</td>\n",
       "      <td>...</td>\n",
       "    </tr>\n",
       "    <tr>\n",
       "      <th>Ukraine</th>\n",
       "      <td>3</td>\n",
       "      <td>97</td>\n",
       "    </tr>\n",
       "    <tr>\n",
       "      <th>United Arab Emirates</th>\n",
       "      <td>15</td>\n",
       "      <td>85</td>\n",
       "    </tr>\n",
       "    <tr>\n",
       "      <th>United Kingdom</th>\n",
       "      <td>10</td>\n",
       "      <td>90</td>\n",
       "    </tr>\n",
       "    <tr>\n",
       "      <th>United States</th>\n",
       "      <td>6</td>\n",
       "      <td>94</td>\n",
       "    </tr>\n",
       "    <tr>\n",
       "      <th>Vietnam</th>\n",
       "      <td>6</td>\n",
       "      <td>94</td>\n",
       "    </tr>\n",
       "  </tbody>\n",
       "</table>\n",
       "<p>63 rows × 2 columns</p>\n",
       "</div>"
      ],
      "text/plain": [
       "                      Power BI  Python\n",
       "geoName                               \n",
       "Argentina                   13      87\n",
       "Australia                   15      85\n",
       "Austria                      6      94\n",
       "Bangladesh                   3      97\n",
       "Belgium                     11      89\n",
       "...                        ...     ...\n",
       "Ukraine                      3      97\n",
       "United Arab Emirates        15      85\n",
       "United Kingdom              10      90\n",
       "United States                6      94\n",
       "Vietnam                      6      94\n",
       "\n",
       "[63 rows x 2 columns]"
      ]
     },
     "execution_count": 22,
     "metadata": {},
     "output_type": "execute_result"
    }
   ],
   "source": [
    "# Interest by Region\n",
    "interest_by_region_df = pytrend.interest_by_region()\n",
    "interest_by_region_df[interest_by_region_df['Python'] != 0]"
   ]
  },
  {
   "cell_type": "code",
   "execution_count": 8,
   "id": "d7075095",
   "metadata": {},
   "outputs": [
    {
     "name": "stdout",
     "output_type": "stream",
     "text": [
      "{'Power BI': {'top':                    query  value\n",
      "0       power bi desktop    100\n",
      "1           microsoft bi     85\n",
      "2     power bi microsoft     84\n",
      "3           dax power bi     83\n",
      "4                    dax     82\n",
      "5                powerbi     78\n",
      "6         power bi excel     76\n",
      "7      download power bi     75\n",
      "8        power bi report     70\n",
      "9   power query power bi     68\n",
      "10           power query     65\n",
      "11       filter power bi     62\n",
      "12    dashboard power bi     53\n",
      "13             dashboard     48\n",
      "14                   sql     44\n",
      "15       power bi server     38\n",
      "16      what is power bi     37\n",
      "17      power bi measure     37\n",
      "18       power bi slicer     34\n",
      "19        login power bi     31\n",
      "20      power bi tableau     30\n",
      "21       dax in power bi     30\n",
      "22               tableau     30\n",
      "23         power bi free     27\n",
      "24      power bi service     27, 'rising':                            query  value\n",
      "0             power bi dataflows   8350\n",
      "1     power bi paginated reports   2050\n",
      "2                power bi entrar   1750\n",
      "3   incremental refresh power bi   1550\n",
      "4                 power automate   1450\n",
      "5              linkedin learning    850\n",
      "6         power bi license types    600\n",
      "7               power bi tooltip    550\n",
      "8        power bi para que sirve    450\n",
      "9             power bi bookmarks    400\n",
      "10    curso de power bi gratuito    400\n",
      "11                udemy power bi    400\n",
      "12                         udemy    350\n",
      "13              o que é power bi    350\n",
      "14       power bi report builder    300\n",
      "15        power bi drill through    300\n",
      "16             power bi inloggen    250\n",
      "17                        python    250\n",
      "18               power bi python    250\n",
      "19       what is dax in power bi    250\n",
      "20            power bi full form    250\n",
      "21             curso de power bi    200\n",
      "22               cursos power bi    200\n",
      "23     what is power bi used for    200\n",
      "24                power bi curso    190}, 'Python': {'top':                 query  value\n",
      "0          python for    100\n",
      "1         python list     92\n",
      "2       python string     67\n",
      "3         python code     40\n",
      "4           python if     39\n",
      "5     python function     38\n",
      "6      python install     38\n",
      "7      list in python     37\n",
      "8              pandas     34\n",
      "9       pandas python     32\n",
      "10       python array     29\n",
      "11    python download     28\n",
      "12       print python     27\n",
      "13  python dictionary     26\n",
      "14     what is python     26\n",
      "15     python windows     25\n",
      "16      online python     24\n",
      "17       monty python     22\n",
      "18         python set     21\n",
      "19       python class     21\n",
      "20        json python     20\n",
      "21              numpy     20\n",
      "22        python time     19\n",
      "23         python pip     18\n",
      "24      python script     17, 'rising':                          query  value\n",
      "0                 google colab  15300\n",
      "1               joy of cooking   3700\n",
      "2                   python 3.7   2450\n",
      "3                       vscode   1750\n",
      "4                poetry python   1200\n",
      "5                replit python   1150\n",
      "6                       replit   1100\n",
      "7             python w3schools    850\n",
      "8       python compiler online    750\n",
      "9       python online compiler    750\n",
      "10                   w3schools    750\n",
      "11                 python venv    600\n",
      "12          visual studio code    550\n",
      "13                  hackerrank    400\n",
      "14            jupyter notebook    400\n",
      "15        data types in python    350\n",
      "16  python virtual environment    300\n",
      "17                    leetcode    300\n",
      "18             python compiler    300\n",
      "19                     jupyter    250\n",
      "20               zen of python    200\n",
      "21                      kaggle    200\n",
      "22                       udemy    200\n",
      "23                // in python    200\n",
      "24            pandas dataframe    200}}\n"
     ]
    }
   ],
   "source": [
    "# Related Queries, returns a dictionary of dataframes\n",
    "related_queries_dict = pytrend.related_queries()\n",
    "print(related_queries_dict)\n",
    "\n"
   ]
  },
  {
   "cell_type": "code",
   "execution_count": 9,
   "id": "c93d5a80",
   "metadata": {},
   "outputs": [
    {
     "name": "stdout",
     "output_type": "stream",
     "text": [
      "                    0\n",
      "0          Black Adam\n",
      "1            Mastodon\n",
      "2  Liverpool vs Milan\n",
      "3           Warhammer\n",
      "4               Japan\n"
     ]
    }
   ],
   "source": [
    "# Get Google Hot Trends data\n",
    "trending_searches_df = pytrend.trending_searches()\n",
    "print(trending_searches_df.head())\n",
    "\n"
   ]
  },
  {
   "cell_type": "code",
   "execution_count": 28,
   "id": "a5557231",
   "metadata": {},
   "outputs": [
    {
     "data": {
      "text/html": [
       "<div>\n",
       "<style scoped>\n",
       "    .dataframe tbody tr th:only-of-type {\n",
       "        vertical-align: middle;\n",
       "    }\n",
       "\n",
       "    .dataframe tbody tr th {\n",
       "        vertical-align: top;\n",
       "    }\n",
       "\n",
       "    .dataframe thead th {\n",
       "        text-align: right;\n",
       "    }\n",
       "</style>\n",
       "<table border=\"1\" class=\"dataframe\">\n",
       "  <thead>\n",
       "    <tr style=\"text-align: right;\">\n",
       "      <th></th>\n",
       "      <th>0</th>\n",
       "    </tr>\n",
       "  </thead>\n",
       "  <tbody>\n",
       "    <tr>\n",
       "      <th>0</th>\n",
       "      <td>曾志豪</td>\n",
       "    </tr>\n",
       "    <tr>\n",
       "      <th>1</th>\n",
       "      <td>東涌交通意外</td>\n",
       "    </tr>\n",
       "    <tr>\n",
       "      <th>2</th>\n",
       "      <td>消費券</td>\n",
       "    </tr>\n",
       "    <tr>\n",
       "      <th>3</th>\n",
       "      <td>陳慧琳</td>\n",
       "    </tr>\n",
       "    <tr>\n",
       "      <th>4</th>\n",
       "      <td>澳門入境</td>\n",
       "    </tr>\n",
       "    <tr>\n",
       "      <th>5</th>\n",
       "      <td>張敬軒</td>\n",
       "    </tr>\n",
       "    <tr>\n",
       "      <th>6</th>\n",
       "      <td>OPPO Find N2</td>\n",
       "    </tr>\n",
       "    <tr>\n",
       "      <th>7</th>\n",
       "      <td>澳門</td>\n",
       "    </tr>\n",
       "    <tr>\n",
       "      <th>8</th>\n",
       "      <td>國歌</td>\n",
       "    </tr>\n",
       "    <tr>\n",
       "      <th>9</th>\n",
       "      <td>莊正</td>\n",
       "    </tr>\n",
       "    <tr>\n",
       "      <th>10</th>\n",
       "      <td>新冠感冒</td>\n",
       "    </tr>\n",
       "    <tr>\n",
       "      <th>11</th>\n",
       "      <td>PCAOB</td>\n",
       "    </tr>\n",
       "    <tr>\n",
       "      <th>12</th>\n",
       "      <td>陳卓賢</td>\n",
       "    </tr>\n",
       "    <tr>\n",
       "      <th>13</th>\n",
       "      <td>月歌行</td>\n",
       "    </tr>\n",
       "    <tr>\n",
       "      <th>14</th>\n",
       "      <td>廖子妤</td>\n",
       "    </tr>\n",
       "    <tr>\n",
       "      <th>15</th>\n",
       "      <td>Tyson Yoshi</td>\n",
       "    </tr>\n",
       "    <tr>\n",
       "      <th>16</th>\n",
       "      <td>Epic Games</td>\n",
       "    </tr>\n",
       "    <tr>\n",
       "      <th>17</th>\n",
       "      <td>加息</td>\n",
       "    </tr>\n",
       "    <tr>\n",
       "      <th>18</th>\n",
       "      <td>Starbucks</td>\n",
       "    </tr>\n",
       "    <tr>\n",
       "      <th>19</th>\n",
       "      <td>梁鳳儀</td>\n",
       "    </tr>\n",
       "  </tbody>\n",
       "</table>\n",
       "</div>"
      ],
      "text/plain": [
       "               0\n",
       "0            曾志豪\n",
       "1         東涌交通意外\n",
       "2            消費券\n",
       "3            陳慧琳\n",
       "4           澳門入境\n",
       "5            張敬軒\n",
       "6   OPPO Find N2\n",
       "7             澳門\n",
       "8             國歌\n",
       "9             莊正\n",
       "10          新冠感冒\n",
       "11         PCAOB\n",
       "12           陳卓賢\n",
       "13           月歌行\n",
       "14           廖子妤\n",
       "15   Tyson Yoshi\n",
       "16    Epic Games\n",
       "17            加息\n",
       "18     Starbucks\n",
       "19           梁鳳儀"
      ]
     },
     "execution_count": 28,
     "metadata": {},
     "output_type": "execute_result"
    }
   ],
   "source": [
    "# Get Google Hot Trends data\n",
    "trending_searches_df = pytrend.trending_searches(pn='hong_kong')\n",
    "trending_searches_df"
   ]
  },
  {
   "cell_type": "code",
   "execution_count": null,
   "id": "ab4310cf",
   "metadata": {},
   "outputs": [],
   "source": [
    "# save today's google trend data (Hong Kong) to an excel file"
   ]
  },
  {
   "cell_type": "code",
   "execution_count": 26,
   "id": "a556fedc",
   "metadata": {},
   "outputs": [
    {
     "name": "stdout",
     "output_type": "stream",
     "text": [
      "2022-12-17\n"
     ]
    }
   ],
   "source": [
    "from datetime import datetime\n",
    "date_today = datetime.today().strftime('%Y-%m-%d')\n",
    "print(date_today)"
   ]
  },
  {
   "cell_type": "code",
   "execution_count": 27,
   "id": "58d64408",
   "metadata": {},
   "outputs": [],
   "source": [
    "trending_searches_df.to_excel('Google trends hk ' + date_today + '.xlsx')"
   ]
  },
  {
   "cell_type": "code",
   "execution_count": 19,
   "id": "ecf5f910",
   "metadata": {},
   "outputs": [
    {
     "name": "stdout",
     "output_type": "stream",
     "text": [
      "        title exploreQuery\n",
      "0        疫苗預約        疫苗 預約\n",
      "1        強制檢測        強制 檢測\n",
      "2   iPhone 14             \n",
      "3         烏克蘭             \n",
      "4        安倍晉三             \n",
      "5      URBTIX             \n",
      "6  MIRROR 演唱會             \n",
      "7        美麗戰場        美麗 戰場\n",
      "8        快速測試             \n",
      "9         李家超             \n"
     ]
    }
   ],
   "source": [
    "# Get Google Top Charts\n",
    "top_charts_df = pytrend.top_charts(2022, hl='en-US', tz=300, geo='HK')\n",
    "print(top_charts_df.head(10))"
   ]
  },
  {
   "cell_type": "code",
   "execution_count": 12,
   "id": "f7cc4815",
   "metadata": {},
   "outputs": [
    {
     "name": "stdout",
     "output_type": "stream",
     "text": [
      "       title exploreQuery\n",
      "0      消費券登記      消費 券 登記\n",
      "1         奧運             \n",
      "2       疫苗預約        疫苗 預約\n",
      "3  iPhone 13             \n",
      "4        梅艷芳             \n",
      "5        何詩蓓             \n",
      "6        張家朗             \n",
      "7       安心出行        安心 出行\n",
      "8       魷魚遊戲        魷魚 遊戲\n",
      "9        盧瀚霆     Anson Lo\n"
     ]
    }
   ],
   "source": [
    "# Get Google Top Charts\n",
    "top_charts_df = pytrend.top_charts(2021, hl='en-US', tz=300, geo='HK')\n",
    "print(top_charts_df.head(10))"
   ]
  },
  {
   "cell_type": "code",
   "execution_count": 13,
   "id": "d2fbd694",
   "metadata": {},
   "outputs": [
    {
     "name": "stdout",
     "output_type": "stream",
     "text": [
      "      title exploreQuery\n",
      "0      美國大選             \n",
      "1  HKTVmall             \n",
      "2       天文台             \n",
      "3    新型冠狀病毒     新型 冠狀 病毒\n",
      "4        口罩             \n",
      "5      Zoom             \n",
      "6       慶餘年         慶 餘年\n",
      "7   法證先鋒 IV     法 證 先鋒 4\n",
      "8     夫妻的世界      夫妻 的 世界\n",
      "9        百佳          百 佳\n"
     ]
    }
   ],
   "source": [
    "# Get Google Top Charts\n",
    "top_charts_df = pytrend.top_charts(2020, hl='en-US', tz=300, geo='HK')\n",
    "print(top_charts_df.head(10))"
   ]
  },
  {
   "cell_type": "code",
   "execution_count": 14,
   "id": "67a1e092",
   "metadata": {},
   "outputs": [
    {
     "name": "stdout",
     "output_type": "stream",
     "text": [
      "    title exploreQuery\n",
      "0      連登             \n",
      "1     黃心穎             \n",
      "2     皓鑭傳         皓 鑭傳\n",
      "3  Thanos             \n",
      "4     教育局             \n",
      "5     許志安             \n",
      "6    立場新聞             \n",
      "7      港鐵             \n",
      "8   區議會選舉             \n",
      "9     何君堯             \n"
     ]
    }
   ],
   "source": [
    "# Get Google Top Charts\n",
    "top_charts_df = pytrend.top_charts(2019, hl='en-US', tz=300, geo='HK')\n",
    "print(top_charts_df.head(10))"
   ]
  },
  {
   "cell_type": "code",
   "execution_count": 15,
   "id": "fed005a4",
   "metadata": {},
   "outputs": [
    {
     "name": "stdout",
     "output_type": "stream",
     "text": [
      "[{'mid': '/g/11df5dqgqd', 'title': 'Evarcity - Machine Learning | Artificial Intelligence | Data Science | Power BI Course in Bangalore', 'type': 'Educational institution in Bengaluru, India'}, {'mid': '/g/11b6tr8rzf', 'title': 'IT Corporate Training - Corporate Training in Advanced Excel, Power BI & DAX Courses in Mumbai', 'type': 'Topic'}]\n"
     ]
    }
   ],
   "source": [
    "\n",
    "# Get Google Keyword Suggestions\n",
    "suggestions_dict = pytrend.suggestions(keyword='Power BI Course')\n",
    "print(suggestions_dict)\n"
   ]
  },
  {
   "cell_type": "code",
   "execution_count": null,
   "id": "3100a7e3",
   "metadata": {},
   "outputs": [],
   "source": []
  }
 ],
 "metadata": {
  "kernelspec": {
   "display_name": "Python 3 (ipykernel)",
   "language": "python",
   "name": "python3"
  },
  "language_info": {
   "codemirror_mode": {
    "name": "ipython",
    "version": 3
   },
   "file_extension": ".py",
   "mimetype": "text/x-python",
   "name": "python",
   "nbconvert_exporter": "python",
   "pygments_lexer": "ipython3",
   "version": "3.9.13"
  },
  "varInspector": {
   "cols": {
    "lenName": "",
    "lenType": 16,
    "lenVar": 40
   },
   "kernels_config": {
    "python": {
     "delete_cmd_postfix": "",
     "delete_cmd_prefix": "del ",
     "library": "var_list.py",
     "varRefreshCmd": "print(var_dic_list())"
    },
    "r": {
     "delete_cmd_postfix": ") ",
     "delete_cmd_prefix": "rm(",
     "library": "var_list.r",
     "varRefreshCmd": "cat(var_dic_list()) "
    }
   },
   "types_to_exclude": [
    "module",
    "function",
    "builtin_function_or_method",
    "instance",
    "_Feature"
   ],
   "window_display": false
  }
 },
 "nbformat": 4,
 "nbformat_minor": 5
}
