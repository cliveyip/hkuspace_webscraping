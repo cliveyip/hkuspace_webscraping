{
 "cells": [
  {
   "cell_type": "code",
   "execution_count": 1,
   "id": "0ab7d7cd",
   "metadata": {},
   "outputs": [],
   "source": [
    "#import requests\n",
    "#rom bs4 import BeautifulSoup\n",
    "import pandas as pd\n"
   ]
  },
  {
   "cell_type": "code",
   "execution_count": 2,
   "id": "a5814519",
   "metadata": {
    "scrolled": true
   },
   "outputs": [],
   "source": [
    "#!pip install selenium\n",
    "from selenium import webdriver\n",
    "from selenium.webdriver.common.keys import Keys\n",
    "from selenium.webdriver.common.by import By"
   ]
  },
  {
   "cell_type": "code",
   "execution_count": 3,
   "id": "e4f63429",
   "metadata": {
    "scrolled": true
   },
   "outputs": [],
   "source": [
    "address = 'https://www.edr.hk/search-all'\n",
    "#url = requests.get(address)\n",
    "#print (url)\n",
    "#url.text"
   ]
  },
  {
   "cell_type": "code",
   "execution_count": 4,
   "id": "c5d05733",
   "metadata": {},
   "outputs": [],
   "source": [
    "#soup = BeautifulSoup(url.content, 'html.parser')\n",
    "#soup"
   ]
  },
  {
   "cell_type": "code",
   "execution_count": 5,
   "id": "f1b9cba5",
   "metadata": {
    "scrolled": true
   },
   "outputs": [],
   "source": [
    "#Selenium version; New Version\n",
    "from selenium.webdriver.chrome.service import Service\n",
    "s=Service(r\"./chromedriver.exe\")\n",
    "driver = webdriver.Chrome(service=s)\n",
    "\n",
    "driver.get(address)"
   ]
  },
  {
   "cell_type": "code",
   "execution_count": 6,
   "id": "4f04aa87",
   "metadata": {
    "scrolled": true
   },
   "outputs": [],
   "source": [
    "#Search general doctor only. May consider dentist, herbalists etc\n",
    "search_input = driver.find_element(\"id\", \"speciality\")\n",
    "search_input.send_keys(\"西醫-普通科\")"
   ]
  },
  {
   "cell_type": "markdown",
   "id": "d0eba26f",
   "metadata": {},
   "source": [
    "task 1 - scrape the table contents"
   ]
  },
  {
   "cell_type": "code",
   "execution_count": 12,
   "id": "484675d4",
   "metadata": {
    "scrolled": true
   },
   "outputs": [],
   "source": [
    "# table\n",
    "table = driver.find_element(By.CSS_SELECTOR, 'table.dataTable')"
   ]
  },
  {
   "cell_type": "code",
   "execution_count": 18,
   "id": "c351f178",
   "metadata": {},
   "outputs": [
    {
     "data": {
      "text/plain": [
       "'醫生姓名 性別 註冊專科 執業性質 地址 地區 電話'"
      ]
     },
     "execution_count": 18,
     "metadata": {},
     "output_type": "execute_result"
    }
   ],
   "source": [
    "# table header\n",
    "thead = table.find_element(By.CSS_SELECTOR, 'thead')\n",
    "thead.text"
   ]
  },
  {
   "cell_type": "code",
   "execution_count": 26,
   "id": "b0e26732",
   "metadata": {},
   "outputs": [
    {
     "data": {
      "text/plain": [
       "'李善章 Lee Shin Cheung 男醫生 西醫、普通科 私人執業接受醫療券 新界元朗安寧路51號地下 元朗 22745198\\n鄭寶儀 Cheng Po Yi, Priscilla 女醫生 西醫、普通科 私人執業 香港銅鑼灣軒尼詩道449號地庫全層 灣仔 28366288\\n鄭寶儀 Cheng Po Yi, Priscilla 女醫生 西醫、普通科 私人執業 九龍尖沙咀彌敦道132號美麗華廣場A座12樓1208-1209室 油尖旺 35778822\\n蔣瑤達 TSEUNG YIU TAT, SIMON 男醫生 西醫、普通科 私人執業接受醫療券 新界將軍澳日出康城首都6號舖 西貢 26686988\\n陳凱兒 CHAN HOI YEE 女醫生 西醫、普通科 私人執業接受醫療券 九龍旺角亞皆老街39-41號金山商業大廈8樓A室 油尖旺 23953906\\n黃惠陽 WONG WAI YEUNG 男醫生 西醫、普通科 私人執業 新界沙田希爾頓中心3樓37號舖 沙田 26953789\\n劉汝燊 LAU YU SUN 男醫生 西醫、普通科 私人執業 九龍深水埗大南街263號地下 深水埗 23876409\\n林詠榆 LAM VIVIAN 女醫生 西醫、普通科 私人執業接受醫療券 香港灣仔柯布連道2號修頓花園地下 灣仔 28348071\\n陳秋明 CHAN CHOW MING 男醫生 西醫、普通科 醫院管理局 九龍藍田啟田道99號地下藍田分科診所 觀塘 23462853\\n黃蘭芳 HWANG LAN FANG 女醫生 西醫、普通科 私人執業 新界荃灣川龍街58號龍華大廈2樓 荃灣 24146337\\n黃志剛 WONG GEE KONG 男醫生 西醫、普通科 私人執業 九龍觀塘協和街173號地下 觀塘 23415073\\n謝宗仁 Tse Chung Yan 男醫生 西醫、普通科 私人執業接受醫療券 九龍亞皆老街2C啟如商業大廈3樓2室 油尖旺 23963121\\n陳幼華 CHAN YAU WA 女醫生 西醫、普通科 私家醫院接受醫療券 九龍亞皆老街222號播道醫院 九龍城 27603421\\n應志輝 INNES FRANK KENNEDY 男醫生 西醫、普通科 私人執業 香港太子大廈501室 油尖旺 25238166\\n梁志豪 LEUNG CHI HO 男醫生 西醫、普通科 私人執業接受醫療券 新界元朗牡丹街合益廣場A62地舖基健醫療中心 元朗 24782000\\n梁強 LEUNG KEUNG 男醫生 西醫、普通科 私人執業接受醫療券有夜診 九龍觀塘協和街149號地舖高健醫務中心 觀塘 24823133\\n李尚賢 Li Sheung Yin 男醫生 西醫、普通科 私人執業接受醫療券 香港尖沙咀廣東道33號中港城5座15樓 油尖旺 21927022\\n蘇雲逸 Su Wan Yat 男醫生 西醫、普通科 私人執業接受醫療券 天水圍嘉湖新北江商場地下A114號鋪 北區 22051008\\n朱偉堅 CHU WAI KIN 男醫生 西醫、普通科 私人執業 九龍尖沙咀加連威老道2-6號愛賓商業大廈12 樓1208 室 油尖旺 36223881\\n黎柏頤 LAI PAK YEE 男醫生 西醫、普通科 私人執業接受醫療券 香港鰂魚涌英皇道1022號地下子建醫務所 東區 28110771'"
      ]
     },
     "execution_count": 26,
     "metadata": {},
     "output_type": "execute_result"
    }
   ],
   "source": [
    "# table body\n",
    "tbody = table.find_element(By.CSS_SELECTOR, 'tbody')\n",
    "tbody.text"
   ]
  },
  {
   "cell_type": "code",
   "execution_count": 27,
   "id": "41661616",
   "metadata": {},
   "outputs": [
    {
     "name": "stdout",
     "output_type": "stream",
     "text": [
      "李善章 Lee Shin Cheung 男醫生 西醫、普通科 私人執業接受醫療券 新界元朗安寧路51號地下 元朗 22745198\n",
      "鄭寶儀 Cheng Po Yi, Priscilla 女醫生 西醫、普通科 私人執業 香港銅鑼灣軒尼詩道449號地庫全層 灣仔 28366288\n",
      "鄭寶儀 Cheng Po Yi, Priscilla 女醫生 西醫、普通科 私人執業 九龍尖沙咀彌敦道132號美麗華廣場A座12樓1208-1209室 油尖旺 35778822\n",
      "蔣瑤達 TSEUNG YIU TAT, SIMON 男醫生 西醫、普通科 私人執業接受醫療券 新界將軍澳日出康城首都6號舖 西貢 26686988\n",
      "陳凱兒 CHAN HOI YEE 女醫生 西醫、普通科 私人執業接受醫療券 九龍旺角亞皆老街39-41號金山商業大廈8樓A室 油尖旺 23953906\n",
      "黃惠陽 WONG WAI YEUNG 男醫生 西醫、普通科 私人執業 新界沙田希爾頓中心3樓37號舖 沙田 26953789\n",
      "劉汝燊 LAU YU SUN 男醫生 西醫、普通科 私人執業 九龍深水埗大南街263號地下 深水埗 23876409\n",
      "林詠榆 LAM VIVIAN 女醫生 西醫、普通科 私人執業接受醫療券 香港灣仔柯布連道2號修頓花園地下 灣仔 28348071\n",
      "陳秋明 CHAN CHOW MING 男醫生 西醫、普通科 醫院管理局 九龍藍田啟田道99號地下藍田分科診所 觀塘 23462853\n",
      "黃蘭芳 HWANG LAN FANG 女醫生 西醫、普通科 私人執業 新界荃灣川龍街58號龍華大廈2樓 荃灣 24146337\n",
      "黃志剛 WONG GEE KONG 男醫生 西醫、普通科 私人執業 九龍觀塘協和街173號地下 觀塘 23415073\n",
      "謝宗仁 Tse Chung Yan 男醫生 西醫、普通科 私人執業接受醫療券 九龍亞皆老街2C啟如商業大廈3樓2室 油尖旺 23963121\n",
      "陳幼華 CHAN YAU WA 女醫生 西醫、普通科 私家醫院接受醫療券 九龍亞皆老街222號播道醫院 九龍城 27603421\n",
      "應志輝 INNES FRANK KENNEDY 男醫生 西醫、普通科 私人執業 香港太子大廈501室 油尖旺 25238166\n",
      "梁志豪 LEUNG CHI HO 男醫生 西醫、普通科 私人執業接受醫療券 新界元朗牡丹街合益廣場A62地舖基健醫療中心 元朗 24782000\n",
      "梁強 LEUNG KEUNG 男醫生 西醫、普通科 私人執業接受醫療券有夜診 九龍觀塘協和街149號地舖高健醫務中心 觀塘 24823133\n",
      "李尚賢 Li Sheung Yin 男醫生 西醫、普通科 私人執業接受醫療券 香港尖沙咀廣東道33號中港城5座15樓 油尖旺 21927022\n",
      "蘇雲逸 Su Wan Yat 男醫生 西醫、普通科 私人執業接受醫療券 天水圍嘉湖新北江商場地下A114號鋪 北區 22051008\n",
      "朱偉堅 CHU WAI KIN 男醫生 西醫、普通科 私人執業 九龍尖沙咀加連威老道2-6號愛賓商業大廈12 樓1208 室 油尖旺 36223881\n",
      "黎柏頤 LAI PAK YEE 男醫生 西醫、普通科 私人執業接受醫療券 香港鰂魚涌英皇道1022號地下子建醫務所 東區 28110771\n"
     ]
    }
   ],
   "source": [
    "# table row\n",
    "tr = tbody.find_elements(By.CSS_SELECTOR, 'tr')\n",
    "for row in tr:\n",
    "    print(row.text)"
   ]
  },
  {
   "cell_type": "code",
   "execution_count": 28,
   "id": "47f20b3c",
   "metadata": {},
   "outputs": [
    {
     "name": "stdout",
     "output_type": "stream",
     "text": [
      "\n",
      "李善章 Lee Shin Cheung\n",
      "男醫生\n",
      "西醫、普通科\n",
      "私人執業接受醫療券\n",
      "新界元朗安寧路51號地下\n",
      "元朗\n",
      "22745198\n"
     ]
    }
   ],
   "source": [
    "# table data cell element\n",
    "for td in tr[0].find_elements(By.CSS_SELECTOR, 'td'):\n",
    "    print(td.text)"
   ]
  },
  {
   "cell_type": "code",
   "execution_count": null,
   "id": "6d249a45",
   "metadata": {},
   "outputs": [],
   "source": [
    "todo - put these data into pandas dataframe"
   ]
  },
  {
   "cell_type": "markdown",
   "id": "7aaa881e",
   "metadata": {},
   "source": [
    "task 2 - next page button"
   ]
  },
  {
   "cell_type": "code",
   "execution_count": 30,
   "id": "5d8d144e",
   "metadata": {},
   "outputs": [],
   "source": [
    "# scrape the 'a' (link) inside the <li> (list item) element with class name = paginate_button and next\n",
    "button = driver.find_element(By.CSS_SELECTOR, 'li.paginate_button.next a')\n",
    "button.click()"
   ]
  },
  {
   "cell_type": "code",
   "execution_count": null,
   "id": "b8fd2ca4",
   "metadata": {},
   "outputs": [],
   "source": []
  },
  {
   "cell_type": "code",
   "execution_count": null,
   "id": "6a342391",
   "metadata": {},
   "outputs": [],
   "source": []
  }
 ],
 "metadata": {
  "kernelspec": {
   "display_name": "Python 3 (ipykernel)",
   "language": "python",
   "name": "python3"
  },
  "language_info": {
   "codemirror_mode": {
    "name": "ipython",
    "version": 3
   },
   "file_extension": ".py",
   "mimetype": "text/x-python",
   "name": "python",
   "nbconvert_exporter": "python",
   "pygments_lexer": "ipython3",
   "version": "3.9.13"
  }
 },
 "nbformat": 4,
 "nbformat_minor": 5
}
