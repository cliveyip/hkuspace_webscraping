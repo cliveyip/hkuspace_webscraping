{
 "cells": [
  {
   "cell_type": "code",
   "execution_count": null,
   "id": "be6def93",
   "metadata": {},
   "outputs": [],
   "source": [
    "Buffet price \n",
    "18 or above: 500\n",
    "12-17: 350\n",
    "3-11: 250\n",
    "2 or below: free"
   ]
  },
  {
   "cell_type": "code",
   "execution_count": 51,
   "id": "1a5d9d43",
   "metadata": {},
   "outputs": [],
   "source": [
    "# write a function that takes the age of a customer and returns the buffet price\n",
    "\n",
    "def buffet_price(age):\n",
    "    \n",
    "    # input validation - ensure age is a number between \n",
    "    try:\n",
    "        age = int(age)\n",
    "        if age > 150 or age < 0:\n",
    "            return 'Please enter a number between 0-150'\n",
    "    except:\n",
    "        return 'Please enter a number'\n",
    "          \n",
    "    # price calculation logic\n",
    "    if age >= 18:\n",
    "        price = 500\n",
    "    elif age >= 12:\n",
    "        price = 350\n",
    "    elif age >= 3:\n",
    "        price = 250\n",
    "    else:\n",
    "        price = 0\n",
    "        \n",
    "    return price"
   ]
  },
  {
   "cell_type": "code",
   "execution_count": 59,
   "id": "9d9f013a",
   "metadata": {},
   "outputs": [
    {
     "name": "stdout",
     "output_type": "stream",
     "text": [
      "500\n",
      "500\n",
      "350\n",
      "250\n",
      "0\n"
     ]
    }
   ],
   "source": [
    "# test your function\n",
    "\n",
    "print(buffet_price(65))  # expected output: 500\n",
    "print(buffet_price(18))  # expected output: 500\n",
    "print(buffet_price(17))  # expected output: 350\n",
    "print(buffet_price(3))  # expected output: 250\n",
    "print(buffet_price(2))  # expected output: 0"
   ]
  },
  {
   "cell_type": "code",
   "execution_count": 60,
   "id": "8aba7413",
   "metadata": {},
   "outputs": [
    {
     "name": "stdout",
     "output_type": "stream",
     "text": [
      "Please enter a number\n",
      "Please enter a number between 0-150\n",
      "Please enter a number between 0-150\n"
     ]
    }
   ],
   "source": [
    "# stretch task: write code to ensure the input age is a number between 0-150\n",
    "\n",
    "print(buffet_price('abc'))  # expected output: Please enter a number\n",
    "print(buffet_price('200'))  # Please enter a number between 0-150\n",
    "print(buffet_price('-1'))   # Please enter a number between 0-150"
   ]
  },
  {
   "cell_type": "code",
   "execution_count": null,
   "id": "45a1571c",
   "metadata": {},
   "outputs": [],
   "source": []
  },
  {
   "cell_type": "code",
   "execution_count": 58,
   "id": "12c98b75",
   "metadata": {},
   "outputs": [
    {
     "name": "stdout",
     "output_type": "stream",
     "text": [
      "18\n"
     ]
    },
    {
     "data": {
      "text/plain": [
       "500"
      ]
     },
     "execution_count": 58,
     "metadata": {},
     "output_type": "execute_result"
    }
   ],
   "source": [
    "buffet_price(input())"
   ]
  },
  {
   "cell_type": "code",
   "execution_count": null,
   "id": "f46ad85c",
   "metadata": {},
   "outputs": [],
   "source": []
  }
 ],
 "metadata": {
  "kernelspec": {
   "display_name": "Python 3",
   "language": "python",
   "name": "python3"
  },
  "language_info": {
   "codemirror_mode": {
    "name": "ipython",
    "version": 3
   },
   "file_extension": ".py",
   "mimetype": "text/x-python",
   "name": "python",
   "nbconvert_exporter": "python",
   "pygments_lexer": "ipython3",
   "version": "3.8.8"
  },
  "varInspector": {
   "cols": {
    "lenName": "",
    "lenType": 16,
    "lenVar": 40
   },
   "kernels_config": {
    "python": {
     "delete_cmd_postfix": "",
     "delete_cmd_prefix": "del ",
     "library": "var_list.py",
     "varRefreshCmd": "print(var_dic_list())"
    },
    "r": {
     "delete_cmd_postfix": ") ",
     "delete_cmd_prefix": "rm(",
     "library": "var_list.r",
     "varRefreshCmd": "cat(var_dic_list()) "
    }
   },
   "types_to_exclude": [
    "module",
    "function",
    "builtin_function_or_method",
    "instance",
    "_Feature"
   ],
   "window_display": false
  }
 },
 "nbformat": 4,
 "nbformat_minor": 5
}
