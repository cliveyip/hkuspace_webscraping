{
 "cells": [
  {
   "cell_type": "code",
   "execution_count": 21,
   "metadata": {},
   "outputs": [
    {
     "name": "stdout",
     "output_type": "stream",
     "text": [
      "Defaulting to user installation because normal site-packages is not writeable\n",
      "Requirement already satisfied: selenium in c:\\users\\student\\appdata\\roaming\\python\\python39\\site-packages (4.6.0)\n",
      "Requirement already satisfied: certifi>=2021.10.8 in c:\\programdata\\anaconda3\\lib\\site-packages (from selenium) (2022.9.14)\n",
      "Requirement already satisfied: trio~=0.17 in c:\\users\\student\\appdata\\roaming\\python\\python39\\site-packages (from selenium) (0.22.0)\n",
      "Requirement already satisfied: urllib3[socks]~=1.26 in c:\\programdata\\anaconda3\\lib\\site-packages (from selenium) (1.26.11)\n",
      "Requirement already satisfied: trio-websocket~=0.9 in c:\\users\\student\\appdata\\roaming\\python\\python39\\site-packages (from selenium) (0.9.2)\n",
      "Requirement already satisfied: sniffio in c:\\programdata\\anaconda3\\lib\\site-packages (from trio~=0.17->selenium) (1.2.0)\n",
      "Requirement already satisfied: outcome in c:\\users\\student\\appdata\\roaming\\python\\python39\\site-packages (from trio~=0.17->selenium) (1.2.0)\n",
      "Requirement already satisfied: attrs>=19.2.0 in c:\\programdata\\anaconda3\\lib\\site-packages (from trio~=0.17->selenium) (21.4.0)\n",
      "Requirement already satisfied: sortedcontainers in c:\\programdata\\anaconda3\\lib\\site-packages (from trio~=0.17->selenium) (2.4.0)\n",
      "Requirement already satisfied: idna in c:\\programdata\\anaconda3\\lib\\site-packages (from trio~=0.17->selenium) (3.3)\n",
      "Requirement already satisfied: exceptiongroup>=1.0.0rc9 in c:\\users\\student\\appdata\\roaming\\python\\python39\\site-packages (from trio~=0.17->selenium) (1.0.4)\n",
      "Requirement already satisfied: async-generator>=1.9 in c:\\users\\student\\appdata\\roaming\\python\\python39\\site-packages (from trio~=0.17->selenium) (1.10)\n",
      "Requirement already satisfied: cffi>=1.14 in c:\\programdata\\anaconda3\\lib\\site-packages (from trio~=0.17->selenium) (1.15.1)\n",
      "Requirement already satisfied: wsproto>=0.14 in c:\\users\\student\\appdata\\roaming\\python\\python39\\site-packages (from trio-websocket~=0.9->selenium) (1.2.0)\n",
      "Requirement already satisfied: PySocks!=1.5.7,<2.0,>=1.5.6 in c:\\programdata\\anaconda3\\lib\\site-packages (from urllib3[socks]~=1.26->selenium) (1.7.1)\n",
      "Requirement already satisfied: pycparser in c:\\programdata\\anaconda3\\lib\\site-packages (from cffi>=1.14->trio~=0.17->selenium) (2.21)\n",
      "Requirement already satisfied: h11<1,>=0.9.0 in c:\\users\\student\\appdata\\roaming\\python\\python39\\site-packages (from wsproto>=0.14->trio-websocket~=0.9->selenium) (0.14.0)\n"
     ]
    }
   ],
   "source": [
    "!pip install selenium"
   ]
  },
  {
   "cell_type": "code",
   "execution_count": 22,
   "metadata": {},
   "outputs": [],
   "source": [
    "from selenium import webdriver\n",
    "from selenium.webdriver.common.keys import Keys\n",
    "from selenium.webdriver.common.by import By"
   ]
  },
  {
   "cell_type": "code",
   "execution_count": 23,
   "metadata": {},
   "outputs": [
    {
     "name": "stderr",
     "output_type": "stream",
     "text": [
      "C:\\Users\\student\\AppData\\Local\\Temp\\ipykernel_2664\\2629395264.py:1: DeprecationWarning: executable_path has been deprecated, please pass in a Service object\n",
      "  driver = webdriver.Chrome(executable_path=\"./chromedriver.exe\")\n"
     ]
    }
   ],
   "source": [
    "driver = webdriver.Chrome(executable_path=\"./chromedriver.exe\")\n",
    "driver.get(\"https://duckduckgo.com\")"
   ]
  },
  {
   "cell_type": "code",
   "execution_count": 24,
   "metadata": {},
   "outputs": [],
   "source": [
    "search_input = driver.find_element(\"id\", \"search_form_input_homepage\")\n",
    "search_input.send_keys(\"HKU Space\")"
   ]
  },
  {
   "cell_type": "code",
   "execution_count": 25,
   "metadata": {},
   "outputs": [],
   "source": [
    "search_input.send_keys(Keys.ENTER)"
   ]
  },
  {
   "cell_type": "code",
   "execution_count": 26,
   "metadata": {},
   "outputs": [
    {
     "name": "stdout",
     "output_type": "stream",
     "text": [
      "https://www.hkuspace.hku.hk\n",
      "HKU SPACE - Part-time and Full-time Award-bearing, Professional, CEF ...\n",
      "An extension of the University of Hong Kong. Provides Full-time and Part-time courses ranging from short courses, professional courses, certificate, bachelor, master to doctoral programmes\n",
      "Study\n",
      "Find programmes by mode of study, study levels and subjects. Learn about admission and learns support.\n",
      "Interest\n",
      "Transforming interest to self-enrichment and career advancement is the joy of life.\n",
      "International\n",
      "HKU SPACE is the place where I found my passion for design. Ms LUK Ka Wai Cynthia, Bachelor of Arts (Honours) Graphic Design, Middlesex University London. Engaging in a Bachelor Degree study is the best self-development which to meet the demand of aviation industry for my future prospects. This programme provides Australia's high quality ...\n",
      "China\n",
      "The School's Institute for China Business (ICB), established in February 2010 serves the needs of professional and senior executives in China by developing professional and executive education programmes in the Mainland and to training a new generation of corporate leaders for China.\n",
      "Discover\n",
      "Discover - HKU SPACE - Part-time and Full-time Award-bearing, Professional, CEF ...\n",
      "Connect\n",
      "Connect - HKU SPACE - Part-time and Full-time Award-bearing, Professional, CEF ...\n",
      "https://www2.hkuspace.hku.hk › cc › about-us › about-the-college\n",
      "About the College - About Us - HKU SPACE Community College\n",
      "Established to provide quality sub-degree education for Secondary School graduates, HKU SPACE Community College has gained extensive popularity and high recognition in the community. Founded in 2000 as Hong Kong's premier community college, the College offers a comprehensive range of award-bearing programmes in different disciplines.\n",
      "https://www.alumni.hku.hk › hku-space\n",
      "HKU SPACE - HKU Alumni Office\n",
      "HKU School of Professional and Continuing Education. 10% discount on consultation fee and prescribed Chinese medicines at the SPACE Chinese Medicine Clinics at Admiralty (2/F & 3/F Admiralty Centre, 18 Harcourt Road, Admiralty, Hong Kong) and Kowloon West Campus (38-46 Nassau Street, Mei Foo Sun Chuen, Kowloon)\n",
      "https://www2.hkuspace.hku.hk › cc › programme › diploma-in-foundation-studies\n",
      "Programmes - HKU SPACE Community College\n",
      "Diploma in Foundation Studies. Programme Code: CC 001 3416 6338 2305 5315 dfs@hkuspace.hku.hk. General Information. Programme Structure. Students' Stories.\n",
      "https://www1.hkuspace.hku.hk › cc › about-us › about-the-college › our-campuses\n",
      "Our Campuses - About the College - About Us - HKU SPACE\n",
      "The HKU SPACE Community College campus at Kowloon Bay provides a relaxed and supportive environment for students to learn, socialize and challenge yourself. Conveniently located near the Kowloon Bay MTR station, this 13-storey building offers 50 classrooms of various sizes. The entire campus is also designed to be environmentally-friendly, with ...\n",
      "https://en.wikipedia.org › wiki › HKU_School_of_Professional_and_Continuing_Education\n",
      "HKU School of Professional and Continuing Education\n",
      "The HKU School of Professional and Continuing Education ( HKU SPACE) is a private post-secondary education institution in Hong Kong. The School is a private subsidiary of the publicly funded University of Hong Kong. The School specializes in professional education, as well as providing degree-awarding courses in partnership with overseas ...\n",
      "https://learner.hkuspace.hku.hk › lp › respportal › moreNews.php?articleID=19774\n",
      "Learner Portal (LP) - HKU SPACE\n",
      "May 30, 2022HKU SPACE follows HKU policy which aligns with the Government's Vaccine Pass policy and introduced the HKU SPACE Vaccine Pass and Campus Access with various infection control measures to safeguard our health against the COVID-19 pandemic. Starting from 31 May 2022 (Phase Three), persons aged 12 or above who have taken the second dose for more ...\n",
      "https://www1.hkuspace.hku.hk › cc › admission › new-student-welcome-page › student-cards\n",
      "Student Cards - New Student Welcome Page - Admission - HKU SPACE ...\n",
      "New students are required to upload a digital photo to the College's online system for the issuance of student cards. Upon payment of the first instalment of tuition fee (i.e. Registration Fee AND Balance Payment), students can upload a digital photo to the Photo Submission System via iEnrol by 22 August 2022 (Photos submitted after the ...\n",
      "https://hkuspace.zoom.us\n",
      "Zoom - Video Conferencing, Web Conferencing, Online Meetings, Screen ...\n",
      "Zoom unifies cloud video conferencing, simple online meetings, and cross platform group chat into one easy-to-use platform. Our solution offers the best video, audio, and screen-sharing experience across Zoom Rooms, Windows, Mac, iOS, Android, and H.323/SIP room systems.\n",
      "https://www.london.ac.uk › ways-study › hku-school-professional-and-continuing-education-hku-space\n",
      "HKU School of Professional and Continuing Education (HKU SPACE ...\n",
      "In 1992, it was renamed as the School of Professional and Continuing Education (HKU SPACE). HKU has a recognised role in lifelong learning and, as the continuing education arm of the University, HKU SPACE fulfils this part of the University's mission by providing learning opportunities for personal, professional and career advancement for ...\n",
      "Searches related to HKU Space\n",
      "hku space soul\n",
      "hku space cc\n",
      "hku space learner portal\n",
      "hku space admiralty\n",
      "hku space program\n",
      "hku space community college\n",
      "hku space intranet\n",
      "hku space soul 2.0\n",
      "More Results\n"
     ]
    }
   ],
   "source": [
    "results = driver.find_element(By.CLASS_NAME, 'results')\n",
    "print(results.text)"
   ]
  },
  {
   "cell_type": "code",
   "execution_count": 27,
   "metadata": {},
   "outputs": [],
   "source": [
    "driver.close()"
   ]
  },
  {
   "cell_type": "code",
   "execution_count": null,
   "metadata": {},
   "outputs": [],
   "source": []
  }
 ],
 "metadata": {
  "kernelspec": {
   "display_name": "Python 3 (ipykernel)",
   "language": "python",
   "name": "python3"
  },
  "language_info": {
   "codemirror_mode": {
    "name": "ipython",
    "version": 3
   },
   "file_extension": ".py",
   "mimetype": "text/x-python",
   "name": "python",
   "nbconvert_exporter": "python",
   "pygments_lexer": "ipython3",
   "version": "3.9.13"
  },
  "varInspector": {
   "cols": {
    "lenName": "",
    "lenType": 16,
    "lenVar": 40
   },
   "kernels_config": {
    "python": {
     "delete_cmd_postfix": "",
     "delete_cmd_prefix": "del ",
     "library": "var_list.py",
     "varRefreshCmd": "print(var_dic_list())"
    },
    "r": {
     "delete_cmd_postfix": ") ",
     "delete_cmd_prefix": "rm(",
     "library": "var_list.r",
     "varRefreshCmd": "cat(var_dic_list()) "
    }
   },
   "types_to_exclude": [
    "module",
    "function",
    "builtin_function_or_method",
    "instance",
    "_Feature"
   ],
   "window_display": false
  }
 },
 "nbformat": 4,
 "nbformat_minor": 2
}
