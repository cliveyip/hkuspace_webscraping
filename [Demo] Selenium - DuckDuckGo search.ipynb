{
 "cells": [
  {
   "cell_type": "code",
   "execution_count": 25,
   "metadata": {},
   "outputs": [],
   "source": [
    "from selenium import webdriver\n",
    "from selenium.webdriver.common.keys import Keys"
   ]
  },
  {
   "cell_type": "code",
   "execution_count": 26,
   "metadata": {},
   "outputs": [],
   "source": [
    "driver = webdriver.Chrome(executable_path=\"./chromedriver.exe\")\n",
    "driver.get(\"https://duckduckgo.com\")"
   ]
  },
  {
   "cell_type": "code",
   "execution_count": 27,
   "metadata": {},
   "outputs": [],
   "source": [
    "search_input = driver.find_element_by_id(\"search_form_input_homepage\")\n",
    "search_input.send_keys(\"HKU Space\")"
   ]
  },
  {
   "cell_type": "code",
   "execution_count": 28,
   "metadata": {},
   "outputs": [],
   "source": [
    "search_input.send_keys(Keys.ENTER)"
   ]
  },
  {
   "cell_type": "code",
   "execution_count": 30,
   "metadata": {},
   "outputs": [
    {
     "name": "stdout",
     "output_type": "stream",
     "text": [
      "https://www.hkuspace.hku.hk\n",
      "HKU SPACE - Part-time and Full-time Award-bearing, Professional, CEF ...\n",
      "HKU SPACE - Part-time and Full-time Award-bearing, Professional, CEF and Short Courses. Announcement: Update on HKU SPACE Vaccine Pass and Campus Access (Phase Three from 31 May 2022) Details. 2 / 2.\n",
      "https://www2.hkuspace.hku.hk › cc › about-us › about-the-college\n",
      "About the College - About Us - HKU SPACE Community College\n",
      "Established to provide quality sub-degree education for Secondary School graduates, HKU SPACE Community College has gained extensive popularity and high recognition in the community. Founded in 2000 as Hong Kong's premier community college, the College offers a comprehensive range of award-bearing programmes in different disciplines.\n",
      "https://www.alumni.hku.hk › hku-space\n",
      "HKU SPACE - HKU Alumni Office\n",
      "HKU School of Professional and Continuing Education. 10% discount on consultation fee and prescribed Chinese medicines at the SPACE Chinese Medicine Clinics at Admiralty (2/F & 3/F Admiralty Centre, 18 Harcourt Road, Admiralty, Hong Kong) and Kowloon West Campus (38-46 Nassau Street, Mei Foo Sun Chuen, Kowloon)\n",
      "https://en.wikipedia.org › wiki › HKU_School_of_Professional_and_Continuing_Education\n",
      "HKU School of Professional and Continuing Education\n",
      "The HKU School of Professional and Continuing Education ( HKU SPACE) is a private post-secondary education institution in Hong Kong. The School is a private subsidiary of the publicly funded University of Hong Kong. The School specializes in professional education, as well as providing degree-awarding courses in partnership with overseas ...\n",
      "https://www2.hkuspace.hku.hk › cc › admission\n",
      "Admission - HKU SPACE Community College\n",
      "HKU SPACE is a non-profit making University company limited by guarantee. HKU SPACE Community College Lee Shiu Building, 28 Wang Hoi Road, Kowloon Bay, Kowloon\n",
      "https://www.hkuspace-fpas.com\n",
      "Home | HKU SPACE FPAS\n",
      "Objectives. To provide the platform for communications and networking amongst members as well as provide opportunities for lifelong learning and career development; To help members to sharpen their knowledge and skills in financial planning; To cultivate a sense of belonging within HKU SPACE; To promote and enhance public understanding and ...\n",
      "https://admissions.hku.hk › tpg › programme › master-science-field-space-science\n",
      "Master of Science in the field of Space Science\n",
      "The Department of Physics is offering an exciting Taught Postgraduate Master of Science in the field of Space Science. Modern Space Science is a highly multi-disciplinary field that encompasses a broad range of sub-disciplines, from astrophysics, to aerospace engineering, electronics, remote sensing, and space exploration.\n",
      "https://hkuspace.zoom.us\n",
      "Video Conferencing, Web Conferencing, Online Meetings, Screen ... - Zoom\n",
      "Zoom unifies cloud video conferencing, simple online meetings, and cross platform group chat into one easy-to-use platform. Our solution offers the best video, audio, and screen-sharing experience across Zoom Rooms, Windows, Mac, iOS, Android, and H.323/SIP room systems.\n",
      "https://www.linkedin.com › school › hku-space\n",
      "HKU SPACE Employees, Location, Alumni | LinkedIn\n",
      "HKU SPACE. 7,309 followers. 2w. Report this post. Certificate in Japanese (Introductory) is designed for Japanese beginners. Starting from Japanese alphabets, you will study basic vocabularies ...\n",
      "https://alumni.hkuspace.hku.hk › services › services\n",
      "HKU SPACE Alumni - Volunteer Services\n",
      "HKU SPACE Volunteers: the idea behind. Social responsibility is important to many organizations and even individuals today. To realise our motto \"We Learn to Serve\", the ALUMNI has established HKU SPACE Volunteers to encourage alumni to engage in community work. You can now serve the community and help the needy directly by becoming a volunteer ...\n",
      "Searches related to HKU Space\n",
      "hku space intranet\n",
      "hku space admiralty\n",
      "hku space learner portal\n",
      "hku space soul\n",
      "hku space cc\n",
      "hku space program\n",
      "hku space portal\n",
      "hku space course\n",
      "More Results\n"
     ]
    }
   ],
   "source": [
    "results = driver.find_element_by_class_name('results')\n",
    "print(results.text)"
   ]
  },
  {
   "cell_type": "code",
   "execution_count": 31,
   "metadata": {},
   "outputs": [],
   "source": [
    "driver.close()"
   ]
  },
  {
   "cell_type": "code",
   "execution_count": null,
   "metadata": {},
   "outputs": [],
   "source": []
  }
 ],
 "metadata": {
  "kernelspec": {
   "display_name": "Python 3",
   "language": "python",
   "name": "python3"
  },
  "language_info": {
   "codemirror_mode": {
    "name": "ipython",
    "version": 3
   },
   "file_extension": ".py",
   "mimetype": "text/x-python",
   "name": "python",
   "nbconvert_exporter": "python",
   "pygments_lexer": "ipython3",
   "version": "3.8.8"
  },
  "varInspector": {
   "cols": {
    "lenName": "",
    "lenType": 16,
    "lenVar": 40
   },
   "kernels_config": {
    "python": {
     "delete_cmd_postfix": "",
     "delete_cmd_prefix": "del ",
     "library": "var_list.py",
     "varRefreshCmd": "print(var_dic_list())"
    },
    "r": {
     "delete_cmd_postfix": ") ",
     "delete_cmd_prefix": "rm(",
     "library": "var_list.r",
     "varRefreshCmd": "cat(var_dic_list()) "
    }
   },
   "types_to_exclude": [
    "module",
    "function",
    "builtin_function_or_method",
    "instance",
    "_Feature"
   ],
   "window_display": false
  }
 },
 "nbformat": 4,
 "nbformat_minor": 2
}
