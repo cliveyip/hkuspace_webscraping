{
 "cells": [
  {
   "cell_type": "raw",
   "id": "3aa9a088",
   "metadata": {},
   "source": [
    "In this exercise, you will replicate HKID check digit formula.\n",
    "You will given a list of HKIDs and you have to tell if the check digit is correct.\n",
    "Details about the formula can be found here:\n",
    "    https://computerterminal.blogspot.com/2013/02/hong-kong-id-formula-hkid-number-check.html"
   ]
  },
  {
   "cell_type": "code",
   "execution_count": null,
   "id": "c4162dc0",
   "metadata": {},
   "outputs": [],
   "source": []
  },
  {
   "cell_type": "code",
   "execution_count": 7,
   "id": "68f06ba9",
   "metadata": {},
   "outputs": [],
   "source": [
    "# only AB987654(3) and E364912(5) are correct HKIDs\n",
    "hkid_list = ['AB987654(3)', 'AB987654(9)', 'E364912(5)', 'E364912(9)', 'E364912(5)    ', 'ABCD1234', 'HELLO']"
   ]
  },
  {
   "cell_type": "code",
   "execution_count": null,
   "id": "6e17b415",
   "metadata": {},
   "outputs": [],
   "source": []
  },
  {
   "cell_type": "markdown",
   "id": "66d83723",
   "metadata": {},
   "source": [
    "Functions"
   ]
  },
  {
   "cell_type": "code",
   "execution_count": 12,
   "id": "9d076503",
   "metadata": {},
   "outputs": [],
   "source": [
    "import re\n",
    "# use regular expressions to check if a string has a format that looks like a HKID\n",
    "# i.e. 1-2 letters followed by 6 numbers then a bracket and a number or 'A'\n",
    "\n",
    "def is_hkid(hkid):\n",
    "    x = re.search(\"[A-Z]{1,2}[0-9]{6}\\([A0-9]\\)\", str(hkid))\n",
    "    if x is None:\n",
    "        return False\n",
    "    else:\n",
    "        return True"
   ]
  },
  {
   "cell_type": "code",
   "execution_count": 13,
   "id": "f63d5fae",
   "metadata": {},
   "outputs": [
    {
     "name": "stdout",
     "output_type": "stream",
     "text": [
      "True\n",
      "True\n",
      "True\n",
      "True\n",
      "True\n",
      "False\n",
      "False\n"
     ]
    }
   ],
   "source": [
    "for hkid in hkid_list:\n",
    "    print(is_hkid(hkid))"
   ]
  },
  {
   "cell_type": "code",
   "execution_count": null,
   "id": "7076b0c7",
   "metadata": {},
   "outputs": [],
   "source": []
  },
  {
   "cell_type": "markdown",
   "id": "21b49242",
   "metadata": {},
   "source": [
    "TODO - complete the following functions:"
   ]
  },
  {
   "cell_type": "code",
   "execution_count": 2,
   "id": "e80249cc",
   "metadata": {},
   "outputs": [],
   "source": [
    "# this function gets the number inside the bracket of the hkid\n",
    "def get_last_digit_of_hkid(hkid):\n",
    "    return"
   ]
  },
  {
   "cell_type": "code",
   "execution_count": 3,
   "id": "ac9520a4",
   "metadata": {},
   "outputs": [],
   "source": [
    "# this funciton uses the first 2 letters and 6 numbers to calculate the check digit\n",
    "def hkid_to_check_digit(hkid):\n",
    "    return"
   ]
  },
  {
   "cell_type": "code",
   "execution_count": null,
   "id": "7685a64b",
   "metadata": {},
   "outputs": [],
   "source": []
  },
  {
   "cell_type": "markdown",
   "id": "9b87ce2a",
   "metadata": {},
   "source": [
    "Testing"
   ]
  },
  {
   "cell_type": "code",
   "execution_count": null,
   "id": "fc0b4a7d",
   "metadata": {},
   "outputs": [],
   "source": [
    "for hkid in hkid_list:\n",
    "    if is_hkid(hkid):\n",
    "        if hkid_to_check_digit(hkid) == get_last_digit_of_hkid(hkid):\n",
    "            print(hkid + ' has a correct check digit')\n",
    "        else:\n",
    "            print(hkid + ' has an incorrect check digit, the correct one should be: ' + hkid_to_check_digit(hkid))\n",
    "            \n",
    "    else:\n",
    "        print(hkid + ' is not a HKID.')"
   ]
  },
  {
   "cell_type": "code",
   "execution_count": null,
   "id": "62d7fc6c",
   "metadata": {},
   "outputs": [],
   "source": [
    "Expected output:\n",
    "    AB987654(3) has a correct check digit\n",
    "    AB987654(9) has an incorrect check digit, the correct one should be: 3\n",
    "    E364912(5) has a correct check digit\n",
    "    E364912(9) has an incorrect check digit, the correct one should be: 5\n",
    "    E364912(5)     has a correct check digit\n",
    "    ABCD1234 is not a HKID.\n",
    "    HELLO is not a HKID."
   ]
  }
 ],
 "metadata": {
  "kernelspec": {
   "display_name": "Python 3",
   "language": "python",
   "name": "python3"
  },
  "language_info": {
   "codemirror_mode": {
    "name": "ipython",
    "version": 3
   },
   "file_extension": ".py",
   "mimetype": "text/x-python",
   "name": "python",
   "nbconvert_exporter": "python",
   "pygments_lexer": "ipython3",
   "version": "3.8.8"
  },
  "varInspector": {
   "cols": {
    "lenName": "",
    "lenType": 16,
    "lenVar": 40
   },
   "kernels_config": {
    "python": {
     "delete_cmd_postfix": "",
     "delete_cmd_prefix": "del ",
     "library": "var_list.py",
     "varRefreshCmd": "print(var_dic_list())"
    },
    "r": {
     "delete_cmd_postfix": ") ",
     "delete_cmd_prefix": "rm(",
     "library": "var_list.r",
     "varRefreshCmd": "cat(var_dic_list()) "
    }
   },
   "types_to_exclude": [
    "module",
    "function",
    "builtin_function_or_method",
    "instance",
    "_Feature"
   ],
   "window_display": false
  }
 },
 "nbformat": 4,
 "nbformat_minor": 5
}
