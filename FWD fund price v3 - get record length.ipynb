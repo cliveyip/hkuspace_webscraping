{
 "cells": [
  {
   "cell_type": "code",
   "execution_count": 56,
   "id": "da6af217",
   "metadata": {},
   "outputs": [],
   "source": [
    "import requests\n",
    "import pandas as pd"
   ]
  },
  {
   "cell_type": "code",
   "execution_count": 57,
   "id": "d4659009",
   "metadata": {},
   "outputs": [],
   "source": [
    "def scrape(fundCode, categoryCode, limit):\n",
    "\n",
    "    url = 'https://1web.apse1.dgt.api.fwd.com/api/fund/price/historical'\n",
    "\n",
    "    payload= {\"market\":\"HK\",\"locale\":\"zh-CN\",\"offset\":0,\"limit\": limit,\"fundCode\": fundCode,\"categoryCode\": categoryCode}\n",
    "\n",
    "    headers={\n",
    "        \"accept\": \"application/json, text/plain, */*\",\n",
    "        \"accept-encoding\": \"gzip, deflate, br\",\n",
    "        \"accept-language\": \"zh-TW,zh;q=0.9,en-US;q=0.8,en;q=0.7\",\n",
    "        \"content-length\": \"92\",\n",
    "        \"origin\": \"https://www.fwd.com.hk\",\n",
    "        \"referer\": \"https://www.fwd.com.hk/\",\n",
    "        \"sec-ch-ua\": \"\\\"Chromium\\\";v=\\\"116\\\", \\\"Not)A;Brand\\\";v=\\\"24\\\", \\\"Google Chrome\\\";v=\\\"116\\\"\",\n",
    "        \"sec-ch-ua-mobile\": \"?0\",\n",
    "        \"sec-ch-ua-platform\": \"\\\"Windows\\\"\",\n",
    "        \"sec-fetch-dest\": \"empty\",\n",
    "        \"sec-fetch-mode\": \"cors\",\n",
    "        \"sec-fetch-site\": \"cross-site\",\n",
    "        \"user-agent\": \"Mozilla/5.0 (Windows NT 10.0; Win64; x64) AppleWebKit/537.36 (KHTML, like Gecko) Chrome/116.0.0.0 Safari/537.36\",\n",
    "    }\n",
    "\n",
    "    response = requests.post(url, json=payload, headers=headers)\n",
    "\n",
    "    return response\n"
   ]
  },
  {
   "cell_type": "code",
   "execution_count": 58,
   "id": "b2f40107",
   "metadata": {},
   "outputs": [],
   "source": [
    "# first request, scrape 10 items, just to get the total record count\n",
    "response = scrape('BGNE', 'VY', 10)"
   ]
  },
  {
   "cell_type": "code",
   "execution_count": 60,
   "id": "1c6f8d15",
   "metadata": {},
   "outputs": [
    {
     "data": {
      "text/plain": [
       "2411"
      ]
     },
     "execution_count": 60,
     "metadata": {},
     "output_type": "execute_result"
    }
   ],
   "source": [
    "totalRecords = response.json()['result']['totalRecords']\n",
    "totalRecords"
   ]
  },
  {
   "cell_type": "code",
   "execution_count": 61,
   "id": "96f88dde",
   "metadata": {},
   "outputs": [],
   "source": [
    "# second scrape, to get all the records\n",
    "response = scrape('BGNE', 'VY', totalRecords)"
   ]
  },
  {
   "cell_type": "code",
   "execution_count": 63,
   "id": "cb56376e",
   "metadata": {},
   "outputs": [],
   "source": [
    "fundDescription = response.json()['result']['fundDescription']\n",
    "prices = response.json()['result']['prices']"
   ]
  },
  {
   "cell_type": "code",
   "execution_count": 64,
   "id": "30f93cc2",
   "metadata": {},
   "outputs": [],
   "source": [
    "def prices2df(prices, fundCode, fundDescription):\n",
    "    df = pd.DataFrame(prices)\n",
    "    df['fundCode'] = fundCode\n",
    "    df['fundDescription'] = fundDescription\n",
    "    df2 = pd.DataFrame(df.price.to_list())\n",
    "    df3 = df.join(df2)\n",
    "    df3.drop(columns='price', inplace=True)\n",
    "    cols = ['fundCode', 'fundDescription', 'valuationDate', 'bidPrice', 'offerPrice']\n",
    "    df3 = df3[cols]\n",
    "    return df3"
   ]
  },
  {
   "cell_type": "code",
   "execution_count": 65,
   "id": "7df23508",
   "metadata": {},
   "outputs": [
    {
     "data": {
      "text/html": [
       "<div>\n",
       "<style scoped>\n",
       "    .dataframe tbody tr th:only-of-type {\n",
       "        vertical-align: middle;\n",
       "    }\n",
       "\n",
       "    .dataframe tbody tr th {\n",
       "        vertical-align: top;\n",
       "    }\n",
       "\n",
       "    .dataframe thead th {\n",
       "        text-align: right;\n",
       "    }\n",
       "</style>\n",
       "<table border=\"1\" class=\"dataframe\">\n",
       "  <thead>\n",
       "    <tr style=\"text-align: right;\">\n",
       "      <th></th>\n",
       "      <th>fundCode</th>\n",
       "      <th>fundDescription</th>\n",
       "      <th>valuationDate</th>\n",
       "      <th>bidPrice</th>\n",
       "      <th>offerPrice</th>\n",
       "    </tr>\n",
       "  </thead>\n",
       "  <tbody>\n",
       "    <tr>\n",
       "      <th>0</th>\n",
       "      <td>BGNE</td>\n",
       "      <td>貝萊德全球基金–可持續能源基金A2</td>\n",
       "      <td>22/09/2023</td>\n",
       "      <td>15.3800</td>\n",
       "      <td>15.3800</td>\n",
       "    </tr>\n",
       "    <tr>\n",
       "      <th>1</th>\n",
       "      <td>BGNE</td>\n",
       "      <td>貝萊德全球基金–可持續能源基金A2</td>\n",
       "      <td>21/09/2023</td>\n",
       "      <td>15.4400</td>\n",
       "      <td>15.4400</td>\n",
       "    </tr>\n",
       "    <tr>\n",
       "      <th>2</th>\n",
       "      <td>BGNE</td>\n",
       "      <td>貝萊德全球基金–可持續能源基金A2</td>\n",
       "      <td>20/09/2023</td>\n",
       "      <td>15.8400</td>\n",
       "      <td>15.8400</td>\n",
       "    </tr>\n",
       "    <tr>\n",
       "      <th>3</th>\n",
       "      <td>BGNE</td>\n",
       "      <td>貝萊德全球基金–可持續能源基金A2</td>\n",
       "      <td>19/09/2023</td>\n",
       "      <td>15.7200</td>\n",
       "      <td>15.7200</td>\n",
       "    </tr>\n",
       "    <tr>\n",
       "      <th>4</th>\n",
       "      <td>BGNE</td>\n",
       "      <td>貝萊德全球基金–可持續能源基金A2</td>\n",
       "      <td>18/09/2023</td>\n",
       "      <td>15.7800</td>\n",
       "      <td>15.7800</td>\n",
       "    </tr>\n",
       "    <tr>\n",
       "      <th>...</th>\n",
       "      <td>...</td>\n",
       "      <td>...</td>\n",
       "      <td>...</td>\n",
       "      <td>...</td>\n",
       "      <td>...</td>\n",
       "    </tr>\n",
       "    <tr>\n",
       "      <th>2406</th>\n",
       "      <td>BGNE</td>\n",
       "      <td>貝萊德全球基金–可持續能源基金A2</td>\n",
       "      <td>08/10/2013</td>\n",
       "      <td>7.6800</td>\n",
       "      <td>7.6800</td>\n",
       "    </tr>\n",
       "    <tr>\n",
       "      <th>2407</th>\n",
       "      <td>BGNE</td>\n",
       "      <td>貝萊德全球基金–可持續能源基金A2</td>\n",
       "      <td>07/10/2013</td>\n",
       "      <td>7.6600</td>\n",
       "      <td>7.6600</td>\n",
       "    </tr>\n",
       "    <tr>\n",
       "      <th>2408</th>\n",
       "      <td>BGNE</td>\n",
       "      <td>貝萊德全球基金–可持續能源基金A2</td>\n",
       "      <td>04/10/2013</td>\n",
       "      <td>7.6900</td>\n",
       "      <td>7.6900</td>\n",
       "    </tr>\n",
       "    <tr>\n",
       "      <th>2409</th>\n",
       "      <td>BGNE</td>\n",
       "      <td>貝萊德全球基金–可持續能源基金A2</td>\n",
       "      <td>03/10/2013</td>\n",
       "      <td>7.7300</td>\n",
       "      <td>7.7300</td>\n",
       "    </tr>\n",
       "    <tr>\n",
       "      <th>2410</th>\n",
       "      <td>BGNE</td>\n",
       "      <td>貝萊德全球基金–可持續能源基金A2</td>\n",
       "      <td>02/10/2013</td>\n",
       "      <td>7.7100</td>\n",
       "      <td>7.7100</td>\n",
       "    </tr>\n",
       "  </tbody>\n",
       "</table>\n",
       "<p>2411 rows × 5 columns</p>\n",
       "</div>"
      ],
      "text/plain": [
       "     fundCode    fundDescription valuationDate bidPrice offerPrice\n",
       "0        BGNE  貝萊德全球基金–可持續能源基金A2    22/09/2023  15.3800    15.3800\n",
       "1        BGNE  貝萊德全球基金–可持續能源基金A2    21/09/2023  15.4400    15.4400\n",
       "2        BGNE  貝萊德全球基金–可持續能源基金A2    20/09/2023  15.8400    15.8400\n",
       "3        BGNE  貝萊德全球基金–可持續能源基金A2    19/09/2023  15.7200    15.7200\n",
       "4        BGNE  貝萊德全球基金–可持續能源基金A2    18/09/2023  15.7800    15.7800\n",
       "...       ...                ...           ...      ...        ...\n",
       "2406     BGNE  貝萊德全球基金–可持續能源基金A2    08/10/2013   7.6800     7.6800\n",
       "2407     BGNE  貝萊德全球基金–可持續能源基金A2    07/10/2013   7.6600     7.6600\n",
       "2408     BGNE  貝萊德全球基金–可持續能源基金A2    04/10/2013   7.6900     7.6900\n",
       "2409     BGNE  貝萊德全球基金–可持續能源基金A2    03/10/2013   7.7300     7.7300\n",
       "2410     BGNE  貝萊德全球基金–可持續能源基金A2    02/10/2013   7.7100     7.7100\n",
       "\n",
       "[2411 rows x 5 columns]"
      ]
     },
     "execution_count": 65,
     "metadata": {},
     "output_type": "execute_result"
    }
   ],
   "source": [
    "df = prices2df(prices, fundCode, fundDescription)\n",
    "df"
   ]
  },
  {
   "cell_type": "code",
   "execution_count": 67,
   "id": "58b26545",
   "metadata": {},
   "outputs": [],
   "source": [
    "df.to_excel('FWD fund prices.xlsx', index=False)"
   ]
  },
  {
   "cell_type": "code",
   "execution_count": null,
   "id": "b48fac01",
   "metadata": {},
   "outputs": [],
   "source": []
  }
 ],
 "metadata": {
  "kernelspec": {
   "display_name": "Python 3 (ipykernel)",
   "language": "python",
   "name": "python3"
  },
  "language_info": {
   "codemirror_mode": {
    "name": "ipython",
    "version": 3
   },
   "file_extension": ".py",
   "mimetype": "text/x-python",
   "name": "python",
   "nbconvert_exporter": "python",
   "pygments_lexer": "ipython3",
   "version": "3.9.13"
  }
 },
 "nbformat": 4,
 "nbformat_minor": 5
}
