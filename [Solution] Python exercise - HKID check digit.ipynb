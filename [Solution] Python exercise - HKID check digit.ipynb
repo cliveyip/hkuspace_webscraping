{
 "cells": [
  {
   "cell_type": "markdown",
   "id": "ead48aca",
   "metadata": {},
   "source": [
    "In this exercise, you will replicate HKID check digit formula.\n",
    "You will given a list of HKIDs and you have to tell if the check digit is correct.\n",
    "Details about the formula can be found here:\n",
    "    https://computerterminal.blogspot.com/2013/02/hong-kong-id-formula-hkid-number-check.html"
   ]
  },
  {
   "cell_type": "code",
   "execution_count": null,
   "id": "c4162dc0",
   "metadata": {},
   "outputs": [],
   "source": []
  },
  {
   "cell_type": "code",
   "execution_count": 1,
   "id": "68f06ba9",
   "metadata": {},
   "outputs": [],
   "source": [
    "# only AB987654(3) and E364912(5) are correct HKIDs\n",
    "hkid_list = ['AB987654(3)', 'AB987654(9)', 'E364912(5)', 'E364912(9)', 'E364912(5)    ', 'ABCD1234', 'HELLO']"
   ]
  },
  {
   "cell_type": "code",
   "execution_count": null,
   "id": "07415b9b",
   "metadata": {},
   "outputs": [],
   "source": []
  },
  {
   "cell_type": "code",
   "execution_count": null,
   "id": "6e17b415",
   "metadata": {},
   "outputs": [],
   "source": []
  },
  {
   "cell_type": "markdown",
   "id": "66d83723",
   "metadata": {},
   "source": [
    "Functions"
   ]
  },
  {
   "cell_type": "code",
   "execution_count": 2,
   "id": "9d076503",
   "metadata": {},
   "outputs": [],
   "source": [
    "import re\n",
    "# use regular expressions to check if a string has a format that looks like a HKID\n",
    "# i.e. 1-2 letters followed by 6 numbers then a bracket and a number or 'A'\n",
    "\n",
    "def is_hkid(hkid):\n",
    "    x = re.search(\"[A-Z]{1,2}[0-9]{6}\\([A0-9]\\)\", str(hkid))\n",
    "    if x is None:\n",
    "        return False\n",
    "    else:\n",
    "        return True"
   ]
  },
  {
   "cell_type": "code",
   "execution_count": 3,
   "id": "f63d5fae",
   "metadata": {},
   "outputs": [
    {
     "name": "stdout",
     "output_type": "stream",
     "text": [
      "True\n",
      "True\n",
      "True\n",
      "True\n",
      "True\n",
      "False\n",
      "False\n"
     ]
    }
   ],
   "source": [
    "for hkid in hkid_list:\n",
    "    print(is_hkid(hkid))"
   ]
  },
  {
   "cell_type": "code",
   "execution_count": null,
   "id": "7076b0c7",
   "metadata": {},
   "outputs": [],
   "source": []
  },
  {
   "cell_type": "code",
   "execution_count": 4,
   "id": "dd9d40d1",
   "metadata": {},
   "outputs": [],
   "source": [
    "# a helper function of hkid_to_sum()\n",
    "def letter_to_number(letter):\n",
    "    letters = \"ABCDEFGHIJKLMNOPQRSTUVWXYZ\"\n",
    "    if letter == ' ':\n",
    "        return 36\n",
    "    else:\n",
    "        return letters.index(letter) + 10"
   ]
  },
  {
   "cell_type": "code",
   "execution_count": 5,
   "id": "05e435bf",
   "metadata": {},
   "outputs": [],
   "source": [
    "def hkid_to_sum(hkid):\n",
    "    hkid_without_bracket = hkid.split(\"(\")[0]\n",
    "    sum = 0\n",
    "    for index in range(0, len(hkid_without_bracket)):\n",
    "        digit = hkid_without_bracket[index]\n",
    "        # Try convert to integer. If can't convert, means it is a letter\n",
    "        try:\n",
    "            digit_value = int(digit) * (9 - index)\n",
    "        except:\n",
    "            digit_value = letter_to_number(digit) * (9 - index)\n",
    "        sum += digit_value\n",
    "    return sum"
   ]
  },
  {
   "cell_type": "code",
   "execution_count": 6,
   "id": "29859f25",
   "metadata": {},
   "outputs": [],
   "source": [
    "def get_last_digit_of_hkid(hkid):\n",
    "    return hkid.split(\"(\")[1].split(\")\")[0]"
   ]
  },
  {
   "cell_type": "code",
   "execution_count": 7,
   "id": "986d0359",
   "metadata": {},
   "outputs": [],
   "source": [
    "def check_digit(sum):\n",
    "    mod = sum % 11\n",
    "    if mod >= 2:\n",
    "        return str(11 - mod)\n",
    "    elif mod == 1:\n",
    "        return 'A'\n",
    "    else:\n",
    "        return '0'"
   ]
  },
  {
   "cell_type": "code",
   "execution_count": 8,
   "id": "ed1125ca",
   "metadata": {},
   "outputs": [],
   "source": [
    "# assume there is another step to check if it is a valid HKID format\n",
    "# e.g. only A123456(7) or AB123456(7) or A123456(A)\n",
    "\n",
    "def add_leading_space(hkid):\n",
    "# remove any leading/ trailing whitespace\n",
    "    hkid = hkid.strip()\n",
    "# add a leading whitespace if the hkid starts with one letter\n",
    "    if len(hkid) == 10:\n",
    "        return \" \" + hkid\n",
    "    else:\n",
    "        return hkid"
   ]
  },
  {
   "cell_type": "code",
   "execution_count": 9,
   "id": "18750ee6",
   "metadata": {},
   "outputs": [],
   "source": [
    "# main function\n",
    "def hkid_to_check_digit(hkid):\n",
    "    return check_digit(hkid_to_sum(add_leading_space(hkid)))"
   ]
  },
  {
   "cell_type": "code",
   "execution_count": null,
   "id": "acc13045",
   "metadata": {},
   "outputs": [],
   "source": []
  },
  {
   "cell_type": "code",
   "execution_count": null,
   "id": "7685a64b",
   "metadata": {},
   "outputs": [],
   "source": []
  },
  {
   "cell_type": "markdown",
   "id": "9b87ce2a",
   "metadata": {},
   "source": [
    "testing"
   ]
  },
  {
   "cell_type": "code",
   "execution_count": 10,
   "id": "fc0b4a7d",
   "metadata": {},
   "outputs": [
    {
     "name": "stdout",
     "output_type": "stream",
     "text": [
      "AB987654(3) has a correct check digit\n",
      "AB987654(9) has an incorrect check digit, the correct one should be: 3\n",
      "E364912(5) has a correct check digit\n",
      "E364912(9) has an incorrect check digit, the correct one should be: 5\n",
      "E364912(5)     has a correct check digit\n",
      "ABCD1234 is not a HKID.\n",
      "HELLO is not a HKID.\n"
     ]
    }
   ],
   "source": [
    "for hkid in hkid_list:\n",
    "    if is_hkid(hkid):\n",
    "        if hkid_to_check_digit(hkid) == get_last_digit_of_hkid(hkid):\n",
    "            print(hkid + ' has a correct check digit')\n",
    "        else:\n",
    "            print(hkid + ' has an incorrect check digit, the correct one should be: ' + hkid_to_check_digit(hkid))\n",
    "            \n",
    "    else:\n",
    "        print(hkid + ' is not a HKID.')"
   ]
  },
  {
   "cell_type": "code",
   "execution_count": 11,
   "id": "62d7fc6c",
   "metadata": {},
   "outputs": [
    {
     "ename": "SyntaxError",
     "evalue": "invalid syntax (<ipython-input-11-4b8bb8a26a4e>, line 1)",
     "output_type": "error",
     "traceback": [
      "\u001b[1;36m  File \u001b[1;32m\"<ipython-input-11-4b8bb8a26a4e>\"\u001b[1;36m, line \u001b[1;32m1\u001b[0m\n\u001b[1;33m    Expected output:\u001b[0m\n\u001b[1;37m             ^\u001b[0m\n\u001b[1;31mSyntaxError\u001b[0m\u001b[1;31m:\u001b[0m invalid syntax\n"
     ]
    }
   ],
   "source": [
    "Expected output:\n",
    "    AB987654(3) has a correct check digit\n",
    "    AB987654(9) has an incorrect check digit, the correct one should be: 3\n",
    "    E364912(5) has a correct check digit\n",
    "    E364912(9) has an incorrect check digit, the correct one should be: 5\n",
    "    E364912(5)     has a correct check digit\n",
    "    ABCD1234 is not a HKID.\n",
    "    HELLO is not a HKID."
   ]
  }
 ],
 "metadata": {
  "kernelspec": {
   "display_name": "Python 3",
   "language": "python",
   "name": "python3"
  },
  "language_info": {
   "codemirror_mode": {
    "name": "ipython",
    "version": 3
   },
   "file_extension": ".py",
   "mimetype": "text/x-python",
   "name": "python",
   "nbconvert_exporter": "python",
   "pygments_lexer": "ipython3",
   "version": "3.8.8"
  },
  "varInspector": {
   "cols": {
    "lenName": "",
    "lenType": 16,
    "lenVar": 40
   },
   "kernels_config": {
    "python": {
     "delete_cmd_postfix": "",
     "delete_cmd_prefix": "del ",
     "library": "var_list.py",
     "varRefreshCmd": "print(var_dic_list())"
    },
    "r": {
     "delete_cmd_postfix": ") ",
     "delete_cmd_prefix": "rm(",
     "library": "var_list.r",
     "varRefreshCmd": "cat(var_dic_list()) "
    }
   },
   "types_to_exclude": [
    "module",
    "function",
    "builtin_function_or_method",
    "instance",
    "_Feature"
   ],
   "window_display": false
  }
 },
 "nbformat": 4,
 "nbformat_minor": 5
}
