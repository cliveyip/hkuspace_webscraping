{
 "cells": [
  {
   "cell_type": "code",
   "execution_count": 1,
   "id": "6496f96b",
   "metadata": {},
   "outputs": [],
   "source": [
    "import requests\n",
    "import json\n",
    "import pandas as pd\n",
    "from bs4 import BeautifulSoup"
   ]
  },
  {
   "cell_type": "code",
   "execution_count": 2,
   "id": "daa3ab57",
   "metadata": {},
   "outputs": [],
   "source": [
    "url = 'https://www.fda.gov/datatables/views/ajax?search_api_fulltext=&field_regulated_product_field=All&field_terminated_recall=All&draw=7&columns%5B0%5D%5Bdata%5D=0&columns%5B0%5D%5Bname%5D=&columns%5B0%5D%5Bsearchable%5D=true&columns%5B0%5D%5Borderable%5D=true&columns%5B0%5D%5Bsearch%5D%5Bvalue%5D=&columns%5B0%5D%5Bsearch%5D%5Bregex%5D=false&columns%5B1%5D%5Bdata%5D=1&columns%5B1%5D%5Bname%5D=&columns%5B1%5D%5Bsearchable%5D=true&columns%5B1%5D%5Borderable%5D=true&columns%5B1%5D%5Bsearch%5D%5Bvalue%5D=&columns%5B1%5D%5Bsearch%5D%5Bregex%5D=false&columns%5B2%5D%5Bdata%5D=2&columns%5B2%5D%5Bname%5D=&columns%5B2%5D%5Bsearchable%5D=true&columns%5B2%5D%5Borderable%5D=true&columns%5B2%5D%5Bsearch%5D%5Bvalue%5D=&columns%5B2%5D%5Bsearch%5D%5Bregex%5D=false&columns%5B3%5D%5Bdata%5D=3&columns%5B3%5D%5Bname%5D=&columns%5B3%5D%5Bsearchable%5D=true&columns%5B3%5D%5Borderable%5D=true&columns%5B3%5D%5Bsearch%5D%5Bvalue%5D=&columns%5B3%5D%5Bsearch%5D%5Bregex%5D=false&columns%5B4%5D%5Bdata%5D=4&columns%5B4%5D%5Bname%5D=&columns%5B4%5D%5Bsearchable%5D=true&columns%5B4%5D%5Borderable%5D=true&columns%5B4%5D%5Bsearch%5D%5Bvalue%5D=&columns%5B4%5D%5Bsearch%5D%5Bregex%5D=false&columns%5B5%5D%5Bdata%5D=5&columns%5B5%5D%5Bname%5D=&columns%5B5%5D%5Bsearchable%5D=true&columns%5B5%5D%5Borderable%5D=true&columns%5B5%5D%5Bsearch%5D%5Bvalue%5D=&columns%5B5%5D%5Bsearch%5D%5Bregex%5D=false&columns%5B6%5D%5Bdata%5D=6&columns%5B6%5D%5Bname%5D=&columns%5B6%5D%5Bsearchable%5D=true&columns%5B6%5D%5Borderable%5D=false&columns%5B6%5D%5Bsearch%5D%5Bvalue%5D=&columns%5B6%5D%5Bsearch%5D%5Bregex%5D=false&columns%5B7%5D%5Bdata%5D=7&columns%5B7%5D%5Bname%5D=&columns%5B7%5D%5Bsearchable%5D=true&columns%5B7%5D%5Borderable%5D=false&columns%5B7%5D%5Bsearch%5D%5Bvalue%5D=&columns%5B7%5D%5Bsearch%5D%5Bregex%5D=false&start=10&length=10&search%5Bvalue%5D=&search%5Bregex%5D=false&_drupal_ajax=1&_wrapper_format=drupal_ajax&pager_element=0&view_args=&view_base_path=safety%2Frecalls-market-withdrawals-safety-alerts%2Fdatatables-data&view_display_id=recall_datatable_block_1&view_dom_id=2901ee938b3ff31873e0ab0bbfdc6806d270f41acf3ebc96bd0b4de449c4d045&view_name=recall_solr_index&view_path=%2Fsafety%2Frecalls-market-withdrawals-safety-alerts&total_items=990&_=1693102270051'"
   ]
  },
  {
   "cell_type": "code",
   "execution_count": 3,
   "id": "706690f6",
   "metadata": {},
   "outputs": [],
   "source": [
    "response = requests.get(url)"
   ]
  },
  {
   "cell_type": "code",
   "execution_count": 4,
   "id": "482cd631",
   "metadata": {},
   "outputs": [
    {
     "data": {
      "text/plain": [
       "<Response [200]>"
      ]
     },
     "execution_count": 4,
     "metadata": {},
     "output_type": "execute_result"
    }
   ],
   "source": [
    "response"
   ]
  },
  {
   "cell_type": "code",
   "execution_count": 7,
   "id": "b7aee3e3",
   "metadata": {},
   "outputs": [],
   "source": [
    "# response.json()"
   ]
  },
  {
   "cell_type": "code",
   "execution_count": 5,
   "id": "9141bb57",
   "metadata": {},
   "outputs": [
    {
     "data": {
      "text/plain": [
       "['<time datetime=\"2023-08-23T04:00:00Z\">08/23/2023</time>\\n',\n",
       " '<a href=\"/safety/recalls-market-withdrawals-safety-alerts/twin-city-foods-inc-recalls-frozen-super-sweet-corn-and-mixed-vegetables-because-possible-health\">Food Lion, Kroger and more</a>',\n",
       " 'Frozen sweet corn and mixed vegetables',\n",
       " 'Food &amp; Beverages',\n",
       " 'Potential Foodborne Illness',\n",
       " 'Twin City Foods, Inc.',\n",
       " '',\n",
       " '']"
      ]
     },
     "execution_count": 5,
     "metadata": {},
     "output_type": "execute_result"
    }
   ],
   "source": [
    "response.json()['data'][0]"
   ]
  },
  {
   "cell_type": "code",
   "execution_count": 6,
   "id": "e3ae65a4",
   "metadata": {},
   "outputs": [],
   "source": [
    "soup_time = BeautifulSoup(response.json()['data'][0][0], 'html.parser')"
   ]
  },
  {
   "cell_type": "code",
   "execution_count": 7,
   "id": "f63decdf",
   "metadata": {},
   "outputs": [
    {
     "data": {
      "text/plain": [
       "'08/23/2023'"
      ]
     },
     "execution_count": 7,
     "metadata": {},
     "output_type": "execute_result"
    }
   ],
   "source": [
    "soup_time.find('time').text"
   ]
  },
  {
   "cell_type": "code",
   "execution_count": 8,
   "id": "e4595f4d",
   "metadata": {},
   "outputs": [],
   "source": [
    "soup_company = BeautifulSoup(response.json()['data'][0][1], 'html.parser')"
   ]
  },
  {
   "cell_type": "code",
   "execution_count": 9,
   "id": "8ba29c8d",
   "metadata": {},
   "outputs": [
    {
     "data": {
      "text/plain": [
       "'Food Lion, Kroger and more'"
      ]
     },
     "execution_count": 9,
     "metadata": {},
     "output_type": "execute_result"
    }
   ],
   "source": [
    "soup_company.find('a').text"
   ]
  },
  {
   "cell_type": "code",
   "execution_count": 10,
   "id": "cec00c44",
   "metadata": {},
   "outputs": [
    {
     "data": {
      "text/plain": [
       "'/safety/recalls-market-withdrawals-safety-alerts/twin-city-foods-inc-recalls-frozen-super-sweet-corn-and-mixed-vegetables-because-possible-health'"
      ]
     },
     "execution_count": 10,
     "metadata": {},
     "output_type": "execute_result"
    }
   ],
   "source": [
    "soup_company.find('a')['href']"
   ]
  },
  {
   "cell_type": "code",
   "execution_count": 11,
   "id": "9dab9a24",
   "metadata": {},
   "outputs": [],
   "source": [
    "root_url = 'https://www.fda.gov'"
   ]
  },
  {
   "cell_type": "code",
   "execution_count": 12,
   "id": "1e4b83a6",
   "metadata": {},
   "outputs": [
    {
     "data": {
      "text/plain": [
       "'https://www.fda.gov/safety/recalls-market-withdrawals-safety-alerts/twin-city-foods-inc-recalls-frozen-super-sweet-corn-and-mixed-vegetables-because-possible-health'"
      ]
     },
     "execution_count": 12,
     "metadata": {},
     "output_type": "execute_result"
    }
   ],
   "source": [
    "root_url + soup_company.find('a')['href']"
   ]
  },
  {
   "cell_type": "code",
   "execution_count": 13,
   "id": "0ef9103d",
   "metadata": {},
   "outputs": [],
   "source": [
    "record_dict = {}"
   ]
  },
  {
   "cell_type": "code",
   "execution_count": 14,
   "id": "ba7c52c9",
   "metadata": {},
   "outputs": [],
   "source": [
    "record_dict['Time'] = soup_time.find('time').text"
   ]
  },
  {
   "cell_type": "code",
   "execution_count": 15,
   "id": "0055a053",
   "metadata": {},
   "outputs": [],
   "source": [
    "record_dict['Company'] = soup_company.find('a').text\n",
    "record_dict['URL'] = root_url + soup_company.find('a')['href']"
   ]
  },
  {
   "cell_type": "code",
   "execution_count": 16,
   "id": "29133bac",
   "metadata": {},
   "outputs": [
    {
     "ename": "NameError",
     "evalue": "name 'record_list' is not defined",
     "output_type": "error",
     "traceback": [
      "\u001b[1;31m---------------------------------------------------------------------------\u001b[0m",
      "\u001b[1;31mNameError\u001b[0m                                 Traceback (most recent call last)",
      "\u001b[1;32m~\\AppData\\Local\\Temp\\ipykernel_24064\\2870526470.py\u001b[0m in \u001b[0;36m<module>\u001b[1;34m\u001b[0m\n\u001b[1;32m----> 1\u001b[1;33m \u001b[0mdf\u001b[0m \u001b[1;33m=\u001b[0m \u001b[0mpd\u001b[0m\u001b[1;33m.\u001b[0m\u001b[0mDataFrame\u001b[0m\u001b[1;33m(\u001b[0m\u001b[0mrecord_list\u001b[0m\u001b[1;33m,\u001b[0m \u001b[0mcolumns\u001b[0m \u001b[1;33m=\u001b[0m\u001b[1;33m[\u001b[0m\u001b[1;34m'Date'\u001b[0m\u001b[1;33m,\u001b[0m \u001b[1;34m'Brand Name'\u001b[0m\u001b[1;33m,\u001b[0m \u001b[1;34m'Product Description'\u001b[0m\u001b[1;33m,\u001b[0m \u001b[1;34m'Product Type'\u001b[0m\u001b[1;33m,\u001b[0m \u001b[1;34m'Recall Reason Description'\u001b[0m\u001b[1;33m,\u001b[0m \u001b[1;34m'C1'\u001b[0m\u001b[1;33m,\u001b[0m \u001b[1;34m'C2'\u001b[0m\u001b[1;33m,\u001b[0m \u001b[1;34m'C3'\u001b[0m\u001b[1;33m]\u001b[0m\u001b[1;33m)\u001b[0m\u001b[1;33m\u001b[0m\u001b[1;33m\u001b[0m\u001b[0m\n\u001b[0m",
      "\u001b[1;31mNameError\u001b[0m: name 'record_list' is not defined"
     ]
    }
   ],
   "source": [
    "df = pd.DataFrame(record_list, columns =['Date', 'Brand Name', 'Product Description', 'Product Type', 'Recall Reason Description', 'C1', 'C2', 'C3'])"
   ]
  },
  {
   "cell_type": "code",
   "execution_count": 18,
   "id": "e091e04d",
   "metadata": {},
   "outputs": [],
   "source": [
    "record_dict['Product Description'] = response.json()['data'][0][2]\n",
    "record_dict['Product Type'] = response.json()['data'][0][3]\n",
    "record_dict['Recall Reason Description'] = response.json()['data'][0][4]\n",
    "record_dict['Unnamed Column 1'] = response.json()['data'][0][5]"
   ]
  },
  {
   "cell_type": "code",
   "execution_count": 19,
   "id": "1f0e6713",
   "metadata": {},
   "outputs": [
    {
     "data": {
      "text/plain": [
       "{'Time': '08/23/2023',\n",
       " 'Company': 'Food Lion, Kroger and more',\n",
       " 'URL': 'https://www.fda.gov/safety/recalls-market-withdrawals-safety-alerts/twin-city-foods-inc-recalls-frozen-super-sweet-corn-and-mixed-vegetables-because-possible-health',\n",
       " 'Product Description': 'Frozen sweet corn and mixed vegetables',\n",
       " 'Product Type': 'Food &amp; Beverages',\n",
       " 'Recall Reason Description': 'Potential Foodborne Illness',\n",
       " 'Unnamed Column 1': 'Twin City Foods, Inc.'}"
      ]
     },
     "execution_count": 19,
     "metadata": {},
     "output_type": "execute_result"
    }
   ],
   "source": [
    "record_dict"
   ]
  },
  {
   "cell_type": "code",
   "execution_count": 20,
   "id": "38e1c17a",
   "metadata": {},
   "outputs": [],
   "source": [
    "df = pd.DataFrame(record_dict, index=[0])"
   ]
  },
  {
   "cell_type": "code",
   "execution_count": 21,
   "id": "29e98ffc",
   "metadata": {},
   "outputs": [
    {
     "data": {
      "text/html": [
       "<div>\n",
       "<style scoped>\n",
       "    .dataframe tbody tr th:only-of-type {\n",
       "        vertical-align: middle;\n",
       "    }\n",
       "\n",
       "    .dataframe tbody tr th {\n",
       "        vertical-align: top;\n",
       "    }\n",
       "\n",
       "    .dataframe thead th {\n",
       "        text-align: right;\n",
       "    }\n",
       "</style>\n",
       "<table border=\"1\" class=\"dataframe\">\n",
       "  <thead>\n",
       "    <tr style=\"text-align: right;\">\n",
       "      <th></th>\n",
       "      <th>Time</th>\n",
       "      <th>Company</th>\n",
       "      <th>URL</th>\n",
       "      <th>Product Description</th>\n",
       "      <th>Product Type</th>\n",
       "      <th>Recall Reason Description</th>\n",
       "      <th>Unnamed Column 1</th>\n",
       "    </tr>\n",
       "  </thead>\n",
       "  <tbody>\n",
       "    <tr>\n",
       "      <th>0</th>\n",
       "      <td>08/23/2023</td>\n",
       "      <td>Food Lion, Kroger and more</td>\n",
       "      <td>https://www.fda.gov/safety/recalls-market-with...</td>\n",
       "      <td>Frozen sweet corn and mixed vegetables</td>\n",
       "      <td>Food &amp;amp; Beverages</td>\n",
       "      <td>Potential Foodborne Illness</td>\n",
       "      <td>Twin City Foods, Inc.</td>\n",
       "    </tr>\n",
       "  </tbody>\n",
       "</table>\n",
       "</div>"
      ],
      "text/plain": [
       "         Time                     Company  \\\n",
       "0  08/23/2023  Food Lion, Kroger and more   \n",
       "\n",
       "                                                 URL  \\\n",
       "0  https://www.fda.gov/safety/recalls-market-with...   \n",
       "\n",
       "                      Product Description          Product Type  \\\n",
       "0  Frozen sweet corn and mixed vegetables  Food &amp; Beverages   \n",
       "\n",
       "     Recall Reason Description       Unnamed Column 1  \n",
       "0  Potential Foodborne Illness  Twin City Foods, Inc.  "
      ]
     },
     "execution_count": 21,
     "metadata": {},
     "output_type": "execute_result"
    }
   ],
   "source": [
    "df"
   ]
  },
  {
   "cell_type": "code",
   "execution_count": 61,
   "id": "d4bc5498",
   "metadata": {},
   "outputs": [],
   "source": [
    "df.to_excel('FDA.xlsx', index=False)"
   ]
  },
  {
   "cell_type": "code",
   "execution_count": null,
   "id": "a442df55",
   "metadata": {},
   "outputs": [],
   "source": []
  }
 ],
 "metadata": {
  "kernelspec": {
   "display_name": "Python 3 (ipykernel)",
   "language": "python",
   "name": "python3"
  },
  "language_info": {
   "codemirror_mode": {
    "name": "ipython",
    "version": 3
   },
   "file_extension": ".py",
   "mimetype": "text/x-python",
   "name": "python",
   "nbconvert_exporter": "python",
   "pygments_lexer": "ipython3",
   "version": "3.9.13"
  }
 },
 "nbformat": 4,
 "nbformat_minor": 5
}
