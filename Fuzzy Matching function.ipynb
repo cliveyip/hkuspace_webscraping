{
 "cells": [
  {
   "cell_type": "code",
   "execution_count": 1,
   "id": "492a6c81",
   "metadata": {},
   "outputs": [
    {
     "name": "stdout",
     "output_type": "stream",
     "text": [
      "Requirement already satisfied: fuzzywuzzy in c:\\users\\admin\\anaconda3\\lib\\site-packages (0.18.0)\n"
     ]
    }
   ],
   "source": [
    "# run this the first time for installation\n",
    "!pip install fuzzywuzzy\n",
    "# !pip install python-Levenshtein"
   ]
  },
  {
   "cell_type": "markdown",
   "id": "db6fee10",
   "metadata": {},
   "source": [
    "<h3> FuzzyWuzzy basic example"
   ]
  },
  {
   "cell_type": "code",
   "execution_count": 2,
   "id": "88f185c6",
   "metadata": {},
   "outputs": [
    {
     "name": "stderr",
     "output_type": "stream",
     "text": [
      "C:\\Users\\admin\\anaconda3\\lib\\site-packages\\fuzzywuzzy\\fuzz.py:11: UserWarning: Using slow pure-python SequenceMatcher. Install python-Levenshtein to remove this warning\n",
      "  warnings.warn('Using slow pure-python SequenceMatcher. Install python-Levenshtein to remove this warning')\n"
     ]
    }
   ],
   "source": [
    "from fuzzywuzzy import fuzz\n",
    "import pandas as pd"
   ]
  },
  {
   "cell_type": "code",
   "execution_count": 3,
   "id": "639999e1",
   "metadata": {},
   "outputs": [
    {
     "data": {
      "text/plain": [
       "False"
      ]
     },
     "execution_count": 3,
     "metadata": {},
     "output_type": "execute_result"
    }
   ],
   "source": [
    "\"marriott\" == \"marriot\""
   ]
  },
  {
   "cell_type": "code",
   "execution_count": 4,
   "id": "14c37fe0",
   "metadata": {},
   "outputs": [
    {
     "data": {
      "text/plain": [
       "93"
      ]
     },
     "execution_count": 4,
     "metadata": {},
     "output_type": "execute_result"
    }
   ],
   "source": [
    "fuzz.ratio(\"marriott\", \"marriot\")"
   ]
  },
  {
   "cell_type": "code",
   "execution_count": 5,
   "id": "248275f6",
   "metadata": {},
   "outputs": [
    {
     "data": {
      "text/plain": [
       "73"
      ]
     },
     "execution_count": 5,
     "metadata": {},
     "output_type": "execute_result"
    }
   ],
   "source": [
    "fuzz.ratio(\"marriott\", \"marriott hotel\")"
   ]
  },
  {
   "cell_type": "code",
   "execution_count": 6,
   "id": "f3bfa4b7",
   "metadata": {},
   "outputs": [
    {
     "data": {
      "text/plain": [
       "72"
      ]
     },
     "execution_count": 6,
     "metadata": {},
     "output_type": "execute_result"
    }
   ],
   "source": [
    "fuzz.ratio(\"Bank of China\", \"Bank of China Hong Kong\")"
   ]
  },
  {
   "cell_type": "code",
   "execution_count": 7,
   "id": "5bc3dc2e",
   "metadata": {},
   "outputs": [
    {
     "data": {
      "text/plain": [
       "82"
      ]
     },
     "execution_count": 7,
     "metadata": {},
     "output_type": "execute_result"
    }
   ],
   "source": [
    "fuzz.ratio(\"Hangseng\", \"Hang Seng\")"
   ]
  },
  {
   "cell_type": "markdown",
   "id": "3a9b6e06",
   "metadata": {},
   "source": [
    "https://stackoverflow.com/questions/31806695/when-to-use-which-fuzz-function-to-compare-2-strings"
   ]
  },
  {
   "cell_type": "code",
   "execution_count": 8,
   "id": "cc944851",
   "metadata": {},
   "outputs": [
    {
     "data": {
      "text/plain": [
       "47"
      ]
     },
     "execution_count": 8,
     "metadata": {},
     "output_type": "execute_result"
    }
   ],
   "source": [
    "fuzz.ratio(\"hkuspace\", \"HKU Space\")"
   ]
  },
  {
   "cell_type": "code",
   "execution_count": 9,
   "id": "9bad220b",
   "metadata": {},
   "outputs": [
    {
     "data": {
      "text/plain": [
       "50"
      ]
     },
     "execution_count": 9,
     "metadata": {},
     "output_type": "execute_result"
    }
   ],
   "source": [
    "fuzz.partial_ratio(\"hkuspace\", \"HKU Space\")"
   ]
  },
  {
   "cell_type": "code",
   "execution_count": 10,
   "id": "160d8bfd",
   "metadata": {},
   "outputs": [
    {
     "data": {
      "text/plain": [
       "94"
      ]
     },
     "execution_count": 10,
     "metadata": {},
     "output_type": "execute_result"
    }
   ],
   "source": [
    "fuzz.token_sort_ratio(\"hkuspace\", \"HKU Space\")"
   ]
  },
  {
   "cell_type": "code",
   "execution_count": 11,
   "id": "ca69c698",
   "metadata": {},
   "outputs": [
    {
     "data": {
      "text/plain": [
       "94"
      ]
     },
     "execution_count": 11,
     "metadata": {},
     "output_type": "execute_result"
    }
   ],
   "source": [
    "fuzz.token_set_ratio(\"hkuspace\", \"HKU Space\")"
   ]
  },
  {
   "cell_type": "markdown",
   "id": "7f353293",
   "metadata": {},
   "source": [
    "<h3> FuzzyWuzzy function\n"
   ]
  },
  {
   "cell_type": "code",
   "execution_count": 12,
   "id": "c76ef07c",
   "metadata": {},
   "outputs": [],
   "source": [
    "company = ['hsbc', 'hkuspace', 'hyatt']\n",
    "dict = {'Company': company}\n",
    "df = pd.DataFrame(dict)"
   ]
  },
  {
   "cell_type": "code",
   "execution_count": 13,
   "id": "9f33c54f",
   "metadata": {},
   "outputs": [
    {
     "data": {
      "text/html": [
       "<div>\n",
       "<style scoped>\n",
       "    .dataframe tbody tr th:only-of-type {\n",
       "        vertical-align: middle;\n",
       "    }\n",
       "\n",
       "    .dataframe tbody tr th {\n",
       "        vertical-align: top;\n",
       "    }\n",
       "\n",
       "    .dataframe thead th {\n",
       "        text-align: right;\n",
       "    }\n",
       "</style>\n",
       "<table border=\"1\" class=\"dataframe\">\n",
       "  <thead>\n",
       "    <tr style=\"text-align: right;\">\n",
       "      <th></th>\n",
       "      <th>Company</th>\n",
       "    </tr>\n",
       "  </thead>\n",
       "  <tbody>\n",
       "    <tr>\n",
       "      <th>0</th>\n",
       "      <td>hsbc</td>\n",
       "    </tr>\n",
       "    <tr>\n",
       "      <th>1</th>\n",
       "      <td>hkuspace</td>\n",
       "    </tr>\n",
       "    <tr>\n",
       "      <th>2</th>\n",
       "      <td>hyatt</td>\n",
       "    </tr>\n",
       "  </tbody>\n",
       "</table>\n",
       "</div>"
      ],
      "text/plain": [
       "    Company\n",
       "0      hsbc\n",
       "1  hkuspace\n",
       "2     hyatt"
      ]
     },
     "execution_count": 13,
     "metadata": {},
     "output_type": "execute_result"
    }
   ],
   "source": [
    "df"
   ]
  },
  {
   "cell_type": "code",
   "execution_count": 14,
   "id": "2f263d0c",
   "metadata": {},
   "outputs": [],
   "source": [
    "keyword_list = ['hsbc bank', 'hong kong and shanghai banking corporation', 'hku', 'hku space', 'grand hyatt', 'hyatt hotel']"
   ]
  },
  {
   "cell_type": "code",
   "execution_count": 15,
   "id": "bb5f24f2",
   "metadata": {},
   "outputs": [],
   "source": [
    "# helper function for get_match_and_score()\n",
    "def get_closest_match(word_to_match, match_list):\n",
    "    score_list = []\n",
    "    for m in match_list:\n",
    "        score_list.append(fuzz.token_set_ratio(word_to_match, m))\n",
    "    return [match_list[score_list.index(max(score_list))], max(score_list)]"
   ]
  },
  {
   "cell_type": "code",
   "execution_count": 16,
   "id": "e414bd33",
   "metadata": {},
   "outputs": [],
   "source": [
    "# use this function to get a DataFrame with the match keyword and score\n",
    "def get_match_and_score(df, column, match_list):\n",
    "    df['match_and_score'] = df[column].apply(get_closest_match, args=(match_list,))\n",
    "    df[['Match', 'Score']] = pd.DataFrame(df[\"match_and_score\"].to_list(), columns=['Match', 'Score'])\n",
    "    df.drop(columns='match_and_score', inplace=True)\n",
    "    return df"
   ]
  },
  {
   "cell_type": "code",
   "execution_count": 17,
   "id": "223d6b06",
   "metadata": {},
   "outputs": [
    {
     "data": {
      "text/html": [
       "<div>\n",
       "<style scoped>\n",
       "    .dataframe tbody tr th:only-of-type {\n",
       "        vertical-align: middle;\n",
       "    }\n",
       "\n",
       "    .dataframe tbody tr th {\n",
       "        vertical-align: top;\n",
       "    }\n",
       "\n",
       "    .dataframe thead th {\n",
       "        text-align: right;\n",
       "    }\n",
       "</style>\n",
       "<table border=\"1\" class=\"dataframe\">\n",
       "  <thead>\n",
       "    <tr style=\"text-align: right;\">\n",
       "      <th></th>\n",
       "      <th>Company</th>\n",
       "      <th>Match</th>\n",
       "      <th>Score</th>\n",
       "    </tr>\n",
       "  </thead>\n",
       "  <tbody>\n",
       "    <tr>\n",
       "      <th>0</th>\n",
       "      <td>hsbc</td>\n",
       "      <td>hsbc bank</td>\n",
       "      <td>100</td>\n",
       "    </tr>\n",
       "    <tr>\n",
       "      <th>1</th>\n",
       "      <td>hkuspace</td>\n",
       "      <td>hku space</td>\n",
       "      <td>94</td>\n",
       "    </tr>\n",
       "    <tr>\n",
       "      <th>2</th>\n",
       "      <td>hyatt</td>\n",
       "      <td>grand hyatt</td>\n",
       "      <td>100</td>\n",
       "    </tr>\n",
       "  </tbody>\n",
       "</table>\n",
       "</div>"
      ],
      "text/plain": [
       "    Company        Match  Score\n",
       "0      hsbc    hsbc bank    100\n",
       "1  hkuspace    hku space     94\n",
       "2     hyatt  grand hyatt    100"
      ]
     },
     "execution_count": 17,
     "metadata": {},
     "output_type": "execute_result"
    }
   ],
   "source": [
    "get_match_and_score(df, 'Company', keyword_list)"
   ]
  },
  {
   "cell_type": "code",
   "execution_count": null,
   "id": "4153c5ec",
   "metadata": {},
   "outputs": [],
   "source": []
  }
 ],
 "metadata": {
  "kernelspec": {
   "display_name": "Python 3",
   "language": "python",
   "name": "python3"
  },
  "language_info": {
   "codemirror_mode": {
    "name": "ipython",
    "version": 3
   },
   "file_extension": ".py",
   "mimetype": "text/x-python",
   "name": "python",
   "nbconvert_exporter": "python",
   "pygments_lexer": "ipython3",
   "version": "3.8.8"
  },
  "varInspector": {
   "cols": {
    "lenName": "",
    "lenType": 16,
    "lenVar": 40
   },
   "kernels_config": {
    "python": {
     "delete_cmd_postfix": "",
     "delete_cmd_prefix": "del ",
     "library": "var_list.py",
     "varRefreshCmd": "print(var_dic_list())"
    },
    "r": {
     "delete_cmd_postfix": ") ",
     "delete_cmd_prefix": "rm(",
     "library": "var_list.r",
     "varRefreshCmd": "cat(var_dic_list()) "
    }
   },
   "types_to_exclude": [
    "module",
    "function",
    "builtin_function_or_method",
    "instance",
    "_Feature"
   ],
   "window_display": false
  }
 },
 "nbformat": 4,
 "nbformat_minor": 5
}
