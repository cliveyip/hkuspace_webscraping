{
 "cells": [
  {
   "cell_type": "code",
   "execution_count": 2,
   "id": "95b4b3f4",
   "metadata": {},
   "outputs": [],
   "source": [
    "import requests\n",
    "from bs4 import BeautifulSoup"
   ]
  },
  {
   "cell_type": "code",
   "execution_count": 3,
   "id": "45c07eb8",
   "metadata": {},
   "outputs": [],
   "source": [
    "url = requests.get(\"https://www.carparkhk.com/car-park-list-residential.php?sr=1\")\n",
    "soup = BeautifulSoup(url.content, 'html.parser')"
   ]
  },
  {
   "cell_type": "code",
   "execution_count": 4,
   "id": "11e9bb94",
   "metadata": {},
   "outputs": [],
   "source": [
    "table = soup.select(\"table\")"
   ]
  },
  {
   "cell_type": "code",
   "execution_count": 16,
   "id": "05abf12d",
   "metadata": {},
   "outputs": [
    {
     "data": {
      "text/plain": [
       "<tr class=\"car-park-list-odd car-park-row-ss\">\n",
       "<td valign=\"top\" width=\"180\"><a href=\"car-park-info-屯門-翠寧花園-TVRNek5URTQ.html\"><img class=\"car-park-list-img\" height=\"113\" src=\"img/block_img/notice.gif\" width=\"150\"/></a></td>\n",
       "<td valign=\"top\"> <a href=\"car-park-list-result.php?category=TWc9PQ%3D%3D\"><img alt=\"搜尋住宅\" height=\"40\" src=\"images/icon-residential.gif\" title=\"搜尋住宅\" width=\"40\"/></a> <a href=\"car-park-list-result.php?rent_sell=YzJWc2JBPT0%3D\"><img alt=\"搜尋售盤\" height=\"40\" src=\"images/icon-sale.gif\" title=\"搜尋售盤\" width=\"40\"/></a> <a href=\"car-park-list-result.php?source=TWc9PQ%3D%3D\"><img alt=\"搜尋物業代理\" height=\"40\" src=\"images/icon-agent.gif\" title=\"搜尋物業代理\" width=\"40\"/></a> <a href=\"car-park-list-result.php?type=TWc9PQ%3D%3D\"><img alt=\"搜尋私家車\" height=\"40\" src=\"images/icon-car-park-type-car.gif\" title=\"搜尋私家車\" width=\"40\"/></a> <a href=\"car-park-list-result.php?side=TWc9PQ%3D%3D\"><img alt=\"搜尋室內\" height=\"40\" src=\"images/icon-in-door.gif\" title=\"搜尋室內\" width=\"40\"/></a><a class=\"verified_agent\" href=\"online-verified-agent.php\">已認證地產代理</a> <br/>\n",
       "<a alt=\"搜尋屯門\" href=\"car-park-屯門-T0RZPQ==.html\" title=\"搜尋屯門\">屯門</a> <a alt=\"搜尋翠寧花園\" href=\"building-屯門-翠寧花園-車位.html\" title=\"搜尋翠寧花園\">翠寧花園</a> <br/>\n",
       "\t\t\t售: $1,050,000\n",
       "\t\t\t<td valign=\"bottom\" width=\"110\"><a class=\"clink_m cc_03 cw_01\" href=\"car-park-info-屯門-翠寧花園-TVRNek5URTQ.html\">詳情</a></td>\n",
       "</td></tr>"
      ]
     },
     "execution_count": 16,
     "metadata": {},
     "output_type": "execute_result"
    }
   ],
   "source": [
    "row = table[0].select('tr')[0]\n",
    "row"
   ]
  },
  {
   "cell_type": "code",
   "execution_count": 24,
   "id": "295a2d64",
   "metadata": {},
   "outputs": [
    {
     "data": {
      "text/plain": [
       "<td valign=\"bottom\" width=\"110\"><a class=\"clink_m cc_03 cw_01\" href=\"car-park-info-屯門-翠寧花園-TVRNek5URTQ.html\">詳情</a></td>"
      ]
     },
     "execution_count": 24,
     "metadata": {},
     "output_type": "execute_result"
    }
   ],
   "source": [
    "row.select('td')[-1]"
   ]
  },
  {
   "cell_type": "code",
   "execution_count": 25,
   "id": "15196d93",
   "metadata": {},
   "outputs": [
    {
     "data": {
      "text/plain": [
       "'car-park-info-屯門-翠寧花園-TVRNek5URTQ.html'"
      ]
     },
     "execution_count": 25,
     "metadata": {},
     "output_type": "execute_result"
    }
   ],
   "source": [
    "row.select('td')[-1].select('a')[0]['href']"
   ]
  },
  {
   "cell_type": "code",
   "execution_count": 26,
   "id": "8e17c13d",
   "metadata": {},
   "outputs": [
    {
     "name": "stdout",
     "output_type": "stream",
     "text": [
      "https://www.carparkhk.com/car-park-info-屯門-翠寧花園-TVRNek5URTQ.html\n"
     ]
    }
   ],
   "source": [
    "base_url = 'https://www.carparkhk.com/'\n",
    "print(base_url + row.select('td')[-1].select('a')[0]['href'])"
   ]
  },
  {
   "cell_type": "code",
   "execution_count": null,
   "id": "b4e38124",
   "metadata": {},
   "outputs": [],
   "source": []
  }
 ],
 "metadata": {
  "kernelspec": {
   "display_name": "Python 3 (ipykernel)",
   "language": "python",
   "name": "python3"
  },
  "language_info": {
   "codemirror_mode": {
    "name": "ipython",
    "version": 3
   },
   "file_extension": ".py",
   "mimetype": "text/x-python",
   "name": "python",
   "nbconvert_exporter": "python",
   "pygments_lexer": "ipython3",
   "version": "3.9.13"
  }
 },
 "nbformat": 4,
 "nbformat_minor": 5
}
