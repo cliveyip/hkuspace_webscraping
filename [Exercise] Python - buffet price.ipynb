{
 "cells": [
  {
   "cell_type": "markdown",
   "id": "f0011264",
   "metadata": {},
   "source": [
    "Buffet price <br>\n",
    "18 or above: 500 <br>\n",
    "12-17: 350 <br>\n",
    "3-11: 250 <br>\n",
    "2 or below: free"
   ]
  },
  {
   "cell_type": "code",
   "execution_count": null,
   "id": "12c08d4c",
   "metadata": {},
   "outputs": [],
   "source": [
    "# write a function that takes the age of a customer and returns the buffet price\n",
    "\n",
    "def buffet_price(age):\n",
    "    # write your code here\n",
    "    return price"
   ]
  },
  {
   "cell_type": "code",
   "execution_count": null,
   "id": "9d9f013a",
   "metadata": {},
   "outputs": [],
   "source": [
    "# test your function\n",
    "\n",
    "print(buffet_price(65))  # expected output: 500\n",
    "print(buffet_price(18))  # expected output: 500\n",
    "print(buffet_price(17))  # expected output: 350\n",
    "print(buffet_price(3))  # expected output: 250\n",
    "print(buffet_price(2))  # expected output: 0"
   ]
  },
  {
   "cell_type": "code",
   "execution_count": null,
   "id": "8aba7413",
   "metadata": {},
   "outputs": [],
   "source": [
    "# stretch task: write code to ensure the input age is a number between 0-150\n",
    "\n",
    "print(buffet_price('abc'))  # expected output: Please enter a number\n",
    "print(buffet_price('200'))  # Please enter a number between 0-150\n",
    "print(buffet_price('-1'))   # Please enter a number between 0-150"
   ]
  },
  {
   "cell_type": "code",
   "execution_count": null,
   "id": "45a1571c",
   "metadata": {},
   "outputs": [],
   "source": []
  },
  {
   "cell_type": "code",
   "execution_count": null,
   "id": "f46ad85c",
   "metadata": {},
   "outputs": [],
   "source": []
  }
 ],
 "metadata": {
  "kernelspec": {
   "display_name": "Python 3",
   "language": "python",
   "name": "python3"
  },
  "language_info": {
   "codemirror_mode": {
    "name": "ipython",
    "version": 3
   },
   "file_extension": ".py",
   "mimetype": "text/x-python",
   "name": "python",
   "nbconvert_exporter": "python",
   "pygments_lexer": "ipython3",
   "version": "3.8.8"
  },
  "varInspector": {
   "cols": {
    "lenName": "",
    "lenType": 16,
    "lenVar": 40
   },
   "kernels_config": {
    "python": {
     "delete_cmd_postfix": "",
     "delete_cmd_prefix": "del ",
     "library": "var_list.py",
     "varRefreshCmd": "print(var_dic_list())"
    },
    "r": {
     "delete_cmd_postfix": ") ",
     "delete_cmd_prefix": "rm(",
     "library": "var_list.r",
     "varRefreshCmd": "cat(var_dic_list()) "
    }
   },
   "types_to_exclude": [
    "module",
    "function",
    "builtin_function_or_method",
    "instance",
    "_Feature"
   ],
   "window_display": false
  }
 },
 "nbformat": 4,
 "nbformat_minor": 5
}
