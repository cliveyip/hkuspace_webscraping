{
 "cells": [
  {
   "cell_type": "code",
   "execution_count": 1,
   "id": "bf621cb6",
   "metadata": {},
   "outputs": [],
   "source": [
    "import requests\n",
    "from bs4 import BeautifulSoup as BS"
   ]
  },
  {
   "cell_type": "code",
   "execution_count": 2,
   "id": "b461c6d6",
   "metadata": {
    "scrolled": false
   },
   "outputs": [],
   "source": [
    "url = requests.get('https://www.eshop-apisehk.com/categories/foot-protection')\n",
    "soup = BS(url.content , 'html.parser') \n",
    "# soup.prettify()"
   ]
  },
  {
   "cell_type": "code",
   "execution_count": 3,
   "id": "1ecd52bf",
   "metadata": {
    "scrolled": true
   },
   "outputs": [
    {
     "data": {
      "text/plain": [
       "[<div class=\"Product-info\"> <div class=\"Product-title Label mix-primary-text\" style=\"\">Nitti 21980S 防滑工作鞋</div> <div class=\"Label-price sl-price\">HK$420.00</div> </div>,\n",
       " <div class=\"Product-info\"> <div class=\"Product-title Label mix-primary-text\" style=\"\">PUMA FUSE KNIT BLACK WNS LOW 安全鞋</div> <div class=\"Label-price sl-price\">HK$1,250.00</div> </div>,\n",
       " <div class=\"Product-info\"> <div class=\"Product-title Label mix-primary-text\" style=\"\">PUMA FRONTSIDE LOW 纖維頭及防刺穿中底安全鞋</div> <div class=\"Label-price sl-price\">HK$1,050.00</div> </div>,\n",
       " <div class=\"Product-info\"> <div class=\"Product-title Label mix-primary-text\" style=\"\">PUMA AIRTWIST BLUE LOW 纖維頭及防刺穿中底安全鞋</div> <div class=\"Label-price sl-price\">HK$1,100.00</div> </div>,\n",
       " <div class=\"Product-info\"> <div class=\"Product-title Label mix-primary-text\" style=\"\">PUMA AIRTWIST BLACK LOW 纖維頭及防刺穿中底安全鞋</div> <div class=\"Label-price sl-price\">HK$1,100.00</div> </div>,\n",
       " <div class=\"Product-info\"> <div class=\"Product-title Label mix-primary-text\" style=\"\">PUMA SIERRA NEVADA MID 纖維頭纖維底高筒安全鞋</div> <div class=\"Label-price sl-price\">HK$1,690.00</div> </div>,\n",
       " <div class=\"Product-info\"> <div class=\"Product-title Label mix-primary-text\" style=\"\">PUMA CHARGE ORANGE LOW 纖維頭纖維底安全鞋</div> <div class=\"Label-price sl-price\">HK$1,100.00</div> </div>,\n",
       " <div class=\"Product-info\"> <div class=\"Product-title Label mix-primary-text\" style=\"\">PUMA CONQUEST STONE HIGH 纖維頭纖維底高筒安全鞋</div> <div class=\"Label-price sl-price\">HK$1,300.00</div> </div>,\n",
       " <div class=\"Product-info\"> <div class=\"Product-title Label mix-primary-text\" style=\"\">SMAAT SFM160 鋼頭鋼底安全鞋</div> <div class=\"Label-price sl-price\">HK$350.00</div> </div>,\n",
       " <div class=\"Product-info\"> <div class=\"Product-title Label mix-primary-text\" style=\"\">SMAAT SFC200  纖維頭及防刺穿中底安全鞋</div> <div class=\"Label-price sl-price\">HK$455.00</div> </div>,\n",
       " <div class=\"Product-info\"> <div class=\"Product-title Label mix-primary-text\" style=\"\">SMAAT SFC220  纖維頭及防刺穿中底安全鞋</div> <div class=\"Label-price sl-price\">HK$440.00</div> </div>,\n",
       " <div class=\"Product-info\"> <div class=\"Product-title Label mix-primary-text\" style=\"\">Albatros TOFANE BLACK QL CTX MID 纖維頭纖維底安全鞋</div> <div class=\"Label-price sl-price\">HK$1,400.00</div> </div>,\n",
       " <div class=\"Product-info\"> <div class=\"Product-title Label mix-primary-text\" style=\"\">Albatros ANTELAO QL LOW 纖維頭纖維底安全鞋</div> <div class=\"Label-price sl-price\">HK$1,030.00</div> </div>,\n",
       " <div class=\"Product-info\"> <div class=\"Product-title Label mix-primary-text\" style=\"\">OTTER OWT993KW 鋼頭鋼底安全鞋</div> <div class=\"Label-price sl-price\">HK$1,130.00</div> </div>,\n",
       " <div class=\"Product-info\"> <div class=\"Product-title Label mix-primary-text\" style=\"\">OTTER OWT900KW 鋼頭鋼底安全鞋</div> <div class=\"Label-price sl-price\">HK$1,065.00</div> </div>,\n",
       " <div class=\"Product-info\"> <div class=\"Product-title Label mix-primary-text\" style=\"\">OTTER OWT805KW-R 鋼頭鋼底安全鞋</div> <div class=\"Label-price sl-price\">HK$1,700.00</div> </div>,\n",
       " <div class=\"Product-info\"> <div class=\"Product-title Label mix-primary-text\" style=\"\">King's KL331Z 防滑工作鞋</div> <div class=\"Label-price sl-price is-sale primary-color-price\">              HK$328.00            </div> <div class=\"Label-price sl-price Label-price-original\">HK$410.00</div> </div>,\n",
       " <div class=\"Product-info\"> <div class=\"Product-title Label mix-primary-text\" style=\"\">King's KWS807Z 防滑工作鞋</div> <div class=\"Label-price sl-price is-sale primary-color-price\">              HK$352.00            </div> <div class=\"Label-price sl-price Label-price-original\">HK$440.00</div> </div>,\n",
       " <div class=\"Product-info\"> <div class=\"Product-title Label mix-primary-text\" style=\"\">King's KWD807 鋼頭鋼底安全鞋</div> <div class=\"Label-price sl-price is-sale primary-color-price\">              HK$480.00            </div> <div class=\"Label-price sl-price Label-price-original\">HK$600.00</div> </div>,\n",
       " <div class=\"Product-info\"> <div class=\"Product-title Label mix-primary-text\" style=\"\">King's KWD806 鋼頭鋼底安全靴</div> <div class=\"Label-price sl-price is-sale primary-color-price\">              HK$495.00            </div> <div class=\"Label-price sl-price Label-price-original\">HK$610.00</div> </div>,\n",
       " <div class=\"Product-info\"> <div class=\"Product-title Label mix-primary-text\" style=\"\">King's KJ404Z  防滑工作鞋</div> <div class=\"Label-price sl-price is-sale primary-color-price\">              HK$328.00            </div> <div class=\"Label-price sl-price Label-price-original\">HK$410.00</div> </div>,\n",
       " <div class=\"Product-info\"> <div class=\"Product-title Label mix-primary-text\" style=\"\">King's KWD805C  鋼頭鋼底安全靴</div> <div class=\"Label-price sl-price is-sale primary-color-price\">              HK$592.00            </div> <div class=\"Label-price sl-price Label-price-original\">HK$740.00</div> </div>,\n",
       " <div class=\"Product-info\"> <div class=\"Product-title Label mix-primary-text\" style=\"\">King's KWD805  鋼頭鋼底安全靴</div> <div class=\"Label-price sl-price is-sale primary-color-price\">              HK$592.00            </div> <div class=\"Label-price sl-price Label-price-original\">HK$740.00</div> </div>,\n",
       " <div class=\"Product-info\"> <div class=\"Product-title Label mix-primary-text\" style=\"\">King's KWS901 鋼頭鋼底安全鞋</div> <div class=\"Label-price sl-price is-sale primary-color-price\">              HK$392.00            </div> <div class=\"Label-price sl-price Label-price-original\">HK$490.00</div> </div>]"
      ]
     },
     "execution_count": 3,
     "metadata": {},
     "output_type": "execute_result"
    }
   ],
   "source": [
    "divs = soup.select('div.Product-info')\n",
    "divs"
   ]
  },
  {
   "cell_type": "code",
   "execution_count": 4,
   "id": "06948ec6",
   "metadata": {
    "scrolled": false
   },
   "outputs": [
    {
     "data": {
      "text/plain": [
       "<div class=\"Product-info\"> <div class=\"Product-title Label mix-primary-text\" style=\"\">Nitti 21980S 防滑工作鞋</div> <div class=\"Label-price sl-price\">HK$420.00</div> </div>"
      ]
     },
     "execution_count": 4,
     "metadata": {},
     "output_type": "execute_result"
    }
   ],
   "source": [
    "divs = soup.select('div.Product-info')\n",
    "divs[0]"
   ]
  },
  {
   "cell_type": "code",
   "execution_count": 5,
   "id": "f868f9ab",
   "metadata": {},
   "outputs": [
    {
     "data": {
      "text/plain": [
       "[<div class=\"Product-title Label mix-primary-text\" style=\"\">Nitti 21980S 防滑工作鞋</div>]"
      ]
     },
     "execution_count": 5,
     "metadata": {},
     "output_type": "execute_result"
    }
   ],
   "source": [
    "divs[0].select('div.Product-title.Label.mix-primary-text')"
   ]
  },
  {
   "cell_type": "code",
   "execution_count": 10,
   "id": "f2de4a7f",
   "metadata": {},
   "outputs": [
    {
     "data": {
      "text/plain": [
       "'Nitti 21980S 防滑工作鞋'"
      ]
     },
     "execution_count": 10,
     "metadata": {},
     "output_type": "execute_result"
    }
   ],
   "source": [
    "divs[0].select('div.Product-title.Label.mix-primary-text')[0].text"
   ]
  },
  {
   "cell_type": "code",
   "execution_count": 11,
   "id": "03e1c9aa",
   "metadata": {},
   "outputs": [
    {
     "name": "stdout",
     "output_type": "stream",
     "text": [
      "Nitti 21980S 防滑工作鞋\n",
      "PUMA FUSE KNIT BLACK WNS LOW 安全鞋\n",
      "PUMA FRONTSIDE LOW 纖維頭及防刺穿中底安全鞋\n",
      "PUMA AIRTWIST BLUE LOW 纖維頭及防刺穿中底安全鞋\n",
      "PUMA AIRTWIST BLACK LOW 纖維頭及防刺穿中底安全鞋\n",
      "PUMA SIERRA NEVADA MID 纖維頭纖維底高筒安全鞋\n",
      "PUMA CHARGE ORANGE LOW 纖維頭纖維底安全鞋\n",
      "PUMA CONQUEST STONE HIGH 纖維頭纖維底高筒安全鞋\n",
      "SMAAT SFM160 鋼頭鋼底安全鞋\n",
      "SMAAT SFC200  纖維頭及防刺穿中底安全鞋\n",
      "SMAAT SFC220  纖維頭及防刺穿中底安全鞋\n",
      "Albatros TOFANE BLACK QL CTX MID 纖維頭纖維底安全鞋\n",
      "Albatros ANTELAO QL LOW 纖維頭纖維底安全鞋\n",
      "OTTER OWT993KW 鋼頭鋼底安全鞋\n",
      "OTTER OWT900KW 鋼頭鋼底安全鞋\n",
      "OTTER OWT805KW-R 鋼頭鋼底安全鞋\n",
      "King's KL331Z 防滑工作鞋\n",
      "King's KWS807Z 防滑工作鞋\n",
      "King's KWD807 鋼頭鋼底安全鞋\n",
      "King's KWD806 鋼頭鋼底安全靴\n",
      "King's KJ404Z  防滑工作鞋\n",
      "King's KWD805C  鋼頭鋼底安全靴\n",
      "King's KWD805  鋼頭鋼底安全靴\n",
      "King's KWS901 鋼頭鋼底安全鞋\n"
     ]
    }
   ],
   "source": [
    "for div in divs:\n",
    "    print(div.select('div.Product-title.Label.mix-primary-text')[0].text)"
   ]
  },
  {
   "cell_type": "code",
   "execution_count": null,
   "id": "b3e5372b",
   "metadata": {},
   "outputs": [],
   "source": []
  }
 ],
 "metadata": {
  "kernelspec": {
   "display_name": "Python 3",
   "language": "python",
   "name": "python3"
  },
  "language_info": {
   "codemirror_mode": {
    "name": "ipython",
    "version": 3
   },
   "file_extension": ".py",
   "mimetype": "text/x-python",
   "name": "python",
   "nbconvert_exporter": "python",
   "pygments_lexer": "ipython3",
   "version": "3.8.8"
  },
  "varInspector": {
   "cols": {
    "lenName": "",
    "lenType": 16,
    "lenVar": 40
   },
   "kernels_config": {
    "python": {
     "delete_cmd_postfix": "",
     "delete_cmd_prefix": "del ",
     "library": "var_list.py",
     "varRefreshCmd": "print(var_dic_list())"
    },
    "r": {
     "delete_cmd_postfix": ") ",
     "delete_cmd_prefix": "rm(",
     "library": "var_list.r",
     "varRefreshCmd": "cat(var_dic_list()) "
    }
   },
   "types_to_exclude": [
    "module",
    "function",
    "builtin_function_or_method",
    "instance",
    "_Feature"
   ],
   "window_display": false
  }
 },
 "nbformat": 4,
 "nbformat_minor": 5
}
