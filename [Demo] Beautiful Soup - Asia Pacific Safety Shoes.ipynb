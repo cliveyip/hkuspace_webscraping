{
 "cells": [
  {
   "cell_type": "markdown",
   "id": "e6348a24",
   "metadata": {},
   "source": [
    "Import libraries"
   ]
  },
  {
   "cell_type": "code",
   "execution_count": 1,
   "id": "bf621cb6",
   "metadata": {},
   "outputs": [],
   "source": [
    "import requests\n",
    "from bs4 import BeautifulSoup\n",
    "import pandas as pd"
   ]
  },
  {
   "cell_type": "markdown",
   "id": "76fa9225",
   "metadata": {},
   "source": [
    "Send request to the website <br>\n",
    "And create Beautiful Soup object <br>"
   ]
  },
  {
   "cell_type": "code",
   "execution_count": 2,
   "id": "b461c6d6",
   "metadata": {
    "scrolled": false
   },
   "outputs": [],
   "source": [
    "url = requests.get('https://www.eshop-apisehk.com/categories/foot-protection?locale=en')\n",
    "soup = BeautifulSoup(url.content , 'html.parser') "
   ]
  },
  {
   "cell_type": "markdown",
   "id": "817cd635",
   "metadata": {},
   "source": [
    "Get all products on the page"
   ]
  },
  {
   "cell_type": "code",
   "execution_count": 3,
   "id": "1ecd52bf",
   "metadata": {
    "scrolled": true
   },
   "outputs": [
    {
     "data": {
      "text/plain": [
       "[<div class=\"Product-info\"> <div class=\"Product-title Label mix-primary-text\" style=\"\">Nitti 21980S Work Shoes</div> <div class=\"Label-price sl-price\">HK$420.00</div> </div>,\n",
       " <div class=\"Product-info\"> <div class=\"Product-title Label mix-primary-text\" style=\"\">PUMA FUSE KNIT BLACK WNS LOW Safety Shoes</div> <div class=\"Label-price sl-price\">HK$1,250.00</div> </div>,\n",
       " <div class=\"Product-info\"> <div class=\"Product-title Label mix-primary-text\" style=\"\">PUMA FRONTSIDE LOW Composite Toecap Composite Midsole Safety Shoes</div> <div class=\"Label-price sl-price\">HK$1,050.00</div> </div>,\n",
       " <div class=\"Product-info\"> <div class=\"Product-title Label mix-primary-text\" style=\"\">PUMA AIRTWIST BLUE LOW Composite Toecap Composite Midsole Safety Shoes</div> <div class=\"Label-price sl-price\">HK$1,100.00</div> </div>,\n",
       " <div class=\"Product-info\"> <div class=\"Product-title Label mix-primary-text\" style=\"\">PUMA AIRTWIST BLACK LOW Composite Toecap Composite Midsole Safety Shoes</div> <div class=\"Label-price sl-price\">HK$1,100.00</div> </div>,\n",
       " <div class=\"Product-info\"> <div class=\"Product-title Label mix-primary-text\" style=\"\">PUMA SIERRA NEVADA MID Composite Toecap and Composite Midsole Safety Boots</div> <div class=\"Label-price sl-price\">HK$1,690.00</div> </div>,\n",
       " <div class=\"Product-info\"> <div class=\"Product-title Label mix-primary-text\" style=\"\">PUMA CHARGE ORANGE LOW Composite Toecap and Composite Midsole Safety Shoes</div> <div class=\"Label-price sl-price\">HK$1,100.00</div> </div>,\n",
       " <div class=\"Product-info\"> <div class=\"Product-title Label mix-primary-text\" style=\"\">PUMA CONQUEST STONE HIGH Composite Toecap and Composite Midsole Safety Boots</div> <div class=\"Label-price sl-price\">HK$1,300.00</div> </div>,\n",
       " <div class=\"Product-info\"> <div class=\"Product-title Label mix-primary-text\" style=\"\">SMAAT SFM160 Safety Shoes with Steel Toecap and Steel Midsole</div> <div class=\"Label-price sl-price\">HK$350.00</div> </div>,\n",
       " <div class=\"Product-info\"> <div class=\"Product-title Label mix-primary-text\" style=\"\">SMAAT SFC200 Safety Shoes with Composite Cap and Anti-penetration Midsole</div> <div class=\"Label-price sl-price\">HK$455.00</div> </div>,\n",
       " <div class=\"Product-info\"> <div class=\"Product-title Label mix-primary-text\" style=\"\">SMAAT SFC220 Safety Shoes with Composite Cap and Anti-penetration Midsole</div> <div class=\"Label-price sl-price\">HK$440.00</div> </div>,\n",
       " <div class=\"Product-info\"> <div class=\"Product-title Label mix-primary-text\" style=\"\">Albatros ANTELAO QL LOW Composite toe cap and Composite midsole safety shoes</div> <div class=\"Label-price sl-price\">HK$1,030.00</div> </div>,\n",
       " <div class=\"Product-info\"> <div class=\"Product-title Label mix-primary-text\" style=\"\">OTTER OWT993KW Safety Shoes</div> <div class=\"Label-price sl-price\">HK$1,130.00</div> </div>,\n",
       " <div class=\"Product-info\"> <div class=\"Product-title Label mix-primary-text\" style=\"\">OTTER OWT900KW Safety Shoes</div> <div class=\"Label-price sl-price\">HK$1,065.00</div> </div>,\n",
       " <div class=\"Product-info\"> <div class=\"Product-title Label mix-primary-text\" style=\"\">OTTER OWT805KW-R Safety Shoes</div> <div class=\"Label-price sl-price\">HK$1,700.00</div> </div>,\n",
       " <div class=\"Product-info\"> <div class=\"Product-title Label mix-primary-text\" style=\"\">King's KL331Z Anti-slip Working Shoes</div> <div class=\"Label-price sl-price is-sale primary-color-price\">              HK$328.00            </div> <div class=\"Label-price sl-price Label-price-original\">HK$410.00</div> </div>,\n",
       " <div class=\"Product-info\"> <div class=\"Product-title Label mix-primary-text\" style=\"\">King's KWS807Z Anti-slip Working Shoes</div> <div class=\"Label-price sl-price is-sale primary-color-price\">              HK$352.00            </div> <div class=\"Label-price sl-price Label-price-original\">HK$440.00</div> </div>,\n",
       " <div class=\"Product-info\"> <div class=\"Product-title Label mix-primary-text\" style=\"\">King's KWD807 Steel Toe Steel Midsole Safety Shoes</div> <div class=\"Label-price sl-price is-sale primary-color-price\">              HK$480.00            </div> <div class=\"Label-price sl-price Label-price-original\">HK$600.00</div> </div>,\n",
       " <div class=\"Product-info\"> <div class=\"Product-title Label mix-primary-text\" style=\"\">King's KWD806 Steel Toe Steel Midsole Safety Boots</div> <div class=\"Label-price sl-price is-sale primary-color-price\">              HK$495.00            </div> <div class=\"Label-price sl-price Label-price-original\">HK$610.00</div> </div>,\n",
       " <div class=\"Product-info\"> <div class=\"Product-title Label mix-primary-text\" style=\"\">King's KJ404Z Anti-slip Working Shoes</div> <div class=\"Label-price sl-price is-sale primary-color-price\">              HK$328.00            </div> <div class=\"Label-price sl-price Label-price-original\">HK$410.00</div> </div>,\n",
       " <div class=\"Product-info\"> <div class=\"Product-title Label mix-primary-text\" style=\"\">King's KWD805C Steel Toe Steel Midsole Safety Boots</div> <div class=\"Label-price sl-price is-sale primary-color-price\">              HK$592.00            </div> <div class=\"Label-price sl-price Label-price-original\">HK$740.00</div> </div>,\n",
       " <div class=\"Product-info\"> <div class=\"Product-title Label mix-primary-text\" style=\"\">King's KWD805 Steel Toe Steel Midsole Safety Boots</div> <div class=\"Label-price sl-price is-sale primary-color-price\">              HK$592.00            </div> <div class=\"Label-price sl-price Label-price-original\">HK$740.00</div> </div>,\n",
       " <div class=\"Product-info\"> <div class=\"Product-title Label mix-primary-text\" style=\"\">King's KWS901 Steel Toe Steel Midsole Safety Shoes</div> <div class=\"Label-price sl-price is-sale primary-color-price\">              HK$392.00            </div> <div class=\"Label-price sl-price Label-price-original\">HK$490.00</div> </div>,\n",
       " <div class=\"Product-info\"> <div class=\"Product-title Label mix-primary-text\" style=\"\">King's KWS803 Steel Toe Steel Midsole Safety Shoes</div> <div class=\"Label-price sl-price is-sale primary-color-price\">              HK$488.00            </div> <div class=\"Label-price sl-price Label-price-original\">HK$610.00</div> </div>]"
      ]
     },
     "execution_count": 3,
     "metadata": {},
     "output_type": "execute_result"
    }
   ],
   "source": [
    "products = soup.select('div.Product-info')\n",
    "products"
   ]
  },
  {
   "cell_type": "code",
   "execution_count": 4,
   "id": "f3dd6b83",
   "metadata": {},
   "outputs": [
    {
     "data": {
      "text/plain": [
       "24"
      ]
     },
     "execution_count": 4,
     "metadata": {},
     "output_type": "execute_result"
    }
   ],
   "source": [
    "# length of 'products', i.e. number of products\n",
    "len(products)"
   ]
  },
  {
   "cell_type": "code",
   "execution_count": 5,
   "id": "06948ec6",
   "metadata": {
    "scrolled": false
   },
   "outputs": [
    {
     "data": {
      "text/plain": [
       "<div class=\"Product-info\"> <div class=\"Product-title Label mix-primary-text\" style=\"\">Nitti 21980S Work Shoes</div> <div class=\"Label-price sl-price\">HK$420.00</div> </div>"
      ]
     },
     "execution_count": 5,
     "metadata": {},
     "output_type": "execute_result"
    }
   ],
   "source": [
    "# first product\n",
    "products[0]"
   ]
  },
  {
   "cell_type": "markdown",
   "id": "6833dac4",
   "metadata": {},
   "source": [
    "Get product name"
   ]
  },
  {
   "cell_type": "code",
   "execution_count": 6,
   "id": "f868f9ab",
   "metadata": {},
   "outputs": [
    {
     "name": "stdout",
     "output_type": "stream",
     "text": [
      "[<div class=\"Product-title Label mix-primary-text\" style=\"\">Nitti 21980S Work Shoes</div>]\n"
     ]
    }
   ],
   "source": [
    "first_product_name = products[0].select('div.Product-title.Label.mix-primary-text')\n",
    "print(first_product_name)"
   ]
  },
  {
   "cell_type": "code",
   "execution_count": 7,
   "id": "f2de4a7f",
   "metadata": {},
   "outputs": [
    {
     "data": {
      "text/plain": [
       "'Nitti 21980S Work Shoes'"
      ]
     },
     "execution_count": 7,
     "metadata": {},
     "output_type": "execute_result"
    }
   ],
   "source": [
    "first_product_name[0].text"
   ]
  },
  {
   "cell_type": "markdown",
   "id": "09cbc626",
   "metadata": {},
   "source": [
    "Get product price"
   ]
  },
  {
   "cell_type": "code",
   "execution_count": 8,
   "id": "73db6790",
   "metadata": {},
   "outputs": [
    {
     "data": {
      "text/plain": [
       "[<div class=\"Label-price sl-price\">HK$420.00</div>]"
      ]
     },
     "execution_count": 8,
     "metadata": {},
     "output_type": "execute_result"
    }
   ],
   "source": [
    "first_product_price = products[0].select('div.Label-price.sl-price ')\n",
    "first_product_price"
   ]
  },
  {
   "cell_type": "code",
   "execution_count": 9,
   "id": "a4ad378d",
   "metadata": {},
   "outputs": [
    {
     "data": {
      "text/plain": [
       "'HK$420.00'"
      ]
     },
     "execution_count": 9,
     "metadata": {},
     "output_type": "execute_result"
    }
   ],
   "source": [
    "first_product_price = first_product_price[0].text\n",
    "first_product_price"
   ]
  },
  {
   "cell_type": "code",
   "execution_count": 10,
   "id": "a1d72064",
   "metadata": {},
   "outputs": [
    {
     "data": {
      "text/plain": [
       "'420.00'"
      ]
     },
     "execution_count": 10,
     "metadata": {},
     "output_type": "execute_result"
    }
   ],
   "source": [
    "first_product_price = first_product_price.replace('HK$', '')\n",
    "first_product_price"
   ]
  },
  {
   "cell_type": "code",
   "execution_count": 11,
   "id": "b07d6497",
   "metadata": {},
   "outputs": [
    {
     "data": {
      "text/plain": [
       "420.0"
      ]
     },
     "execution_count": 11,
     "metadata": {},
     "output_type": "execute_result"
    }
   ],
   "source": [
    "first_product_price = float(first_product_price)\n",
    "first_product_price"
   ]
  },
  {
   "cell_type": "markdown",
   "id": "799ca226",
   "metadata": {},
   "source": [
    "Get product link"
   ]
  },
  {
   "cell_type": "code",
   "execution_count": 16,
   "id": "d277a922",
   "metadata": {},
   "outputs": [
    {
     "data": {
      "text/plain": [
       "[<a class=\"Product-item\" ga-product='{\"id\":\"627f315ce3b3600018b08f3e\",\"sku\":\"21980S\",\"variations\":\"[{\\\"key\\\":\\\"6281ed8cd98b7656461941b9\\\",\\\"sku\\\":\\\"21980S\\\",\\\"fields_translations\\\":{\\\"en\\\":[\\\"\\\"],\\\"zh-hant\\\":[\\\"UK2 / EU35\\\"]}}]\",\"title\":\"Nitti 21980S Work Shoes\"}' href=\"https://www.eshop-apisehk.com/products/nitti-21980s-work-shoes\" ng-click='sendGaProductClick(\"627f315ce3b3600018b08f3e\", \"21980S\", [\"{\\\"key\\\":\\\"6281ed8cd98b7656461941b9\\\",\\\"sku\\\":\\\"21980S\\\",\\\"fields_translations\\\":{\\\"en\\\":[\\\"\\\"],\\\"zh-hant\\\":[\\\"UK2 / EU35\\\"]&amp;#125;&amp;#125;\"], \"Nitti 21980S Work Shoes\")' product-id=\"627f315ce3b3600018b08f3e\"> <div class=\"Image-boxify Product-image js-boxify-image\"> <div class=\"Image-boxify-image js-image-boxify-image sl-lazy-image\" style=\"background-image:url(https://shoplineimg.com/5ea1384c68412700240163df/627f02499f487a0018a1977e/800x.jpg?)\"></div> <div class=\"Image-boxify-image js-image-boxify-image sl-lazy-image second-image\" style=\"background-image:url(https://shoplineimg.com/5ea1384c68412700240163df/627f024d895ecc00278916a3/800x.jpg?)\"></div> </div> <div class=\"Product-info\"> <div class=\"Product-title Label mix-primary-text\" style=\"\">Nitti 21980S Work Shoes</div> <div class=\"Label-price sl-price\">HK$420.00</div> </div></a>,\n",
       " <a class=\"Product-item\" ga-product='{\"id\":\"627df8436d0a490018b2f98a\",\"sku\":\"643930\",\"variations\":\"[{\\\"key\\\":\\\"627df8431f1b1b0014facf08\\\",\\\"sku\\\":\\\"643930\\\",\\\"fields_translations\\\":{\\\"en\\\":[\\\"\\\"],\\\"zh-hant\\\":[\\\"UK3/EU36\\\"]}}]\",\"title\":\"PUMA FUSE KNIT BLACK WNS LOW Safety Shoes\"}' href=\"https://www.eshop-apisehk.com/products/puma-fuse-knit-black-wns-low-safety-shoes\" ng-click='sendGaProductClick(\"627df8436d0a490018b2f98a\", \"643930\", [\"{\\\"key\\\":\\\"627df8431f1b1b0014facf08\\\",\\\"sku\\\":\\\"643930\\\",\\\"fields_translations\\\":{\\\"en\\\":[\\\"\\\"],\\\"zh-hant\\\":[\\\"UK3/EU36\\\"]&amp;#125;&amp;#125;\"], \"PUMA FUSE KNIT BLACK WNS LOW Safety Shoes\")' product-id=\"627df8436d0a490018b2f98a\"> <div class=\"Image-boxify Product-image js-boxify-image\"> <div class=\"Image-boxify-image js-image-boxify-image sl-lazy-image\" style=\"background-image:url(https://shoplineimg.com/5ea1384c68412700240163df/627dd2e6a926958032b243e8/800x.jpg?)\"></div> <div class=\"Image-boxify-image js-image-boxify-image sl-lazy-image second-image\" style=\"background-image:url(https://shoplineimg.com/5ea1384c68412700240163df/627dd2ea67575e1fee5a0e88/800x.jpg?)\"></div> </div> <div class=\"Product-info\"> <div class=\"Product-title Label mix-primary-text\" style=\"\">PUMA FUSE KNIT BLACK WNS LOW Safety Shoes</div> <div class=\"Label-price sl-price\">HK$1,250.00</div> </div></a>,\n",
       " <a class=\"Product-item\" ga-product='{\"id\":\"627cdba372915441d83344a4\",\"sku\":\"644640\",\"variations\":\"[{\\\"key\\\":\\\"627cdba22bafbc0017a8880a\\\",\\\"sku\\\":\\\"644640\\\",\\\"fields_translations\\\":{\\\"en\\\":[\\\"\\\"],\\\"zh-hant\\\":[\\\"UK6/ EU39\\\"]}}]\",\"title\":\"PUMA FRONTSIDE LOW Composite Toecap Composite Midsole Safety Shoes\"}' href=\"https://www.eshop-apisehk.com/products/puma-frontside-low-composite-toecap-composite-midsole-safety-shoes\" ng-click='sendGaProductClick(\"627cdba372915441d83344a4\", \"644640\", [\"{\\\"key\\\":\\\"627cdba22bafbc0017a8880a\\\",\\\"sku\\\":\\\"644640\\\",\\\"fields_translations\\\":{\\\"en\\\":[\\\"\\\"],\\\"zh-hant\\\":[\\\"UK6/ EU39\\\"]&amp;#125;&amp;#125;\"], \"PUMA FRONTSIDE LOW Composite Toecap Composite Midsole Safety Shoes\")' product-id=\"627cdba372915441d83344a4\"> <div class=\"Image-boxify Product-image js-boxify-image\"> <div class=\"Image-boxify-image js-image-boxify-image sl-lazy-image\" style=\"background-image:url(https://shoplineimg.com/5ea1384c68412700240163df/627cda7faffd866ca00fa66d/800x.jpg?)\"></div> <div class=\"Image-boxify-image js-image-boxify-image sl-lazy-image second-image\" style=\"background-image:url(https://shoplineimg.com/5ea1384c68412700240163df/627cda84b30956001e9818ba/800x.jpg?)\"></div> </div> <div class=\"Product-info\"> <div class=\"Product-title Label mix-primary-text\" style=\"\">PUMA FRONTSIDE LOW Composite Toecap Composite Midsole Safety Shoes</div> <div class=\"Label-price sl-price\">HK$1,050.00</div> </div></a>,\n",
       " <a class=\"Product-item\" ga-product='{\"id\":\"627ccf06d5ccb30027196659\",\"sku\":\"644620\",\"variations\":\"[{\\\"key\\\":\\\"627ccf06f0d09c00143e27d9\\\",\\\"sku\\\":\\\"644620\\\",\\\"fields_translations\\\":{\\\"en\\\":[\\\"\\\"],\\\"zh-hant\\\":[\\\"UK6/ EU39\\\"]}}]\",\"title\":\"PUMA AIRTWIST BLUE LOW Composite Toecap Composite Midsole Safety Shoes\"}' href=\"https://www.eshop-apisehk.com/products/627ccf06d5ccb30027196659\" ng-click='sendGaProductClick(\"627ccf06d5ccb30027196659\", \"644620\", [\"{\\\"key\\\":\\\"627ccf06f0d09c00143e27d9\\\",\\\"sku\\\":\\\"644620\\\",\\\"fields_translations\\\":{\\\"en\\\":[\\\"\\\"],\\\"zh-hant\\\":[\\\"UK6/ EU39\\\"]&amp;#125;&amp;#125;\"], \"PUMA AIRTWIST BLUE LOW Composite Toecap Composite Midsole Safety Shoes\")' product-id=\"627ccf06d5ccb30027196659\"> <div class=\"Image-boxify Product-image js-boxify-image\"> <div class=\"Image-boxify-image js-image-boxify-image sl-lazy-image\" style=\"background-image:url(https://shoplineimg.com/5ea1384c68412700240163df/627ccc71b81a2e514b623b44/800x.jpg?)\"></div> <div class=\"Image-boxify-image js-image-boxify-image sl-lazy-image second-image\" style=\"background-image:url(https://shoplineimg.com/5ea1384c68412700240163df/627ccc763a7541000fb06daf/800x.jpg?)\"></div> </div> <div class=\"Product-info\"> <div class=\"Product-title Label mix-primary-text\" style=\"\">PUMA AIRTWIST BLUE LOW Composite Toecap Composite Midsole Safety Shoes</div> <div class=\"Label-price sl-price\">HK$1,100.00</div> </div></a>,\n",
       " <a class=\"Product-item\" ga-product='{\"id\":\"61767ca4f9ff5e001dc9ed75\",\"sku\":\"644650\",\"variations\":\"[{\\\"key\\\":\\\"61767f742ae6e5000e959c66\\\",\\\"sku\\\":\\\"644650\\\",\\\"fields_translations\\\":{\\\"en\\\":[\\\"\\\"],\\\"zh-hant\\\":[\\\"UK6/ EU39\\\"]}}]\",\"title\":\"PUMA AIRTWIST BLACK LOW Composite Toecap Composite Midsole Safety Shoes\"}' href=\"https://www.eshop-apisehk.com/products/puma-airtwist-black-low-composite-toecap-composite-midsole-safety-shoes\" ng-click='sendGaProductClick(\"61767ca4f9ff5e001dc9ed75\", \"644650\", [\"{\\\"key\\\":\\\"61767f742ae6e5000e959c66\\\",\\\"sku\\\":\\\"644650\\\",\\\"fields_translations\\\":{\\\"en\\\":[\\\"\\\"],\\\"zh-hant\\\":[\\\"UK6/ EU39\\\"]&amp;#125;&amp;#125;\"], \"PUMA AIRTWIST BLACK LOW Composite Toecap Composite Midsole Safety Shoes\")' product-id=\"61767ca4f9ff5e001dc9ed75\"> <div class=\"Image-boxify Product-image js-boxify-image\"> <div class=\"Image-boxify-image js-image-boxify-image sl-lazy-image\" style=\"background-image:url(https://shoplineimg.com/5ea1384c68412700240163df/6179fac5730e40003b9971e5/800x.jpg?)\"></div> <div class=\"Image-boxify-image js-image-boxify-image sl-lazy-image second-image\" style=\"background-image:url(https://shoplineimg.com/5ea1384c68412700240163df/6179fac803ecd8002f9224f8/800x.jpg?)\"></div> </div> <div class=\"Product-info\"> <div class=\"Product-title Label mix-primary-text\" style=\"\">PUMA AIRTWIST BLACK LOW Composite Toecap Composite Midsole Safety Shoes</div> <div class=\"Label-price sl-price\">HK$1,100.00</div> </div></a>,\n",
       " <a class=\"Product-item\" ga-product='{\"id\":\"61766bdbf9ff5e0011c9e6ed\",\"sku\":\"\",\"variations\":\"[{\\\"key\\\":\\\"61766bdbbe66370009927b16\\\",\\\"sku\\\":\\\"630220\\\",\\\"fields_translations\\\":{\\\"en\\\":[\\\"\\\"],\\\"zh-hant\\\":[\\\"UK6/ EU39\\\"]}}]\",\"title\":\"PUMA SIERRA NEVADA MID Composite Toecap and Composite Midsole Safety Boots\"}' href=\"https://www.eshop-apisehk.com/products/puma-sierra-nevada-mid\" ng-click='sendGaProductClick(\"61766bdbf9ff5e0011c9e6ed\", \"\", [\"{\\\"key\\\":\\\"61766bdbbe66370009927b16\\\",\\\"sku\\\":\\\"630220\\\",\\\"fields_translations\\\":{\\\"en\\\":[\\\"\\\"],\\\"zh-hant\\\":[\\\"UK6/ EU39\\\"]&amp;#125;&amp;#125;\"], \"PUMA SIERRA NEVADA MID Composite Toecap and Composite Midsole Safety Boots\")' product-id=\"61766bdbf9ff5e0011c9e6ed\"> <div class=\"Image-boxify Product-image js-boxify-image\"> <div class=\"Image-boxify-image js-image-boxify-image sl-lazy-image\" style=\"background-image:url(https://shoplineimg.com/5ea1384c68412700240163df/617a5fa192b0c100118df97a/800x.jpg?)\"></div> <div class=\"Image-boxify-image js-image-boxify-image sl-lazy-image second-image\" style=\"background-image:url(https://shoplineimg.com/5ea1384c68412700240163df/617a5fa4b069ec0017721968/800x.jpg?)\"></div> </div> <div class=\"Product-info\"> <div class=\"Product-title Label mix-primary-text\" style=\"\">PUMA SIERRA NEVADA MID Composite Toecap and Composite Midsole Safety Boots</div> <div class=\"Label-price sl-price\">HK$1,690.00</div> </div></a>,\n",
       " <a class=\"Product-item\" ga-product='{\"id\":\"61765666f9ff5e0029c9de58\",\"sku\":\"\",\"variations\":\"[{\\\"key\\\":\\\"6176566652c3800014b9b705\\\",\\\"sku\\\":\\\"644550\\\",\\\"fields_translations\\\":{\\\"en\\\":[\\\"\\\"],\\\"zh-hant\\\":[\\\"UK3/ EU36\\\"]}}]\",\"title\":\"PUMA CHARGE ORANGE LOW Composite Toecap and Composite Midsole Safety Shoes\"}' href=\"https://www.eshop-apisehk.com/products/puma-charge-orange-low\" ng-click='sendGaProductClick(\"61765666f9ff5e0029c9de58\", \"\", [\"{\\\"key\\\":\\\"6176566652c3800014b9b705\\\",\\\"sku\\\":\\\"644550\\\",\\\"fields_translations\\\":{\\\"en\\\":[\\\"\\\"],\\\"zh-hant\\\":[\\\"UK3/ EU36\\\"]&amp;#125;&amp;#125;\"], \"PUMA CHARGE ORANGE LOW Composite Toecap and Composite Midsole Safety Shoes\")' product-id=\"61765666f9ff5e0029c9de58\"> <div class=\"Image-boxify Product-image js-boxify-image\"> <div class=\"Image-boxify-image js-image-boxify-image sl-lazy-image\" style=\"background-image:url(https://shoplineimg.com/5ea1384c68412700240163df/6179fa54730e400014997199/800x.jpg?)\"></div> <div class=\"Image-boxify-image js-image-boxify-image sl-lazy-image second-image\" style=\"background-image:url(https://shoplineimg.com/5ea1384c68412700240163df/6179fa820ed1a80023831a2b/800x.jpg?)\"></div> </div> <div class=\"Product-info\"> <div class=\"Product-title Label mix-primary-text\" style=\"\">PUMA CHARGE ORANGE LOW Composite Toecap and Composite Midsole Safety Shoes</div> <div class=\"Label-price sl-price\">HK$1,100.00</div> </div></a>,\n",
       " <a class=\"Product-item\" ga-product='{\"id\":\"6172450cb6e16f002c6aa81a\",\"sku\":\"\",\"variations\":\"[{\\\"key\\\":\\\"6172450c9621d13cc43c6320\\\",\\\"sku\\\":\\\"630740\\\",\\\"fields_translations\\\":{\\\"en\\\":[\\\"\\\"],\\\"zh-hant\\\":[\\\"UK6.5/ EU40\\\"]}}]\",\"title\":\"PUMA CONQUEST STONE HIGH Composite Toecap and Composite Midsole Safety Boots\"}' href=\"https://www.eshop-apisehk.com/products/puma-conquest-stone-high-composite-toecap-and-composite\" ng-click='sendGaProductClick(\"6172450cb6e16f002c6aa81a\", \"\", [\"{\\\"key\\\":\\\"6172450c9621d13cc43c6320\\\",\\\"sku\\\":\\\"630740\\\",\\\"fields_translations\\\":{\\\"en\\\":[\\\"\\\"],\\\"zh-hant\\\":[\\\"UK6.5/ EU40\\\"]&amp;#125;&amp;#125;\"], \"PUMA CONQUEST STONE HIGH Composite Toecap and Composite Midsole Safety Boots\")' product-id=\"6172450cb6e16f002c6aa81a\"> <div class=\"Image-boxify Product-image js-boxify-image\"> <div class=\"Image-boxify-image js-image-boxify-image sl-lazy-image\" style=\"background-image:url(https://shoplineimg.com/5ea1384c68412700240163df/61727dc09783be002904e095/800x.jpg?)\"></div> <div class=\"Image-boxify-image js-image-boxify-image sl-lazy-image second-image\" style=\"background-image:url(https://shoplineimg.com/5ea1384c68412700240163df/61727de7e31d94001de5981a/800x.jpg?)\"></div> </div> <div class=\"Product-info\"> <div class=\"Product-title Label mix-primary-text\" style=\"\">PUMA CONQUEST STONE HIGH Composite Toecap and Composite Midsole Safety Boots</div> <div class=\"Label-price sl-price\">HK$1,300.00</div> </div></a>,\n",
       " <a class=\"Product-item\" ga-product='{\"id\":\"615427b998456a003500ba38\",\"sku\":\"sfm160\",\"variations\":\"[{\\\"key\\\":\\\"615427b944abf1001d36fd19\\\",\\\"sku\\\":\\\"SFM160\\\",\\\"fields_translations\\\":{\\\"en\\\":[\\\"Black\\\",\\\"UK3/EU36\\\"],\\\"zh-hant\\\":[\\\"黑色\\\",\\\"UK3/EU36\\\"]}}]\",\"title\":\"SMAAT SFM160 Safety Shoes with Steel Toecap and Steel Midsole\"}' href=\"https://www.eshop-apisehk.com/products/smaat-sfm160-safety-shoes-with-steel-toecap-and-steel-midsole\" ng-click='sendGaProductClick(\"615427b998456a003500ba38\", \"sfm160\", [\"{\\\"key\\\":\\\"615427b944abf1001d36fd19\\\",\\\"sku\\\":\\\"SFM160\\\",\\\"fields_translations\\\":{\\\"en\\\":[\\\"Black\\\",\\\"UK3/EU36\\\"],\\\"zh-hant\\\":[\\\"黑色\\\",\\\"UK3/EU36\\\"]&amp;#125;&amp;#125;\"], \"SMAAT SFM160 Safety Shoes with Steel Toecap and Steel Midsole\")' product-id=\"615427b998456a003500ba38\"> <div class=\"Image-boxify Product-image js-boxify-image\"> <div class=\"Image-boxify-image js-image-boxify-image sl-lazy-image\" style=\"background-image:url(https://shoplineimg.com/5ea1384c68412700240163df/61541da6da02b5002f5e0db6/800x.jpg?)\"></div> <div class=\"Image-boxify-image js-image-boxify-image sl-lazy-image second-image\" style=\"background-image:url(https://shoplineimg.com/5ea1384c68412700240163df/61541daad66f910014eed1dc/800x.jpg?)\"></div> </div> <div class=\"Product-info\"> <div class=\"Product-title Label mix-primary-text\" style=\"\">SMAAT SFM160 Safety Shoes with Steel Toecap and Steel Midsole</div> <div class=\"Label-price sl-price\">HK$350.00</div> </div></a>,\n",
       " <a class=\"Product-item\" ga-product='{\"id\":\"60f25fd7017f2c003eedf416\",\"sku\":\"sfc200\",\"variations\":\"[{\\\"key\\\":\\\"60f25fd7301aa100176410b7\\\",\\\"sku\\\":\\\"sfc200\\\",\\\"fields_translations\\\":{\\\"en\\\":[\\\"UK3/EU36\\\"],\\\"zh-hant\\\":[\\\"UK3/EU36\\\"]}}]\",\"title\":\"SMAAT SFC200 Safety Shoes with Composite Cap and Anti-penetration Midsole\"}' href=\"https://www.eshop-apisehk.com/products/smaat-sfc200-safety-shoes-with-composite-cap-and-anti-penetration-midsole\" ng-click='sendGaProductClick(\"60f25fd7017f2c003eedf416\", \"sfc200\", [\"{\\\"key\\\":\\\"60f25fd7301aa100176410b7\\\",\\\"sku\\\":\\\"sfc200\\\",\\\"fields_translations\\\":{\\\"en\\\":[\\\"UK3/EU36\\\"],\\\"zh-hant\\\":[\\\"UK3/EU36\\\"]&amp;#125;&amp;#125;\"], \"SMAAT SFC200 Safety Shoes with Composite Cap and Anti-penetration Midsole\")' product-id=\"60f25fd7017f2c003eedf416\"> <div class=\"Image-boxify Product-image js-boxify-image\"> <div class=\"Image-boxify-image js-image-boxify-image sl-lazy-image\" style=\"background-image:url(https://shoplineimg.com/5ea1384c68412700240163df/60f25db1efaa5e001a13ff05/800x.jpg?)\"></div> <div class=\"Image-boxify-image js-image-boxify-image sl-lazy-image second-image\" style=\"background-image:url(https://shoplineimg.com/5ea1384c68412700240163df/60f25db5017f2c0038edf454/800x.jpg?)\"></div> </div> <div class=\"Product-info\"> <div class=\"Product-title Label mix-primary-text\" style=\"\">SMAAT SFC200 Safety Shoes with Composite Cap and Anti-penetration Midsole</div> <div class=\"Label-price sl-price\">HK$455.00</div> </div></a>,\n",
       " <a class=\"Product-item\" ga-product='{\"id\":\"60f25a8b877877001499ebd3\",\"sku\":\"sfc220\",\"variations\":\"[{\\\"key\\\":\\\"60f25a8a301aa1000b64109f\\\",\\\"sku\\\":\\\"sfc220\\\",\\\"fields_translations\\\":{\\\"en\\\":[\\\"UK3/EU36\\\"],\\\"zh-hant\\\":[\\\"UK3/EU36\\\"]}}]\",\"title\":\"SMAAT SFC220 Safety Shoes with Composite Cap and Anti-penetration Midsole\"}' href=\"https://www.eshop-apisehk.com/products/smaat-sfc220-safety-shoes-with-composite-cap-and-anti-penetration-midsole\" ng-click='sendGaProductClick(\"60f25a8b877877001499ebd3\", \"sfc220\", [\"{\\\"key\\\":\\\"60f25a8a301aa1000b64109f\\\",\\\"sku\\\":\\\"sfc220\\\",\\\"fields_translations\\\":{\\\"en\\\":[\\\"UK3/EU36\\\"],\\\"zh-hant\\\":[\\\"UK3/EU36\\\"]&amp;#125;&amp;#125;\"], \"SMAAT SFC220 Safety Shoes with Composite Cap and Anti-penetration Midsole\")' product-id=\"60f25a8b877877001499ebd3\"> <div class=\"Image-boxify Product-image js-boxify-image\"> <div class=\"Image-boxify-image js-image-boxify-image sl-lazy-image\" style=\"background-image:url(https://shoplineimg.com/5ea1384c68412700240163df/60f254bb2b4a3e001a6b406b/800x.jpg?)\"></div> <div class=\"Image-boxify-image js-image-boxify-image sl-lazy-image second-image\" style=\"background-image:url(https://shoplineimg.com/5ea1384c68412700240163df/60f254c0579d0c00230c2260/800x.jpg?)\"></div> </div> <div class=\"Product-info\"> <div class=\"Product-title Label mix-primary-text\" style=\"\">SMAAT SFC220 Safety Shoes with Composite Cap and Anti-penetration Midsole</div> <div class=\"Label-price sl-price\">HK$440.00</div> </div></a>,\n",
       " <a class=\"Product-item\" ga-product='{\"id\":\"60dbde7d53808f002080591b\",\"sku\":\"648520\",\"variations\":\"[{\\\"key\\\":\\\"60dbde7d25fa7c00086a3348\\\",\\\"sku\\\":\\\"648520\\\",\\\"fields_translations\\\":{\\\"en\\\":[\\\"UK6.5/EU40\\\"],\\\"zh-hant\\\":[\\\"UK6.5/EU40\\\"]}}]\",\"title\":\"Albatros ANTELAO QL LOW Composite toe cap and Composite midsole safety shoes\"}' href=\"https://www.eshop-apisehk.com/products/albatros-antelao-ql-low\" ng-click='sendGaProductClick(\"60dbde7d53808f002080591b\", \"648520\", [\"{\\\"key\\\":\\\"60dbde7d25fa7c00086a3348\\\",\\\"sku\\\":\\\"648520\\\",\\\"fields_translations\\\":{\\\"en\\\":[\\\"UK6.5/EU40\\\"],\\\"zh-hant\\\":[\\\"UK6.5/EU40\\\"]&amp;#125;&amp;#125;\"], \"Albatros ANTELAO QL LOW Composite toe cap and Composite midsole safety shoes\")' product-id=\"60dbde7d53808f002080591b\"> <div class=\"Image-boxify Product-image js-boxify-image\"> <div class=\"Image-boxify-image js-image-boxify-image sl-lazy-image\" style=\"background-image:url(https://shoplineimg.com/5ea1384c68412700240163df/60dbc93f4c2c1700381a43ca/800x.jpg?)\"></div> <div class=\"Image-boxify-image js-image-boxify-image sl-lazy-image second-image\" style=\"background-image:url(https://shoplineimg.com/5ea1384c68412700240163df/60dbc9434c2c1700141a463d/800x.jpg?)\"></div> </div> <div class=\"Product-info\"> <div class=\"Product-title Label mix-primary-text\" style=\"\">Albatros ANTELAO QL LOW Composite toe cap and Composite midsole safety shoes</div> <div class=\"Label-price sl-price\">HK$1,030.00</div> </div></a>,\n",
       " <a class=\"Product-item\" ga-product='{\"id\":\"60d4286f440b0000350c26ad\",\"sku\":\"OWT993KW\",\"variations\":\"[{\\\"key\\\":\\\"60d4286f96660900148109bb\\\",\\\"sku\\\":\\\"OWT993KW\\\",\\\"fields_translations\\\":{\\\"en\\\":[\\\"\\\"],\\\"zh-hant\\\":[\\\"UK3 / EU36\\\"]}}]\",\"title\":\"OTTER OWT993KW Safety Shoes\"}' href=\"https://www.eshop-apisehk.com/products/otter-owt993kw-safety-shoes\" ng-click='sendGaProductClick(\"60d4286f440b0000350c26ad\", \"OWT993KW\", [\"{\\\"key\\\":\\\"60d4286f96660900148109bb\\\",\\\"sku\\\":\\\"OWT993KW\\\",\\\"fields_translations\\\":{\\\"en\\\":[\\\"\\\"],\\\"zh-hant\\\":[\\\"UK3 / EU36\\\"]&amp;#125;&amp;#125;\"], \"OTTER OWT993KW Safety Shoes\")' product-id=\"60d4286f440b0000350c26ad\"> <div class=\"Image-boxify Product-image js-boxify-image\"> <div class=\"Image-boxify-image js-image-boxify-image sl-lazy-image\" style=\"background-image:url(https://shoplineimg.com/5ea1384c68412700240163df/60d422c87a9cb7002c85a17d/800x.jpg?)\"></div> <div class=\"Image-boxify-image js-image-boxify-image sl-lazy-image second-image\" style=\"background-image:url(https://shoplineimg.com/5ea1384c68412700240163df/60d422cdb8788a002c983687/800x.jpg?)\"></div> </div> <div class=\"Product-info\"> <div class=\"Product-title Label mix-primary-text\" style=\"\">OTTER OWT993KW Safety Shoes</div> <div class=\"Label-price sl-price\">HK$1,130.00</div> </div></a>,\n",
       " <a class=\"Product-item\" ga-product='{\"id\":\"60d4229443f7260011768268\",\"sku\":\"OWT900KW\",\"variations\":\"[{\\\"key\\\":\\\"60d42294c7baa800177b51db\\\",\\\"sku\\\":\\\"OWT900KW\\\",\\\"fields_translations\\\":{\\\"en\\\":[\\\"\\\"],\\\"zh-hant\\\":[\\\"UK3 / EU36\\\"]}}]\",\"title\":\"OTTER OWT900KW Safety Shoes\"}' href=\"https://www.eshop-apisehk.com/products/otter-owt900kw-safety-shoes\" ng-click='sendGaProductClick(\"60d4229443f7260011768268\", \"OWT900KW\", [\"{\\\"key\\\":\\\"60d42294c7baa800177b51db\\\",\\\"sku\\\":\\\"OWT900KW\\\",\\\"fields_translations\\\":{\\\"en\\\":[\\\"\\\"],\\\"zh-hant\\\":[\\\"UK3 / EU36\\\"]&amp;#125;&amp;#125;\"], \"OTTER OWT900KW Safety Shoes\")' product-id=\"60d4229443f7260011768268\"> <div class=\"Image-boxify Product-image js-boxify-image\"> <div class=\"Image-boxify-image js-image-boxify-image sl-lazy-image\" style=\"background-image:url(https://shoplineimg.com/5ea1384c68412700240163df/60d40be8454d490017ad8f14/800x.jpg?)\"></div> <div class=\"Image-boxify-image js-image-boxify-image sl-lazy-image second-image\" style=\"background-image:url(https://shoplineimg.com/5ea1384c68412700240163df/60d40bedd938ad0017657df3/800x.jpg?)\"></div> </div> <div class=\"Product-info\"> <div class=\"Product-title Label mix-primary-text\" style=\"\">OTTER OWT900KW Safety Shoes</div> <div class=\"Label-price sl-price\">HK$1,065.00</div> </div></a>,\n",
       " <a class=\"Product-item\" ga-product='{\"id\":\"60a735d26ad3ee0038b9bf8f\",\"sku\":\"OWT805KW-R\",\"variations\":\"[{\\\"key\\\":\\\"60a735d1a60620000e98f2bf\\\",\\\"sku\\\":\\\"OWT805KW-R\\\",\\\"fields_translations\\\":{\\\"en\\\":[\\\"\\\"],\\\"zh-hant\\\":[\\\"UK4 / EU37\\\"]}}]\",\"title\":\"OTTER OWT805KW-R Safety Shoes\"}' href=\"https://www.eshop-apisehk.com/products/otter-owt805kw-safety-shoes\" ng-click='sendGaProductClick(\"60a735d26ad3ee0038b9bf8f\", \"OWT805KW-R\", [\"{\\\"key\\\":\\\"60a735d1a60620000e98f2bf\\\",\\\"sku\\\":\\\"OWT805KW-R\\\",\\\"fields_translations\\\":{\\\"en\\\":[\\\"\\\"],\\\"zh-hant\\\":[\\\"UK4 / EU37\\\"]&amp;#125;&amp;#125;\"], \"OTTER OWT805KW-R Safety Shoes\")' product-id=\"60a735d26ad3ee0038b9bf8f\"> <div class=\"Image-boxify Product-image js-boxify-image\"> <div class=\"Image-boxify-image js-image-boxify-image sl-lazy-image\" style=\"background-image:url(https://shoplineimg.com/5ea1384c68412700240163df/6281f62cc19b490027c63f2f/800x.jpg?)\"></div> <div class=\"Image-boxify-image js-image-boxify-image sl-lazy-image second-image\" style=\"background-image:url(https://shoplineimg.com/5ea1384c68412700240163df/6281f63054cc3e0027074f4e/800x.jpg?)\"></div> </div> <div class=\"Product-info\"> <div class=\"Product-title Label mix-primary-text\" style=\"\">OTTER OWT805KW-R Safety Shoes</div> <div class=\"Label-price sl-price\">HK$1,700.00</div> </div></a>,\n",
       " <a class=\"Product-item\" ga-product='{\"id\":\"603719f31442e000149c2618\",\"sku\":\"\",\"variations\":\"[{\\\"key\\\":\\\"603719f35239e90008231f0f\\\",\\\"sku\\\":\\\"KL331Z\\\",\\\"fields_translations\\\":{\\\"en\\\":[\\\"\\\"],\\\"zh-hant\\\":[\\\"UK3 / EU36\\\"]}}]\",\"title\":\"King\\u0026amp;#39;s KL331Z Anti-slip Working Shoes\"}' href=\"https://www.eshop-apisehk.com/products/kings-kl331z-anti-slip-working-shoes-1\" ng-click='sendGaProductClick(\"603719f31442e000149c2618\", \"\", [\"{\\\"key\\\":\\\"603719f35239e90008231f0f\\\",\\\"sku\\\":\\\"KL331Z\\\",\\\"fields_translations\\\":{\\\"en\\\":[\\\"\\\"],\\\"zh-hant\\\":[\\\"UK3 / EU36\\\"]&amp;#125;&amp;#125;\"], \"King&amp;#39;s KL331Z Anti-slip Working Shoes\")' product-id=\"603719f31442e000149c2618\"> <div class=\"Image-boxify Product-image js-boxify-image\"> <div class=\"Image-boxify-image js-image-boxify-image sl-lazy-image\" style=\"background-image:url(https://shoplineimg.com/5ea1384c68412700240163df/6037148582673c002066f980/800x.jpg?)\"></div> <div class=\"Image-boxify-image js-image-boxify-image sl-lazy-image second-image\" style=\"background-image:url(https://shoplineimg.com/5ea1384c68412700240163df/60371489111bd00023179d95/800x.jpg?)\"></div> </div> <div class=\"Product-info\"> <div class=\"Product-title Label mix-primary-text\" style=\"\">King's KL331Z Anti-slip Working Shoes</div> <div class=\"Label-price sl-price is-sale primary-color-price\">              HK$328.00            </div> <div class=\"Label-price sl-price Label-price-original\">HK$410.00</div> </div></a>,\n",
       " <a class=\"Product-item\" ga-product='{\"id\":\"6037019fcb4bc90026f1442f\",\"sku\":\"\",\"variations\":\"[{\\\"key\\\":\\\"6037019fcc2272001a000fb9\\\",\\\"sku\\\":\\\"KWS807Z\\\",\\\"fields_translations\\\":{\\\"en\\\":[\\\"\\\"],\\\"zh-hant\\\":[\\\"UK3 / EU36\\\"]}}]\",\"title\":\"King\\u0026amp;#39;s KWS807Z Anti-slip Working Shoes\"}' href=\"https://www.eshop-apisehk.com/products/kings-kws807z-anti-slip-working-shoes\" ng-click='sendGaProductClick(\"6037019fcb4bc90026f1442f\", \"\", [\"{\\\"key\\\":\\\"6037019fcc2272001a000fb9\\\",\\\"sku\\\":\\\"KWS807Z\\\",\\\"fields_translations\\\":{\\\"en\\\":[\\\"\\\"],\\\"zh-hant\\\":[\\\"UK3 / EU36\\\"]&amp;#125;&amp;#125;\"], \"King&amp;#39;s KWS807Z Anti-slip Working Shoes\")' product-id=\"6037019fcb4bc90026f1442f\"> <div class=\"Image-boxify Product-image js-boxify-image\"> <div class=\"Image-boxify-image js-image-boxify-image sl-lazy-image\" style=\"background-image:url(https://shoplineimg.com/5ea1384c68412700240163df/60361534bac219002989753e/800x.jpg?)\"></div> </div> <div class=\"Product-info\"> <div class=\"Product-title Label mix-primary-text\" style=\"\">King's KWS807Z Anti-slip Working Shoes</div> <div class=\"Label-price sl-price is-sale primary-color-price\">              HK$352.00            </div> <div class=\"Label-price sl-price Label-price-original\">HK$440.00</div> </div></a>,\n",
       " <a class=\"Product-item\" ga-product='{\"id\":\"603613bf5e32ad003e07b1a1\",\"sku\":\"\",\"variations\":\"[{\\\"key\\\":\\\"603613bf3e428d0009e5f5d9\\\",\\\"sku\\\":\\\"KWD807\\\",\\\"fields_translations\\\":{\\\"en\\\":[\\\"\\\"],\\\"zh-hant\\\":[\\\"UK3/EU36\\\"]}}]\",\"title\":\"King\\u0026amp;#39;s KWD807 Steel Toe Steel Midsole Safety Shoes\"}' href=\"https://www.eshop-apisehk.com/products/kings-kwd807-steel-toe-steel-midsole-safety-shoes\" ng-click='sendGaProductClick(\"603613bf5e32ad003e07b1a1\", \"\", [\"{\\\"key\\\":\\\"603613bf3e428d0009e5f5d9\\\",\\\"sku\\\":\\\"KWD807\\\",\\\"fields_translations\\\":{\\\"en\\\":[\\\"\\\"],\\\"zh-hant\\\":[\\\"UK3/EU36\\\"]&amp;#125;&amp;#125;\"], \"King&amp;#39;s KWD807 Steel Toe Steel Midsole Safety Shoes\")' product-id=\"603613bf5e32ad003e07b1a1\"> <div class=\"Image-boxify Product-image js-boxify-image\"> <div class=\"Image-boxify-image js-image-boxify-image sl-lazy-image\" style=\"background-image:url(https://shoplineimg.com/5ea1384c68412700240163df/60360ec80475ca3ecc636e65/800x.jpg?)\"></div> </div> <div class=\"Product-info\"> <div class=\"Product-title Label mix-primary-text\" style=\"\">King's KWD807 Steel Toe Steel Midsole Safety Shoes</div> <div class=\"Label-price sl-price is-sale primary-color-price\">              HK$480.00            </div> <div class=\"Label-price sl-price Label-price-original\">HK$600.00</div> </div></a>,\n",
       " <a class=\"Product-item\" ga-product='{\"id\":\"603603c48cc8b90023a1e9af\",\"sku\":\"\",\"variations\":\"[{\\\"key\\\":\\\"603603c33e428d0015e5f5f5\\\",\\\"sku\\\":\\\"KWD806\\\",\\\"fields_translations\\\":{\\\"en\\\":[\\\"\\\"],\\\"zh-hant\\\":[\\\"UK4 / EU37\\\"]}}]\",\"title\":\"King\\u0026amp;#39;s KWD806 Steel Toe Steel Midsole Safety Boots\"}' href=\"https://www.eshop-apisehk.com/products/kings-kwd806-steel-toe-steel-midsole-safety-shoes\" ng-click='sendGaProductClick(\"603603c48cc8b90023a1e9af\", \"\", [\"{\\\"key\\\":\\\"603603c33e428d0015e5f5f5\\\",\\\"sku\\\":\\\"KWD806\\\",\\\"fields_translations\\\":{\\\"en\\\":[\\\"\\\"],\\\"zh-hant\\\":[\\\"UK4 / EU37\\\"]&amp;#125;&amp;#125;\"], \"King&amp;#39;s KWD806 Steel Toe Steel Midsole Safety Boots\")' product-id=\"603603c48cc8b90023a1e9af\"> <div class=\"Image-boxify Product-image js-boxify-image\"> <div class=\"Image-boxify-image js-image-boxify-image sl-lazy-image\" style=\"background-image:url(https://shoplineimg.com/5ea1384c68412700240163df/6036007a05ab2b4e7df0bf91/800x.jpg?)\"></div> <div class=\"Image-boxify-image js-image-boxify-image sl-lazy-image second-image\" style=\"background-image:url(https://shoplineimg.com/5ea1384c68412700240163df/606fba6104322d00143f800a/800x.jpg?)\"></div> </div> <div class=\"Product-info\"> <div class=\"Product-title Label mix-primary-text\" style=\"\">King's KWD806 Steel Toe Steel Midsole Safety Boots</div> <div class=\"Label-price sl-price is-sale primary-color-price\">              HK$495.00            </div> <div class=\"Label-price sl-price Label-price-original\">HK$610.00</div> </div></a>,\n",
       " <a class=\"Product-item\" ga-product='{\"id\":\"6035ff273cc7b60017c5c387\",\"sku\":\"\",\"variations\":\"[{\\\"key\\\":\\\"6035ff273b7b28001aa29502\\\",\\\"sku\\\":\\\"KJ404Z\\\",\\\"fields_translations\\\":{\\\"en\\\":[\\\"\\\"],\\\"zh-hant\\\":[\\\"UK6 / EU39/40\\\"]}}]\",\"title\":\"King\\u0026amp;#39;s KJ404Z Anti-slip Working Shoes\"}' href=\"https://www.eshop-apisehk.com/products/kings-kj404z-anti-slip-working-shoes\" ng-click='sendGaProductClick(\"6035ff273cc7b60017c5c387\", \"\", [\"{\\\"key\\\":\\\"6035ff273b7b28001aa29502\\\",\\\"sku\\\":\\\"KJ404Z\\\",\\\"fields_translations\\\":{\\\"en\\\":[\\\"\\\"],\\\"zh-hant\\\":[\\\"UK6 / EU39/40\\\"]&amp;#125;&amp;#125;\"], \"King&amp;#39;s KJ404Z Anti-slip Working Shoes\")' product-id=\"6035ff273cc7b60017c5c387\"> <div class=\"Image-boxify Product-image js-boxify-image\"> <div class=\"Image-boxify-image js-image-boxify-image sl-lazy-image\" style=\"background-image:url(https://shoplineimg.com/5ea1384c68412700240163df/6035f94405ab2b58bef0c0ad/800x.jpg?)\"></div> <div class=\"Image-boxify-image js-image-boxify-image sl-lazy-image second-image\" style=\"background-image:url(https://shoplineimg.com/5ea1384c68412700240163df/6035f951c2648f0029e7c358/800x.jpg?)\"></div> </div> <div class=\"Product-info\"> <div class=\"Product-title Label mix-primary-text\" style=\"\">King's KJ404Z Anti-slip Working Shoes</div> <div class=\"Label-price sl-price is-sale primary-color-price\">              HK$328.00            </div> <div class=\"Label-price sl-price Label-price-original\">HK$410.00</div> </div></a>,\n",
       " <a class=\"Product-item\" ga-product='{\"id\":\"6033769450c59e00209851d1\",\"sku\":\"\",\"variations\":\"[{\\\"key\\\":\\\"60337694ec16d900084b3bca\\\",\\\"sku\\\":null,\\\"fields_translations\\\":{\\\"en\\\":[\\\"\\\"],\\\"zh-hant\\\":[\\\"UK3 / EU36\\\"]}}]\",\"title\":\"King\\u0026amp;#39;s KWD805C Steel Toe Steel Midsole Safety Boots\"}' href=\"https://www.eshop-apisehk.com/products/kings-kwd805c-steel-toe-steel-midsole-safety-boots\" ng-click='sendGaProductClick(\"6033769450c59e00209851d1\", \"\", [\"{\\\"key\\\":\\\"60337694ec16d900084b3bca\\\",\\\"sku\\\":null,\\\"fields_translations\\\":{\\\"en\\\":[\\\"\\\"],\\\"zh-hant\\\":[\\\"UK3 / EU36\\\"]&amp;#125;&amp;#125;\"], \"King&amp;#39;s KWD805C Steel Toe Steel Midsole Safety Boots\")' product-id=\"6033769450c59e00209851d1\"> <div class=\"Image-boxify Product-image js-boxify-image\"> <div class=\"Image-boxify-image js-image-boxify-image sl-lazy-image\" style=\"background-image:url(https://shoplineimg.com/5ea1384c68412700240163df/6033750ce7cf316a2188ddc3/800x.jpg?)\"></div> <div class=\"Image-boxify-image js-image-boxify-image sl-lazy-image second-image\" style=\"background-image:url(https://shoplineimg.com/5ea1384c68412700240163df/603375108fd1e1650752ca4f/800x.jpg?)\"></div> </div> <div class=\"Product-info\"> <div class=\"Product-title Label mix-primary-text\" style=\"\">King's KWD805C Steel Toe Steel Midsole Safety Boots</div> <div class=\"Label-price sl-price is-sale primary-color-price\">              HK$592.00            </div> <div class=\"Label-price sl-price Label-price-original\">HK$740.00</div> </div></a>,\n",
       " <a class=\"Product-item\" ga-product='{\"id\":\"603374ed50c59e8591981ae3\",\"sku\":\"\",\"variations\":\"[{\\\"key\\\":\\\"603374edec16d9001d4b3b75\\\",\\\"sku\\\":\\\"KWD805\\\",\\\"fields_translations\\\":{\\\"en\\\":[\\\"\\\"],\\\"zh-hant\\\":[\\\"UK3 / EU36\\\"]}}]\",\"title\":\"King\\u0026amp;#39;s KWD805 Steel Toe Steel Midsole Safety Boots\"}' href=\"https://www.eshop-apisehk.com/products/kings-kwd805-steel-toe-steel-midsole-safety-boots\" ng-click='sendGaProductClick(\"603374ed50c59e8591981ae3\", \"\", [\"{\\\"key\\\":\\\"603374edec16d9001d4b3b75\\\",\\\"sku\\\":\\\"KWD805\\\",\\\"fields_translations\\\":{\\\"en\\\":[\\\"\\\"],\\\"zh-hant\\\":[\\\"UK3 / EU36\\\"]&amp;#125;&amp;#125;\"], \"King&amp;#39;s KWD805 Steel Toe Steel Midsole Safety Boots\")' product-id=\"603374ed50c59e8591981ae3\"> <div class=\"Image-boxify Product-image js-boxify-image\"> <div class=\"Image-boxify-image js-image-boxify-image sl-lazy-image\" style=\"background-image:url(https://shoplineimg.com/5ea1384c68412700240163df/60334fe9baf7b7002fda1ac1/800x.jpg?)\"></div> <div class=\"Image-boxify-image js-image-boxify-image sl-lazy-image second-image\" style=\"background-image:url(https://shoplineimg.com/5ea1384c68412700240163df/60334fed047c2d0026396ba9/800x.jpg?)\"></div> </div> <div class=\"Product-info\"> <div class=\"Product-title Label mix-primary-text\" style=\"\">King's KWD805 Steel Toe Steel Midsole Safety Boots</div> <div class=\"Label-price sl-price is-sale primary-color-price\">              HK$592.00            </div> <div class=\"Label-price sl-price Label-price-original\">HK$740.00</div> </div></a>,\n",
       " <a class=\"Product-item\" ga-product='{\"id\":\"602f2d0362146f002cef103f\",\"sku\":\"\",\"variations\":\"[{\\\"key\\\":\\\"602f2d027e400e000e1d4599\\\",\\\"sku\\\":\\\"KWS901\\\",\\\"fields_translations\\\":{\\\"en\\\":[\\\"\\\"],\\\"zh-hant\\\":[\\\"UK3 / EU36\\\"]}}]\",\"title\":\"King\\u0026amp;#39;s KWS901 Steel Toe Steel Midsole Safety Shoes\"}' href=\"https://www.eshop-apisehk.com/products/kings-kws901-steel-toe-steel-midsole-safety-shoes\" ng-click='sendGaProductClick(\"602f2d0362146f002cef103f\", \"\", [\"{\\\"key\\\":\\\"602f2d027e400e000e1d4599\\\",\\\"sku\\\":\\\"KWS901\\\",\\\"fields_translations\\\":{\\\"en\\\":[\\\"\\\"],\\\"zh-hant\\\":[\\\"UK3 / EU36\\\"]&amp;#125;&amp;#125;\"], \"King&amp;#39;s KWS901 Steel Toe Steel Midsole Safety Shoes\")' product-id=\"602f2d0362146f002cef103f\"> <div class=\"Image-boxify Product-image js-boxify-image\"> <div class=\"Image-boxify-image js-image-boxify-image sl-lazy-image\" style=\"background-image:url(https://shoplineimg.com/5ea1384c68412700240163df/602f1d979f4154001d0a68d3/800x.jpg?)\"></div> <div class=\"Image-boxify-image js-image-boxify-image sl-lazy-image second-image\" style=\"background-image:url(https://shoplineimg.com/5ea1384c68412700240163df/602f1dbac2742a00326e34eb/800x.jpg?)\"></div> </div> <div class=\"Product-info\"> <div class=\"Product-title Label mix-primary-text\" style=\"\">King's KWS901 Steel Toe Steel Midsole Safety Shoes</div> <div class=\"Label-price sl-price is-sale primary-color-price\">              HK$392.00            </div> <div class=\"Label-price sl-price Label-price-original\">HK$490.00</div> </div></a>,\n",
       " <a class=\"Product-item\" ga-product='{\"id\":\"602b411118e5e5002963b71f\",\"sku\":\"\",\"variations\":\"[{\\\"key\\\":\\\"602b41116506ae001ad12271\\\",\\\"sku\\\":\\\"KWS803\\\",\\\"fields_translations\\\":{\\\"en\\\":[\\\"\\\"],\\\"zh-hant\\\":[\\\"UK3 / EU36\\\"]}}]\",\"title\":\"King\\u0026amp;#39;s KWS803 Steel Toe Steel Midsole Safety Shoes\"}' href=\"https://www.eshop-apisehk.com/products/kings-kws803-steel-toe-steel-midsole-safety-shoes\" ng-click='sendGaProductClick(\"602b411118e5e5002963b71f\", \"\", [\"{\\\"key\\\":\\\"602b41116506ae001ad12271\\\",\\\"sku\\\":\\\"KWS803\\\",\\\"fields_translations\\\":{\\\"en\\\":[\\\"\\\"],\\\"zh-hant\\\":[\\\"UK3 / EU36\\\"]&amp;#125;&amp;#125;\"], \"King&amp;#39;s KWS803 Steel Toe Steel Midsole Safety Shoes\")' product-id=\"602b411118e5e5002963b71f\"> <div class=\"Image-boxify Product-image js-boxify-image\"> <div class=\"Image-boxify-image js-image-boxify-image sl-lazy-image\" style=\"background-image:url(https://shoplineimg.com/5ea1384c68412700240163df/602b3601a4d096001d93aa26/800x.jpg?)\"></div> <div class=\"Image-boxify-image js-image-boxify-image sl-lazy-image second-image\" style=\"background-image:url(https://shoplineimg.com/5ea1384c68412700240163df/602b3610c639ad002f640f48/800x.jpg?)\"></div> </div> <div class=\"Product-info\"> <div class=\"Product-title Label mix-primary-text\" style=\"\">King's KWS803 Steel Toe Steel Midsole Safety Shoes</div> <div class=\"Label-price sl-price is-sale primary-color-price\">              HK$488.00            </div> <div class=\"Label-price sl-price Label-price-original\">HK$610.00</div> </div></a>]"
      ]
     },
     "execution_count": 16,
     "metadata": {},
     "output_type": "execute_result"
    }
   ],
   "source": [
    "links = soup.select('a.Product-item')\n",
    "links"
   ]
  },
  {
   "cell_type": "code",
   "execution_count": 17,
   "id": "25ed30d3",
   "metadata": {},
   "outputs": [
    {
     "data": {
      "text/plain": [
       "'https://www.eshop-apisehk.com/products/nitti-21980s-work-shoes'"
      ]
     },
     "execution_count": 17,
     "metadata": {},
     "output_type": "execute_result"
    }
   ],
   "source": [
    "links[0]['href']"
   ]
  },
  {
   "cell_type": "markdown",
   "id": "35115ac9",
   "metadata": {},
   "source": [
    "Print product name and price"
   ]
  },
  {
   "cell_type": "code",
   "execution_count": 19,
   "id": "6611ff85",
   "metadata": {},
   "outputs": [
    {
     "name": "stdout",
     "output_type": "stream",
     "text": [
      "Nitti 21980S Work Shoes 420.0\n"
     ]
    },
    {
     "ename": "ValueError",
     "evalue": "could not convert string to float: '1,250.00'",
     "output_type": "error",
     "traceback": [
      "\u001b[1;31m---------------------------------------------------------------------------\u001b[0m",
      "\u001b[1;31mValueError\u001b[0m                                Traceback (most recent call last)",
      "\u001b[1;32m<ipython-input-19-2a7f728b364b>\u001b[0m in \u001b[0;36m<module>\u001b[1;34m\u001b[0m\n\u001b[0;32m      1\u001b[0m \u001b[1;32mfor\u001b[0m \u001b[0mproduct\u001b[0m \u001b[1;32min\u001b[0m \u001b[0mproducts\u001b[0m\u001b[1;33m:\u001b[0m\u001b[1;33m\u001b[0m\u001b[1;33m\u001b[0m\u001b[0m\n\u001b[0;32m      2\u001b[0m     \u001b[0mproduct_name\u001b[0m \u001b[1;33m=\u001b[0m \u001b[0mproduct\u001b[0m\u001b[1;33m.\u001b[0m\u001b[0mselect\u001b[0m\u001b[1;33m(\u001b[0m\u001b[1;34m'div.Product-title.Label.mix-primary-text'\u001b[0m\u001b[1;33m)\u001b[0m\u001b[1;33m[\u001b[0m\u001b[1;36m0\u001b[0m\u001b[1;33m]\u001b[0m\u001b[1;33m.\u001b[0m\u001b[0mtext\u001b[0m\u001b[1;33m\u001b[0m\u001b[1;33m\u001b[0m\u001b[0m\n\u001b[1;32m----> 3\u001b[1;33m     \u001b[0mproduct_price\u001b[0m \u001b[1;33m=\u001b[0m \u001b[0mfloat\u001b[0m\u001b[1;33m(\u001b[0m\u001b[0mproduct\u001b[0m\u001b[1;33m.\u001b[0m\u001b[0mselect\u001b[0m\u001b[1;33m(\u001b[0m\u001b[1;34m'div.Label-price.sl-price'\u001b[0m\u001b[1;33m)\u001b[0m\u001b[1;33m[\u001b[0m\u001b[1;36m0\u001b[0m\u001b[1;33m]\u001b[0m\u001b[1;33m.\u001b[0m\u001b[0mtext\u001b[0m\u001b[1;33m.\u001b[0m\u001b[0mreplace\u001b[0m\u001b[1;33m(\u001b[0m\u001b[1;34m'HK$'\u001b[0m\u001b[1;33m,\u001b[0m \u001b[1;34m''\u001b[0m\u001b[1;33m)\u001b[0m\u001b[1;33m)\u001b[0m\u001b[1;33m\u001b[0m\u001b[1;33m\u001b[0m\u001b[0m\n\u001b[0m\u001b[0;32m      4\u001b[0m     \u001b[0mprint\u001b[0m\u001b[1;33m(\u001b[0m\u001b[0mproduct_name\u001b[0m\u001b[1;33m,\u001b[0m \u001b[0mproduct_price\u001b[0m\u001b[1;33m)\u001b[0m\u001b[1;33m\u001b[0m\u001b[1;33m\u001b[0m\u001b[0m\n",
      "\u001b[1;31mValueError\u001b[0m: could not convert string to float: '1,250.00'"
     ]
    }
   ],
   "source": [
    "for product in products:\n",
    "    product_name = product.select('div.Product-title.Label.mix-primary-text')[0].text\n",
    "    product_price = float(product.select('div.Label-price.sl-price')[0].text.replace('HK$', ''))\n",
    "    print(product_name, product_price)"
   ]
  },
  {
   "cell_type": "markdown",
   "id": "46d1fb78",
   "metadata": {},
   "source": [
    "We get an error message <br>\n",
    "ValueError: could not convert string to float: '1,250.00' <br>\n",
    "The string '1,250' cannot be converted to float because of the comma (thousand separator) <br>\n",
    "We have to replace it with a blank to fix this <br>"
   ]
  },
  {
   "cell_type": "code",
   "execution_count": null,
   "id": "b0ced7d9",
   "metadata": {},
   "outputs": [],
   "source": [
    "for product in products:\n",
    "    product_name = product.select('div.Product-title.Label.mix-primary-text')[0].text\n",
    "    product_price = float(product.select('div.Label-price.sl-price')[0].text.replace('HK$', '').replace(',', ''))\n",
    "    print(product_name, product_price)"
   ]
  },
  {
   "cell_type": "markdown",
   "id": "efcecb78",
   "metadata": {},
   "source": [
    "Print the product links"
   ]
  },
  {
   "cell_type": "code",
   "execution_count": 20,
   "id": "5c029257",
   "metadata": {},
   "outputs": [
    {
     "name": "stdout",
     "output_type": "stream",
     "text": [
      "https://www.eshop-apisehk.com/products/nitti-21980s-work-shoes\n",
      "https://www.eshop-apisehk.com/products/puma-fuse-knit-black-wns-low-safety-shoes\n",
      "https://www.eshop-apisehk.com/products/puma-frontside-low-composite-toecap-composite-midsole-safety-shoes\n",
      "https://www.eshop-apisehk.com/products/627ccf06d5ccb30027196659\n",
      "https://www.eshop-apisehk.com/products/puma-airtwist-black-low-composite-toecap-composite-midsole-safety-shoes\n",
      "https://www.eshop-apisehk.com/products/puma-sierra-nevada-mid\n",
      "https://www.eshop-apisehk.com/products/puma-charge-orange-low\n",
      "https://www.eshop-apisehk.com/products/puma-conquest-stone-high-composite-toecap-and-composite\n",
      "https://www.eshop-apisehk.com/products/smaat-sfm160-safety-shoes-with-steel-toecap-and-steel-midsole\n",
      "https://www.eshop-apisehk.com/products/smaat-sfc200-safety-shoes-with-composite-cap-and-anti-penetration-midsole\n",
      "https://www.eshop-apisehk.com/products/smaat-sfc220-safety-shoes-with-composite-cap-and-anti-penetration-midsole\n",
      "https://www.eshop-apisehk.com/products/albatros-antelao-ql-low\n",
      "https://www.eshop-apisehk.com/products/otter-owt993kw-safety-shoes\n",
      "https://www.eshop-apisehk.com/products/otter-owt900kw-safety-shoes\n",
      "https://www.eshop-apisehk.com/products/otter-owt805kw-safety-shoes\n",
      "https://www.eshop-apisehk.com/products/kings-kl331z-anti-slip-working-shoes-1\n",
      "https://www.eshop-apisehk.com/products/kings-kws807z-anti-slip-working-shoes\n",
      "https://www.eshop-apisehk.com/products/kings-kwd807-steel-toe-steel-midsole-safety-shoes\n",
      "https://www.eshop-apisehk.com/products/kings-kwd806-steel-toe-steel-midsole-safety-shoes\n",
      "https://www.eshop-apisehk.com/products/kings-kj404z-anti-slip-working-shoes\n",
      "https://www.eshop-apisehk.com/products/kings-kwd805c-steel-toe-steel-midsole-safety-boots\n",
      "https://www.eshop-apisehk.com/products/kings-kwd805-steel-toe-steel-midsole-safety-boots\n",
      "https://www.eshop-apisehk.com/products/kings-kws901-steel-toe-steel-midsole-safety-shoes\n",
      "https://www.eshop-apisehk.com/products/kings-kws803-steel-toe-steel-midsole-safety-shoes\n"
     ]
    }
   ],
   "source": [
    "for link in links:\n",
    "    print(link['href'])"
   ]
  },
  {
   "cell_type": "markdown",
   "id": "4783c085",
   "metadata": {},
   "source": [
    "<h4> Store the data in a Pandas DataFrame </h4> <br>\n",
    "We can create empty lists <br>\n",
    "Then append each item to the list <br>\n",
    "And finally create a Pandas DataFrame using a dictionary <br>"
   ]
  },
  {
   "cell_type": "code",
   "execution_count": 22,
   "id": "d9a9da1a",
   "metadata": {},
   "outputs": [],
   "source": [
    "product_name_list = []\n",
    "product_price_list = []\n",
    "product_links_list = []\n",
    "for product in products:\n",
    "    product_name_list.append(product.select('div.Product-title.Label.mix-primary-text')[0].text)\n",
    "    product_price_list.append(float(product.select('div.Label-price.sl-price')[0].text.replace('HK$', '').replace(',', '')))\n",
    "for link in links: \n",
    "    product_links_list.append(link['href'])\n",
    "df = pd.DataFrame({'name': product_name_list, 'price': product_price_list, 'link': product_links_list})"
   ]
  },
  {
   "cell_type": "code",
   "execution_count": 23,
   "id": "72d30d04",
   "metadata": {},
   "outputs": [
    {
     "data": {
      "text/html": [
       "<div>\n",
       "<style scoped>\n",
       "    .dataframe tbody tr th:only-of-type {\n",
       "        vertical-align: middle;\n",
       "    }\n",
       "\n",
       "    .dataframe tbody tr th {\n",
       "        vertical-align: top;\n",
       "    }\n",
       "\n",
       "    .dataframe thead th {\n",
       "        text-align: right;\n",
       "    }\n",
       "</style>\n",
       "<table border=\"1\" class=\"dataframe\">\n",
       "  <thead>\n",
       "    <tr style=\"text-align: right;\">\n",
       "      <th></th>\n",
       "      <th>name</th>\n",
       "      <th>price</th>\n",
       "      <th>link</th>\n",
       "    </tr>\n",
       "  </thead>\n",
       "  <tbody>\n",
       "    <tr>\n",
       "      <th>0</th>\n",
       "      <td>Nitti 21980S Work Shoes</td>\n",
       "      <td>420.0</td>\n",
       "      <td>https://www.eshop-apisehk.com/products/nitti-2...</td>\n",
       "    </tr>\n",
       "    <tr>\n",
       "      <th>1</th>\n",
       "      <td>PUMA FUSE KNIT BLACK WNS LOW Safety Shoes</td>\n",
       "      <td>1250.0</td>\n",
       "      <td>https://www.eshop-apisehk.com/products/puma-fu...</td>\n",
       "    </tr>\n",
       "    <tr>\n",
       "      <th>2</th>\n",
       "      <td>PUMA FRONTSIDE LOW Composite Toecap Composite ...</td>\n",
       "      <td>1050.0</td>\n",
       "      <td>https://www.eshop-apisehk.com/products/puma-fr...</td>\n",
       "    </tr>\n",
       "    <tr>\n",
       "      <th>3</th>\n",
       "      <td>PUMA AIRTWIST BLUE LOW Composite Toecap Compos...</td>\n",
       "      <td>1100.0</td>\n",
       "      <td>https://www.eshop-apisehk.com/products/627ccf0...</td>\n",
       "    </tr>\n",
       "    <tr>\n",
       "      <th>4</th>\n",
       "      <td>PUMA AIRTWIST BLACK LOW Composite Toecap Compo...</td>\n",
       "      <td>1100.0</td>\n",
       "      <td>https://www.eshop-apisehk.com/products/puma-ai...</td>\n",
       "    </tr>\n",
       "    <tr>\n",
       "      <th>5</th>\n",
       "      <td>PUMA SIERRA NEVADA MID Composite Toecap and Co...</td>\n",
       "      <td>1690.0</td>\n",
       "      <td>https://www.eshop-apisehk.com/products/puma-si...</td>\n",
       "    </tr>\n",
       "    <tr>\n",
       "      <th>6</th>\n",
       "      <td>PUMA CHARGE ORANGE LOW Composite Toecap and Co...</td>\n",
       "      <td>1100.0</td>\n",
       "      <td>https://www.eshop-apisehk.com/products/puma-ch...</td>\n",
       "    </tr>\n",
       "    <tr>\n",
       "      <th>7</th>\n",
       "      <td>PUMA CONQUEST STONE HIGH Composite Toecap and ...</td>\n",
       "      <td>1300.0</td>\n",
       "      <td>https://www.eshop-apisehk.com/products/puma-co...</td>\n",
       "    </tr>\n",
       "    <tr>\n",
       "      <th>8</th>\n",
       "      <td>SMAAT SFM160 Safety Shoes with Steel Toecap an...</td>\n",
       "      <td>350.0</td>\n",
       "      <td>https://www.eshop-apisehk.com/products/smaat-s...</td>\n",
       "    </tr>\n",
       "    <tr>\n",
       "      <th>9</th>\n",
       "      <td>SMAAT SFC200 Safety Shoes with Composite Cap a...</td>\n",
       "      <td>455.0</td>\n",
       "      <td>https://www.eshop-apisehk.com/products/smaat-s...</td>\n",
       "    </tr>\n",
       "    <tr>\n",
       "      <th>10</th>\n",
       "      <td>SMAAT SFC220 Safety Shoes with Composite Cap a...</td>\n",
       "      <td>440.0</td>\n",
       "      <td>https://www.eshop-apisehk.com/products/smaat-s...</td>\n",
       "    </tr>\n",
       "    <tr>\n",
       "      <th>11</th>\n",
       "      <td>Albatros ANTELAO QL LOW Composite toe cap and ...</td>\n",
       "      <td>1030.0</td>\n",
       "      <td>https://www.eshop-apisehk.com/products/albatro...</td>\n",
       "    </tr>\n",
       "    <tr>\n",
       "      <th>12</th>\n",
       "      <td>OTTER OWT993KW Safety Shoes</td>\n",
       "      <td>1130.0</td>\n",
       "      <td>https://www.eshop-apisehk.com/products/otter-o...</td>\n",
       "    </tr>\n",
       "    <tr>\n",
       "      <th>13</th>\n",
       "      <td>OTTER OWT900KW Safety Shoes</td>\n",
       "      <td>1065.0</td>\n",
       "      <td>https://www.eshop-apisehk.com/products/otter-o...</td>\n",
       "    </tr>\n",
       "    <tr>\n",
       "      <th>14</th>\n",
       "      <td>OTTER OWT805KW-R Safety Shoes</td>\n",
       "      <td>1700.0</td>\n",
       "      <td>https://www.eshop-apisehk.com/products/otter-o...</td>\n",
       "    </tr>\n",
       "    <tr>\n",
       "      <th>15</th>\n",
       "      <td>King's KL331Z Anti-slip Working Shoes</td>\n",
       "      <td>328.0</td>\n",
       "      <td>https://www.eshop-apisehk.com/products/kings-k...</td>\n",
       "    </tr>\n",
       "    <tr>\n",
       "      <th>16</th>\n",
       "      <td>King's KWS807Z Anti-slip Working Shoes</td>\n",
       "      <td>352.0</td>\n",
       "      <td>https://www.eshop-apisehk.com/products/kings-k...</td>\n",
       "    </tr>\n",
       "    <tr>\n",
       "      <th>17</th>\n",
       "      <td>King's KWD807 Steel Toe Steel Midsole Safety S...</td>\n",
       "      <td>480.0</td>\n",
       "      <td>https://www.eshop-apisehk.com/products/kings-k...</td>\n",
       "    </tr>\n",
       "    <tr>\n",
       "      <th>18</th>\n",
       "      <td>King's KWD806 Steel Toe Steel Midsole Safety B...</td>\n",
       "      <td>495.0</td>\n",
       "      <td>https://www.eshop-apisehk.com/products/kings-k...</td>\n",
       "    </tr>\n",
       "    <tr>\n",
       "      <th>19</th>\n",
       "      <td>King's KJ404Z Anti-slip Working Shoes</td>\n",
       "      <td>328.0</td>\n",
       "      <td>https://www.eshop-apisehk.com/products/kings-k...</td>\n",
       "    </tr>\n",
       "    <tr>\n",
       "      <th>20</th>\n",
       "      <td>King's KWD805C Steel Toe Steel Midsole Safety ...</td>\n",
       "      <td>592.0</td>\n",
       "      <td>https://www.eshop-apisehk.com/products/kings-k...</td>\n",
       "    </tr>\n",
       "    <tr>\n",
       "      <th>21</th>\n",
       "      <td>King's KWD805 Steel Toe Steel Midsole Safety B...</td>\n",
       "      <td>592.0</td>\n",
       "      <td>https://www.eshop-apisehk.com/products/kings-k...</td>\n",
       "    </tr>\n",
       "    <tr>\n",
       "      <th>22</th>\n",
       "      <td>King's KWS901 Steel Toe Steel Midsole Safety S...</td>\n",
       "      <td>392.0</td>\n",
       "      <td>https://www.eshop-apisehk.com/products/kings-k...</td>\n",
       "    </tr>\n",
       "    <tr>\n",
       "      <th>23</th>\n",
       "      <td>King's KWS803 Steel Toe Steel Midsole Safety S...</td>\n",
       "      <td>488.0</td>\n",
       "      <td>https://www.eshop-apisehk.com/products/kings-k...</td>\n",
       "    </tr>\n",
       "  </tbody>\n",
       "</table>\n",
       "</div>"
      ],
      "text/plain": [
       "                                                 name   price  \\\n",
       "0                             Nitti 21980S Work Shoes   420.0   \n",
       "1           PUMA FUSE KNIT BLACK WNS LOW Safety Shoes  1250.0   \n",
       "2   PUMA FRONTSIDE LOW Composite Toecap Composite ...  1050.0   \n",
       "3   PUMA AIRTWIST BLUE LOW Composite Toecap Compos...  1100.0   \n",
       "4   PUMA AIRTWIST BLACK LOW Composite Toecap Compo...  1100.0   \n",
       "5   PUMA SIERRA NEVADA MID Composite Toecap and Co...  1690.0   \n",
       "6   PUMA CHARGE ORANGE LOW Composite Toecap and Co...  1100.0   \n",
       "7   PUMA CONQUEST STONE HIGH Composite Toecap and ...  1300.0   \n",
       "8   SMAAT SFM160 Safety Shoes with Steel Toecap an...   350.0   \n",
       "9   SMAAT SFC200 Safety Shoes with Composite Cap a...   455.0   \n",
       "10  SMAAT SFC220 Safety Shoes with Composite Cap a...   440.0   \n",
       "11  Albatros ANTELAO QL LOW Composite toe cap and ...  1030.0   \n",
       "12                        OTTER OWT993KW Safety Shoes  1130.0   \n",
       "13                        OTTER OWT900KW Safety Shoes  1065.0   \n",
       "14                      OTTER OWT805KW-R Safety Shoes  1700.0   \n",
       "15              King's KL331Z Anti-slip Working Shoes   328.0   \n",
       "16             King's KWS807Z Anti-slip Working Shoes   352.0   \n",
       "17  King's KWD807 Steel Toe Steel Midsole Safety S...   480.0   \n",
       "18  King's KWD806 Steel Toe Steel Midsole Safety B...   495.0   \n",
       "19              King's KJ404Z Anti-slip Working Shoes   328.0   \n",
       "20  King's KWD805C Steel Toe Steel Midsole Safety ...   592.0   \n",
       "21  King's KWD805 Steel Toe Steel Midsole Safety B...   592.0   \n",
       "22  King's KWS901 Steel Toe Steel Midsole Safety S...   392.0   \n",
       "23  King's KWS803 Steel Toe Steel Midsole Safety S...   488.0   \n",
       "\n",
       "                                                 link  \n",
       "0   https://www.eshop-apisehk.com/products/nitti-2...  \n",
       "1   https://www.eshop-apisehk.com/products/puma-fu...  \n",
       "2   https://www.eshop-apisehk.com/products/puma-fr...  \n",
       "3   https://www.eshop-apisehk.com/products/627ccf0...  \n",
       "4   https://www.eshop-apisehk.com/products/puma-ai...  \n",
       "5   https://www.eshop-apisehk.com/products/puma-si...  \n",
       "6   https://www.eshop-apisehk.com/products/puma-ch...  \n",
       "7   https://www.eshop-apisehk.com/products/puma-co...  \n",
       "8   https://www.eshop-apisehk.com/products/smaat-s...  \n",
       "9   https://www.eshop-apisehk.com/products/smaat-s...  \n",
       "10  https://www.eshop-apisehk.com/products/smaat-s...  \n",
       "11  https://www.eshop-apisehk.com/products/albatro...  \n",
       "12  https://www.eshop-apisehk.com/products/otter-o...  \n",
       "13  https://www.eshop-apisehk.com/products/otter-o...  \n",
       "14  https://www.eshop-apisehk.com/products/otter-o...  \n",
       "15  https://www.eshop-apisehk.com/products/kings-k...  \n",
       "16  https://www.eshop-apisehk.com/products/kings-k...  \n",
       "17  https://www.eshop-apisehk.com/products/kings-k...  \n",
       "18  https://www.eshop-apisehk.com/products/kings-k...  \n",
       "19  https://www.eshop-apisehk.com/products/kings-k...  \n",
       "20  https://www.eshop-apisehk.com/products/kings-k...  \n",
       "21  https://www.eshop-apisehk.com/products/kings-k...  \n",
       "22  https://www.eshop-apisehk.com/products/kings-k...  \n",
       "23  https://www.eshop-apisehk.com/products/kings-k...  "
      ]
     },
     "execution_count": 23,
     "metadata": {},
     "output_type": "execute_result"
    }
   ],
   "source": [
    "df"
   ]
  },
  {
   "cell_type": "code",
   "execution_count": 24,
   "id": "230f813f",
   "metadata": {},
   "outputs": [],
   "source": [
    "df.to_excel('Safety_Shoes.xlsx', index=False)"
   ]
  },
  {
   "cell_type": "code",
   "execution_count": null,
   "id": "7063ffe8",
   "metadata": {},
   "outputs": [],
   "source": []
  }
 ],
 "metadata": {
  "kernelspec": {
   "display_name": "Python 3",
   "language": "python",
   "name": "python3"
  },
  "language_info": {
   "codemirror_mode": {
    "name": "ipython",
    "version": 3
   },
   "file_extension": ".py",
   "mimetype": "text/x-python",
   "name": "python",
   "nbconvert_exporter": "python",
   "pygments_lexer": "ipython3",
   "version": "3.8.8"
  },
  "varInspector": {
   "cols": {
    "lenName": "",
    "lenType": 16,
    "lenVar": 40
   },
   "kernels_config": {
    "python": {
     "delete_cmd_postfix": "",
     "delete_cmd_prefix": "del ",
     "library": "var_list.py",
     "varRefreshCmd": "print(var_dic_list())"
    },
    "r": {
     "delete_cmd_postfix": ") ",
     "delete_cmd_prefix": "rm(",
     "library": "var_list.r",
     "varRefreshCmd": "cat(var_dic_list()) "
    }
   },
   "types_to_exclude": [
    "module",
    "function",
    "builtin_function_or_method",
    "instance",
    "_Feature"
   ],
   "window_display": false
  }
 },
 "nbformat": 4,
 "nbformat_minor": 5
}
