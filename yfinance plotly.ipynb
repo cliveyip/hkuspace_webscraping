{
 "cells": [
  {
   "cell_type": "code",
   "execution_count": 4,
   "metadata": {},
   "outputs": [],
   "source": [
    "#!pip install yfinance"
   ]
  },
  {
   "cell_type": "code",
   "execution_count": 12,
   "metadata": {},
   "outputs": [],
   "source": [
    "# https://github.com/ranaroussi/yfinance\n",
    "# https://aroussi.com/post/python-yahoo-finance\n"
   ]
  },
  {
   "cell_type": "code",
   "execution_count": 1,
   "metadata": {},
   "outputs": [],
   "source": [
    "import yfinance as yf"
   ]
  },
  {
   "cell_type": "code",
   "execution_count": 2,
   "metadata": {},
   "outputs": [],
   "source": [
    "tencent = yf.Ticker(\"0700.HK\")"
   ]
  },
  {
   "cell_type": "code",
   "execution_count": 4,
   "metadata": {},
   "outputs": [
    {
     "data": {
      "text/plain": [
       "{'address1': 'Tencent Binhai Towers',\n",
       " 'address2': 'No. 33 Haitian 2nd Road Nanshan District',\n",
       " 'city': 'Shenzhen',\n",
       " 'zip': '518054',\n",
       " 'country': 'China',\n",
       " 'phone': '86 75 5860 13388',\n",
       " 'website': 'https://www.tencent.com',\n",
       " 'industry': 'Internet Content & Information',\n",
       " 'industryKey': 'internet-content-information',\n",
       " 'industryDisp': 'Internet Content & Information',\n",
       " 'sector': 'Communication Services',\n",
       " 'sectorKey': 'communication-services',\n",
       " 'sectorDisp': 'Communication Services',\n",
       " 'longBusinessSummary': \"Tencent Holdings Limited, an investment holding company, offers value-added services (VAS), online advertising, fintech, and business services in the People's Republic of China and internationally. It operates through VAS, Online Advertising, FinTech and Business Services, and Others segments. The company's consumers business provides communication and services, such as instant messaging and social network; digital content including online games, videos, live streaming, news, music, and literature; fintech services, which includes mobile payment, wealth management, loans, and securities trading; and various tools, such as network security management, browser, navigation, application management, email, etc. Its enterprise business comprises marketing solutions, which offers digital tools including user insight, creative management, placement strategy, digital assets management, etc.; and cloud services, such as cloud computing, big data analytics, artificial intelligence, Internet of Things, security and other technologies for financial services, education, healthcare, retail, industry, transport, energy, and radio & television application. In addition, the company operates innovation business, which includes artificial intelligences; and discover and develops enterprise and next-generation technologies for food production, energy, and water management application. Tencent Holdings Limited was formerly known as Tencent (BVI) Limited and changed its name to Tencent Holding Limited in February 2004. The company was founded in 1998 and is headquartered in Shenzhen, the People's Republic of China.\",\n",
       " 'fullTimeEmployees': 105309,\n",
       " 'companyOfficers': [{'maxAge': 1,\n",
       "   'name': 'Mr. Huateng  Ma',\n",
       "   'age': 51,\n",
       "   'title': 'Co-Founder, Chairman & CEO',\n",
       "   'yearBorn': 1972,\n",
       "   'fiscalYear': 2022,\n",
       "   'totalPay': 42067447,\n",
       "   'exercisedValue': 0,\n",
       "   'unexercisedValue': 0},\n",
       "  {'maxAge': 1,\n",
       "   'name': 'Mr. Chi Ping  Lau',\n",
       "   'age': 50,\n",
       "   'title': 'President',\n",
       "   'yearBorn': 1973,\n",
       "   'fiscalYear': 2022,\n",
       "   'totalPay': 31682678,\n",
       "   'exercisedValue': 0,\n",
       "   'unexercisedValue': 1308525952},\n",
       "  {'maxAge': 1,\n",
       "   'name': 'Mr. Liqing  Zeng',\n",
       "   'age': 53,\n",
       "   'title': 'Co-Founder & Advisor Emeritus',\n",
       "   'yearBorn': 1970,\n",
       "   'fiscalYear': 2022,\n",
       "   'exercisedValue': 0,\n",
       "   'unexercisedValue': 0},\n",
       "  {'maxAge': 1,\n",
       "   'name': 'Mr. Chenye  Xu',\n",
       "   'age': 52,\n",
       "   'title': 'Co-Founder & Chief Information Officer',\n",
       "   'yearBorn': 1971,\n",
       "   'fiscalYear': 2022,\n",
       "   'exercisedValue': 0,\n",
       "   'unexercisedValue': 0},\n",
       "  {'maxAge': 1,\n",
       "   'name': 'Mr. Zhidong  Zhang',\n",
       "   'age': 51,\n",
       "   'title': 'Co-Founder & Advisor Emeritus',\n",
       "   'yearBorn': 1972,\n",
       "   'fiscalYear': 2022,\n",
       "   'totalPay': 17542780,\n",
       "   'exercisedValue': 0,\n",
       "   'unexercisedValue': 0},\n",
       "  {'maxAge': 1,\n",
       "   'name': 'Mr. Yidan  Chen',\n",
       "   'age': 52,\n",
       "   'title': 'Co-Founder & Advisor Emeritus',\n",
       "   'yearBorn': 1971,\n",
       "   'fiscalYear': 2022,\n",
       "   'exercisedValue': 0,\n",
       "   'unexercisedValue': 0},\n",
       "  {'maxAge': 1,\n",
       "   'name': 'Mr. Weibiao  Zhan',\n",
       "   'age': 50,\n",
       "   'title': 'Managing Director',\n",
       "   'yearBorn': 1973,\n",
       "   'fiscalYear': 2022,\n",
       "   'exercisedValue': 0,\n",
       "   'unexercisedValue': 0},\n",
       "  {'maxAge': 1,\n",
       "   'name': 'Mr. Shek Hon  Lo',\n",
       "   'age': 54,\n",
       "   'title': 'CFO & Senior VP',\n",
       "   'yearBorn': 1969,\n",
       "   'fiscalYear': 2022,\n",
       "   'exercisedValue': 0,\n",
       "   'unexercisedValue': 0},\n",
       "  {'maxAge': 1,\n",
       "   'name': 'Mr. Yuxin  Ren',\n",
       "   'age': 47,\n",
       "   'title': 'COO and President of Platform & Content Group & Interactive Entertainment Group',\n",
       "   'yearBorn': 1976,\n",
       "   'fiscalYear': 2022,\n",
       "   'exercisedValue': 0,\n",
       "   'unexercisedValue': 0},\n",
       "  {'maxAge': 1,\n",
       "   'name': 'Mr. Shan  Lu',\n",
       "   'age': 48,\n",
       "   'title': 'Senior EVP and President of Technology & Engineering Group',\n",
       "   'yearBorn': 1975,\n",
       "   'fiscalYear': 2022,\n",
       "   'exercisedValue': 0,\n",
       "   'unexercisedValue': 0}],\n",
       " 'auditRisk': 10,\n",
       " 'boardRisk': 5,\n",
       " 'compensationRisk': 10,\n",
       " 'shareHolderRightsRisk': 5,\n",
       " 'overallRisk': 10,\n",
       " 'governanceEpochDate': 1706745600,\n",
       " 'compensationAsOfEpochDate': 1672444800,\n",
       " 'maxAge': 86400,\n",
       " 'priceHint': 3,\n",
       " 'previousClose': 291.4,\n",
       " 'open': 290.0,\n",
       " 'dayLow': 287.0,\n",
       " 'dayHigh': 296.4,\n",
       " 'regularMarketPreviousClose': 291.4,\n",
       " 'regularMarketOpen': 290.0,\n",
       " 'regularMarketDayLow': 287.0,\n",
       " 'regularMarketDayHigh': 296.4,\n",
       " 'dividendRate': 2.4,\n",
       " 'dividendYield': 0.0083,\n",
       " 'exDividendDate': 1684454400,\n",
       " 'payoutRatio': 0.1084,\n",
       " 'fiveYearAvgDividendYield': 0.4,\n",
       " 'beta': 0.625,\n",
       " 'trailingPE': 13.351698,\n",
       " 'forwardPE': 14.082324,\n",
       " 'volume': 13229798,\n",
       " 'regularMarketVolume': 13229798,\n",
       " 'averageVolume': 22679799,\n",
       " 'averageVolume10days': 14006811,\n",
       " 'averageDailyVolume10Day': 14006811,\n",
       " 'bid': 290.8,\n",
       " 'ask': 291.0,\n",
       " 'marketCap': 2742761553920,\n",
       " 'fiftyTwoWeekLow': 260.2,\n",
       " 'fiftyTwoWeekHigh': 397.6,\n",
       " 'priceToSalesTrailing12Months': 4.5806365,\n",
       " 'fiftyDayAverage': 287.56,\n",
       " 'twoHundredDayAverage': 313.791,\n",
       " 'trailingAnnualDividendRate': 2.123,\n",
       " 'trailingAnnualDividendYield': 0.007285518,\n",
       " 'currency': 'HKD',\n",
       " 'enterpriseValue': 2821506727936,\n",
       " 'profitMargins': 0.32476002,\n",
       " 'floatShares': 6313652440,\n",
       " 'sharesOutstanding': 9431780352,\n",
       " 'heldPercentInsiders': 0.34122002,\n",
       " 'heldPercentInstitutions': 0.23425,\n",
       " 'impliedSharesOutstanding': 9663599616,\n",
       " 'bookValue': 81.307,\n",
       " 'priceToBook': 3.5765676,\n",
       " 'lastFiscalYearEnd': 1672444800,\n",
       " 'nextFiscalYearEnd': 1703980800,\n",
       " 'mostRecentQuarter': 1696032000,\n",
       " 'earningsQuarterlyGrowth': -0.094,\n",
       " 'netIncomeToCommon': 194458992640,\n",
       " 'trailingEps': 21.78,\n",
       " 'forwardEps': 20.65,\n",
       " 'pegRatio': 0.6,\n",
       " 'lastSplitFactor': '5:1',\n",
       " 'lastSplitDate': 1400112000,\n",
       " 'enterpriseToRevenue': 4.712,\n",
       " 'enterpriseToEbitda': 18.782,\n",
       " '52WeekChange': -0.16771609,\n",
       " 'SandP52WeekChange': 0.27787375,\n",
       " 'lastDividendValue': 2.4,\n",
       " 'lastDividendDate': 1684454400,\n",
       " 'exchange': 'HKG',\n",
       " 'quoteType': 'EQUITY',\n",
       " 'symbol': '0700.HK',\n",
       " 'underlyingSymbol': '0700.HK',\n",
       " 'shortName': 'TENCENT',\n",
       " 'longName': 'Tencent Holdings Limited',\n",
       " 'firstTradeDateEpochUtc': 1087349400,\n",
       " 'timeZoneFullName': 'Asia/Hong_Kong',\n",
       " 'timeZoneShortName': 'HKT',\n",
       " 'uuid': '341c2e2e-93bb-3eaf-b5b5-92ea7815949e',\n",
       " 'messageBoardId': 'finmb_11042136',\n",
       " 'gmtOffSetMilliseconds': 28800000,\n",
       " 'currentPrice': 290.8,\n",
       " 'targetHighPrice': 514.95,\n",
       " 'targetLowPrice': 284.39,\n",
       " 'targetMeanPrice': 428.53,\n",
       " 'targetMedianPrice': 436.74,\n",
       " 'recommendationMean': 1.7,\n",
       " 'recommendationKey': 'buy',\n",
       " 'numberOfAnalystOpinions': 47,\n",
       " 'totalCash': 362494984192,\n",
       " 'totalCashPerShare': 38.351,\n",
       " 'ebitda': 150226993152,\n",
       " 'totalDebt': 372929003520,\n",
       " 'quickRatio': 1.131,\n",
       " 'currentRatio': 1.396,\n",
       " 'totalRevenue': 598773006336,\n",
       " 'debtToEquity': 44.88,\n",
       " 'revenuePerShare': 63.177,\n",
       " 'returnOnAssets': 0.05367,\n",
       " 'returnOnEquity': 0.23900999,\n",
       " 'freeCashflow': 124511502336,\n",
       " 'operatingCashflow': 203610996736,\n",
       " 'earningsGrowth': -0.086,\n",
       " 'revenueGrowth': 0.104,\n",
       " 'grossMargins': 0.46346,\n",
       " 'ebitdaMargins': 0.25089002,\n",
       " 'operatingMargins': 0.28645,\n",
       " 'financialCurrency': 'CNY',\n",
       " 'trailingPegRatio': 1.3347}"
      ]
     },
     "execution_count": 4,
     "metadata": {},
     "output_type": "execute_result"
    }
   ],
   "source": [
    "tencent.info"
   ]
  },
  {
   "cell_type": "code",
   "execution_count": 9,
   "metadata": {},
   "outputs": [
    {
     "name": "stdout",
     "output_type": "stream",
     "text": [
      "address1\n",
      "address2\n",
      "city\n",
      "zip\n",
      "country\n",
      "phone\n",
      "website\n",
      "industry\n",
      "industryKey\n",
      "industryDisp\n",
      "sector\n",
      "sectorKey\n",
      "sectorDisp\n",
      "longBusinessSummary\n",
      "fullTimeEmployees\n",
      "companyOfficers\n",
      "auditRisk\n",
      "boardRisk\n",
      "compensationRisk\n",
      "shareHolderRightsRisk\n",
      "overallRisk\n",
      "governanceEpochDate\n",
      "compensationAsOfEpochDate\n",
      "maxAge\n",
      "priceHint\n",
      "previousClose\n",
      "open\n",
      "dayLow\n",
      "dayHigh\n",
      "regularMarketPreviousClose\n",
      "regularMarketOpen\n",
      "regularMarketDayLow\n",
      "regularMarketDayHigh\n",
      "dividendRate\n",
      "dividendYield\n",
      "exDividendDate\n",
      "payoutRatio\n",
      "fiveYearAvgDividendYield\n",
      "beta\n",
      "trailingPE\n",
      "forwardPE\n",
      "volume\n",
      "regularMarketVolume\n",
      "averageVolume\n",
      "averageVolume10days\n",
      "averageDailyVolume10Day\n",
      "bid\n",
      "ask\n",
      "marketCap\n",
      "fiftyTwoWeekLow\n",
      "fiftyTwoWeekHigh\n",
      "priceToSalesTrailing12Months\n",
      "fiftyDayAverage\n",
      "twoHundredDayAverage\n",
      "trailingAnnualDividendRate\n",
      "trailingAnnualDividendYield\n",
      "currency\n",
      "enterpriseValue\n",
      "profitMargins\n",
      "floatShares\n",
      "sharesOutstanding\n",
      "heldPercentInsiders\n",
      "heldPercentInstitutions\n",
      "impliedSharesOutstanding\n",
      "bookValue\n",
      "priceToBook\n",
      "lastFiscalYearEnd\n",
      "nextFiscalYearEnd\n",
      "mostRecentQuarter\n",
      "earningsQuarterlyGrowth\n",
      "netIncomeToCommon\n",
      "trailingEps\n",
      "forwardEps\n",
      "pegRatio\n",
      "lastSplitFactor\n",
      "lastSplitDate\n",
      "enterpriseToRevenue\n",
      "enterpriseToEbitda\n",
      "52WeekChange\n",
      "SandP52WeekChange\n",
      "lastDividendValue\n",
      "lastDividendDate\n",
      "exchange\n",
      "quoteType\n",
      "symbol\n",
      "underlyingSymbol\n",
      "shortName\n",
      "longName\n",
      "firstTradeDateEpochUtc\n",
      "timeZoneFullName\n",
      "timeZoneShortName\n",
      "uuid\n",
      "messageBoardId\n",
      "gmtOffSetMilliseconds\n",
      "currentPrice\n",
      "targetHighPrice\n",
      "targetLowPrice\n",
      "targetMeanPrice\n",
      "targetMedianPrice\n",
      "recommendationMean\n",
      "recommendationKey\n",
      "numberOfAnalystOpinions\n",
      "totalCash\n",
      "totalCashPerShare\n",
      "ebitda\n",
      "totalDebt\n",
      "quickRatio\n",
      "currentRatio\n",
      "totalRevenue\n",
      "debtToEquity\n",
      "revenuePerShare\n",
      "returnOnAssets\n",
      "returnOnEquity\n",
      "freeCashflow\n",
      "operatingCashflow\n",
      "earningsGrowth\n",
      "revenueGrowth\n",
      "grossMargins\n",
      "ebitdaMargins\n",
      "operatingMargins\n",
      "financialCurrency\n",
      "trailingPegRatio\n"
     ]
    }
   ],
   "source": [
    "for keys in tencent.info:\n",
    "    print(keys)"
   ]
  },
  {
   "cell_type": "code",
   "execution_count": null,
   "metadata": {},
   "outputs": [
    {
     "data": {
      "text/plain": [
       "'0700.HK'"
      ]
     },
     "metadata": {},
     "output_type": "display_data"
    }
   ],
   "source": [
    "tencent.info['symbol']"
   ]
  },
  {
   "cell_type": "code",
   "execution_count": null,
   "metadata": {},
   "outputs": [
    {
     "data": {
      "text/plain": [
       "'TENCENT'"
      ]
     },
     "metadata": {},
     "output_type": "display_data"
    }
   ],
   "source": [
    "tencent.info['shortName']"
   ]
  },
  {
   "cell_type": "code",
   "execution_count": null,
   "metadata": {},
   "outputs": [
    {
     "data": {
      "text/plain": [
       "'Tencent Holdings Limited'"
      ]
     },
     "metadata": {},
     "output_type": "display_data"
    }
   ],
   "source": [
    "tencent.info['longName']"
   ]
  },
  {
   "cell_type": "code",
   "execution_count": null,
   "metadata": {},
   "outputs": [
    {
     "data": {
      "text/plain": [
       "'Internet Content & Information'"
      ]
     },
     "metadata": {},
     "output_type": "display_data"
    }
   ],
   "source": [
    "tencent.info['industry']"
   ]
  },
  {
   "cell_type": "code",
   "execution_count": 10,
   "metadata": {},
   "outputs": [
    {
     "data": {
      "text/plain": [
       "13.351698"
      ]
     },
     "execution_count": 10,
     "metadata": {},
     "output_type": "execute_result"
    }
   ],
   "source": [
    "tencent.info['trailingPE']"
   ]
  },
  {
   "cell_type": "code",
   "execution_count": 11,
   "metadata": {},
   "outputs": [
    {
     "data": {
      "text/plain": [
       "14.082324"
      ]
     },
     "execution_count": 11,
     "metadata": {},
     "output_type": "execute_result"
    }
   ],
   "source": [
    "tencent.info['forwardPE']"
   ]
  },
  {
   "cell_type": "code",
   "execution_count": null,
   "metadata": {},
   "outputs": [
    {
     "data": {
      "text/plain": [
       "291.4"
      ]
     },
     "metadata": {},
     "output_type": "display_data"
    }
   ],
   "source": [
    "tencent.info['previousClose']"
   ]
  },
  {
   "cell_type": "code",
   "execution_count": 21,
   "metadata": {},
   "outputs": [
    {
     "data": {
      "text/plain": [
       "290.0"
      ]
     },
     "execution_count": 21,
     "metadata": {},
     "output_type": "execute_result"
    }
   ],
   "source": [
    "tencent.info['open']"
   ]
  },
  {
   "cell_type": "code",
   "execution_count": 22,
   "metadata": {},
   "outputs": [
    {
     "data": {
      "text/plain": [
       "287.0"
      ]
     },
     "execution_count": 22,
     "metadata": {},
     "output_type": "execute_result"
    }
   ],
   "source": [
    "tencent.info['dayLow']"
   ]
  },
  {
   "cell_type": "code",
   "execution_count": 23,
   "metadata": {},
   "outputs": [
    {
     "data": {
      "text/plain": [
       "296.4"
      ]
     },
     "execution_count": 23,
     "metadata": {},
     "output_type": "execute_result"
    }
   ],
   "source": [
    "tencent.info['dayHigh']"
   ]
  },
  {
   "cell_type": "code",
   "execution_count": 24,
   "metadata": {},
   "outputs": [
    {
     "data": {
      "text/plain": [
       "13229798"
      ]
     },
     "execution_count": 24,
     "metadata": {},
     "output_type": "execute_result"
    }
   ],
   "source": [
    "tencent.info['volume']"
   ]
  },
  {
   "cell_type": "code",
   "execution_count": 14,
   "metadata": {},
   "outputs": [
    {
     "data": {
      "text/plain": [
       "-0.16771609"
      ]
     },
     "execution_count": 14,
     "metadata": {},
     "output_type": "execute_result"
    }
   ],
   "source": [
    "tencent.info['52WeekChange']"
   ]
  },
  {
   "cell_type": "code",
   "execution_count": 3,
   "metadata": {},
   "outputs": [
    {
     "data": {
      "text/html": [
       "<div>\n",
       "<style scoped>\n",
       "    .dataframe tbody tr th:only-of-type {\n",
       "        vertical-align: middle;\n",
       "    }\n",
       "\n",
       "    .dataframe tbody tr th {\n",
       "        vertical-align: top;\n",
       "    }\n",
       "\n",
       "    .dataframe thead th {\n",
       "        text-align: right;\n",
       "    }\n",
       "</style>\n",
       "<table border=\"1\" class=\"dataframe\">\n",
       "  <thead>\n",
       "    <tr style=\"text-align: right;\">\n",
       "      <th></th>\n",
       "      <th>2022-12-31</th>\n",
       "      <th>2021-12-31</th>\n",
       "      <th>2020-12-31</th>\n",
       "    </tr>\n",
       "  </thead>\n",
       "  <tbody>\n",
       "    <tr>\n",
       "      <th>Tax Effect Of Unusual Items</th>\n",
       "      <td>11773031180.87763</td>\n",
       "      <td>11322773661.423353</td>\n",
       "      <td>5446359161.65802</td>\n",
       "    </tr>\n",
       "    <tr>\n",
       "      <th>Tax Rate For Calcs</th>\n",
       "      <td>0.102347</td>\n",
       "      <td>0.081641</td>\n",
       "      <td>0.110525</td>\n",
       "    </tr>\n",
       "    <tr>\n",
       "      <th>Normalized EBITDA</th>\n",
       "      <td>149131000000.0</td>\n",
       "      <td>166247000000.0</td>\n",
       "      <td>184188000000.0</td>\n",
       "    </tr>\n",
       "    <tr>\n",
       "      <th>Total Unusual Items</th>\n",
       "      <td>132295000000.0</td>\n",
       "      <td>147403000000.0</td>\n",
       "      <td>54057000000.0</td>\n",
       "    </tr>\n",
       "    <tr>\n",
       "      <th>Total Unusual Items Excluding Goodwill</th>\n",
       "      <td>115030000000.0</td>\n",
       "      <td>138690000000.0</td>\n",
       "      <td>49277000000.0</td>\n",
       "    </tr>\n",
       "    <tr>\n",
       "      <th>Net Income From Continuing Operation Net Minority Interest</th>\n",
       "      <td>188243000000.0</td>\n",
       "      <td>224822000000.0</td>\n",
       "      <td>159847000000.0</td>\n",
       "    </tr>\n",
       "    <tr>\n",
       "      <th>Reconciled Depreciation</th>\n",
       "      <td>61216000000.0</td>\n",
       "      <td>57670000000.0</td>\n",
       "      <td>50774000000.0</td>\n",
       "    </tr>\n",
       "    <tr>\n",
       "      <th>Reconciled Cost Of Revenue</th>\n",
       "      <td>315806000000.0</td>\n",
       "      <td>314174000000.0</td>\n",
       "      <td>260532000000.0</td>\n",
       "    </tr>\n",
       "    <tr>\n",
       "      <th>EBITDA</th>\n",
       "      <td>281426000000.0</td>\n",
       "      <td>313650000000.0</td>\n",
       "      <td>238245000000.0</td>\n",
       "    </tr>\n",
       "    <tr>\n",
       "      <th>EBIT</th>\n",
       "      <td>220210000000.0</td>\n",
       "      <td>255980000000.0</td>\n",
       "      <td>187471000000.0</td>\n",
       "    </tr>\n",
       "    <tr>\n",
       "      <th>Net Interest Income</th>\n",
       "      <td>-1393000000.0</td>\n",
       "      <td>-1268000000.0</td>\n",
       "      <td>-492000000.0</td>\n",
       "    </tr>\n",
       "    <tr>\n",
       "      <th>Interest Expense</th>\n",
       "      <td>9985000000.0</td>\n",
       "      <td>7918000000.0</td>\n",
       "      <td>7449000000.0</td>\n",
       "    </tr>\n",
       "    <tr>\n",
       "      <th>Interest Income</th>\n",
       "      <td>8592000000.0</td>\n",
       "      <td>6650000000.0</td>\n",
       "      <td>6957000000.0</td>\n",
       "    </tr>\n",
       "    <tr>\n",
       "      <th>Normalized Income</th>\n",
       "      <td>102251031180.877625</td>\n",
       "      <td>106167773661.423355</td>\n",
       "      <td>120796359161.65802</td>\n",
       "    </tr>\n",
       "    <tr>\n",
       "      <th>Net Income From Continuing And Discontinued Operation</th>\n",
       "      <td>188243000000.0</td>\n",
       "      <td>224822000000.0</td>\n",
       "      <td>159847000000.0</td>\n",
       "    </tr>\n",
       "    <tr>\n",
       "      <th>Total Expenses</th>\n",
       "      <td>440612000000.0</td>\n",
       "      <td>435727000000.0</td>\n",
       "      <td>353993000000.0</td>\n",
       "    </tr>\n",
       "    <tr>\n",
       "      <th>Total Operating Income As Reported</th>\n",
       "      <td>235706000000.0</td>\n",
       "      <td>271620000000.0</td>\n",
       "      <td>184237000000.0</td>\n",
       "    </tr>\n",
       "    <tr>\n",
       "      <th>Diluted Average Shares</th>\n",
       "      <td>9695000000.0</td>\n",
       "      <td>9696000000.0</td>\n",
       "      <td>9650000000.0</td>\n",
       "    </tr>\n",
       "    <tr>\n",
       "      <th>Basic Average Shares</th>\n",
       "      <td>9528000000.0</td>\n",
       "      <td>9528000000.0</td>\n",
       "      <td>9490000000.0</td>\n",
       "    </tr>\n",
       "    <tr>\n",
       "      <th>Diluted EPS</th>\n",
       "      <td>19.341</td>\n",
       "      <td>23.164</td>\n",
       "      <td>16.523</td>\n",
       "    </tr>\n",
       "    <tr>\n",
       "      <th>Basic EPS</th>\n",
       "      <td>19.757</td>\n",
       "      <td>23.597</td>\n",
       "      <td>16.844</td>\n",
       "    </tr>\n",
       "    <tr>\n",
       "      <th>Diluted NI Availto Com Stockholders</th>\n",
       "      <td>187503000000.0</td>\n",
       "      <td>224605000000.0</td>\n",
       "      <td>159444000000.0</td>\n",
       "    </tr>\n",
       "    <tr>\n",
       "      <th>Average Dilution Earnings</th>\n",
       "      <td>-740000000.0</td>\n",
       "      <td>-217000000.0</td>\n",
       "      <td>-403000000.0</td>\n",
       "    </tr>\n",
       "    <tr>\n",
       "      <th>Net Income Common Stockholders</th>\n",
       "      <td>188243000000.0</td>\n",
       "      <td>224822000000.0</td>\n",
       "      <td>159847000000.0</td>\n",
       "    </tr>\n",
       "    <tr>\n",
       "      <th>Otherunder Preferred Stock Dividend</th>\n",
       "      <td>0.0</td>\n",
       "      <td>0.0</td>\n",
       "      <td>0.0</td>\n",
       "    </tr>\n",
       "    <tr>\n",
       "      <th>Net Income</th>\n",
       "      <td>188243000000.0</td>\n",
       "      <td>224822000000.0</td>\n",
       "      <td>159847000000.0</td>\n",
       "    </tr>\n",
       "    <tr>\n",
       "      <th>Minority Interests</th>\n",
       "      <td>-466000000.0</td>\n",
       "      <td>-2988000000.0</td>\n",
       "      <td>-278000000.0</td>\n",
       "    </tr>\n",
       "    <tr>\n",
       "      <th>Net Income Including Noncontrolling Interests</th>\n",
       "      <td>188709000000.0</td>\n",
       "      <td>227810000000.0</td>\n",
       "      <td>160125000000.0</td>\n",
       "    </tr>\n",
       "    <tr>\n",
       "      <th>Net Income Continuous Operations</th>\n",
       "      <td>188709000000.0</td>\n",
       "      <td>227810000000.0</td>\n",
       "      <td>160125000000.0</td>\n",
       "    </tr>\n",
       "    <tr>\n",
       "      <th>Tax Provision</th>\n",
       "      <td>21516000000.0</td>\n",
       "      <td>20252000000.0</td>\n",
       "      <td>19897000000.0</td>\n",
       "    </tr>\n",
       "    <tr>\n",
       "      <th>Pretax Income</th>\n",
       "      <td>210225000000.0</td>\n",
       "      <td>248062000000.0</td>\n",
       "      <td>180022000000.0</td>\n",
       "    </tr>\n",
       "    <tr>\n",
       "      <th>Other Non Operating Income Expenses</th>\n",
       "      <td>-2804000000.0</td>\n",
       "      <td>1229000000.0</td>\n",
       "      <td>-1833000000.0</td>\n",
       "    </tr>\n",
       "    <tr>\n",
       "      <th>Special Income Charges</th>\n",
       "      <td>122780000000.0</td>\n",
       "      <td>90973000000.0</td>\n",
       "      <td>10368000000.0</td>\n",
       "    </tr>\n",
       "    <tr>\n",
       "      <th>Other Special Charges</th>\n",
       "      <td>-167583000000.0</td>\n",
       "      <td>-116001000000.0</td>\n",
       "      <td>-21790000000.0</td>\n",
       "    </tr>\n",
       "    <tr>\n",
       "      <th>Write Off</th>\n",
       "      <td>27538000000.0</td>\n",
       "      <td>16315000000.0</td>\n",
       "      <td>6642000000.0</td>\n",
       "    </tr>\n",
       "    <tr>\n",
       "      <th>Net Non Operating Interest Income Expense</th>\n",
       "      <td>-1393000000.0</td>\n",
       "      <td>-1268000000.0</td>\n",
       "      <td>-492000000.0</td>\n",
       "    </tr>\n",
       "    <tr>\n",
       "      <th>Interest Expense Non Operating</th>\n",
       "      <td>9985000000.0</td>\n",
       "      <td>7918000000.0</td>\n",
       "      <td>7449000000.0</td>\n",
       "    </tr>\n",
       "    <tr>\n",
       "      <th>Interest Income Non Operating</th>\n",
       "      <td>8592000000.0</td>\n",
       "      <td>6650000000.0</td>\n",
       "      <td>6957000000.0</td>\n",
       "    </tr>\n",
       "    <tr>\n",
       "      <th>Operating Income</th>\n",
       "      <td>113940000000.0</td>\n",
       "      <td>124391000000.0</td>\n",
       "      <td>128071000000.0</td>\n",
       "    </tr>\n",
       "    <tr>\n",
       "      <th>Operating Expense</th>\n",
       "      <td>124806000000.0</td>\n",
       "      <td>121553000000.0</td>\n",
       "      <td>93461000000.0</td>\n",
       "    </tr>\n",
       "    <tr>\n",
       "      <th>Selling General And Administration</th>\n",
       "      <td>135925000000.0</td>\n",
       "      <td>130441000000.0</td>\n",
       "      <td>101383000000.0</td>\n",
       "    </tr>\n",
       "    <tr>\n",
       "      <th>Selling And Marketing Expense</th>\n",
       "      <td>29229000000.0</td>\n",
       "      <td>40594000000.0</td>\n",
       "      <td>33758000000.0</td>\n",
       "    </tr>\n",
       "    <tr>\n",
       "      <th>General And Administrative Expense</th>\n",
       "      <td>106696000000.0</td>\n",
       "      <td>89847000000.0</td>\n",
       "      <td>67625000000.0</td>\n",
       "    </tr>\n",
       "    <tr>\n",
       "      <th>Gross Profit</th>\n",
       "      <td>238746000000.0</td>\n",
       "      <td>245944000000.0</td>\n",
       "      <td>221532000000.0</td>\n",
       "    </tr>\n",
       "    <tr>\n",
       "      <th>Cost Of Revenue</th>\n",
       "      <td>315806000000.0</td>\n",
       "      <td>314174000000.0</td>\n",
       "      <td>260532000000.0</td>\n",
       "    </tr>\n",
       "    <tr>\n",
       "      <th>Total Revenue</th>\n",
       "      <td>554552000000.0</td>\n",
       "      <td>560118000000.0</td>\n",
       "      <td>482064000000.0</td>\n",
       "    </tr>\n",
       "    <tr>\n",
       "      <th>Operating Revenue</th>\n",
       "      <td>554552000000.0</td>\n",
       "      <td>560118000000.0</td>\n",
       "      <td>482064000000.0</td>\n",
       "    </tr>\n",
       "  </tbody>\n",
       "</table>\n",
       "</div>"
      ],
      "text/plain": [
       "                                                             2022-12-31  \\\n",
       "Tax Effect Of Unusual Items                           11773031180.87763   \n",
       "Tax Rate For Calcs                                             0.102347   \n",
       "Normalized EBITDA                                        149131000000.0   \n",
       "Total Unusual Items                                      132295000000.0   \n",
       "Total Unusual Items Excluding Goodwill                   115030000000.0   \n",
       "Net Income From Continuing Operation Net Minori...       188243000000.0   \n",
       "Reconciled Depreciation                                   61216000000.0   \n",
       "Reconciled Cost Of Revenue                               315806000000.0   \n",
       "EBITDA                                                   281426000000.0   \n",
       "EBIT                                                     220210000000.0   \n",
       "Net Interest Income                                       -1393000000.0   \n",
       "Interest Expense                                           9985000000.0   \n",
       "Interest Income                                            8592000000.0   \n",
       "Normalized Income                                   102251031180.877625   \n",
       "Net Income From Continuing And Discontinued Ope...       188243000000.0   \n",
       "Total Expenses                                           440612000000.0   \n",
       "Total Operating Income As Reported                       235706000000.0   \n",
       "Diluted Average Shares                                     9695000000.0   \n",
       "Basic Average Shares                                       9528000000.0   \n",
       "Diluted EPS                                                      19.341   \n",
       "Basic EPS                                                        19.757   \n",
       "Diluted NI Availto Com Stockholders                      187503000000.0   \n",
       "Average Dilution Earnings                                  -740000000.0   \n",
       "Net Income Common Stockholders                           188243000000.0   \n",
       "Otherunder Preferred Stock Dividend                                 0.0   \n",
       "Net Income                                               188243000000.0   \n",
       "Minority Interests                                         -466000000.0   \n",
       "Net Income Including Noncontrolling Interests            188709000000.0   \n",
       "Net Income Continuous Operations                         188709000000.0   \n",
       "Tax Provision                                             21516000000.0   \n",
       "Pretax Income                                            210225000000.0   \n",
       "Other Non Operating Income Expenses                       -2804000000.0   \n",
       "Special Income Charges                                   122780000000.0   \n",
       "Other Special Charges                                   -167583000000.0   \n",
       "Write Off                                                 27538000000.0   \n",
       "Net Non Operating Interest Income Expense                 -1393000000.0   \n",
       "Interest Expense Non Operating                             9985000000.0   \n",
       "Interest Income Non Operating                              8592000000.0   \n",
       "Operating Income                                         113940000000.0   \n",
       "Operating Expense                                        124806000000.0   \n",
       "Selling General And Administration                       135925000000.0   \n",
       "Selling And Marketing Expense                             29229000000.0   \n",
       "General And Administrative Expense                       106696000000.0   \n",
       "Gross Profit                                             238746000000.0   \n",
       "Cost Of Revenue                                          315806000000.0   \n",
       "Total Revenue                                            554552000000.0   \n",
       "Operating Revenue                                        554552000000.0   \n",
       "\n",
       "                                                             2021-12-31  \\\n",
       "Tax Effect Of Unusual Items                          11322773661.423353   \n",
       "Tax Rate For Calcs                                             0.081641   \n",
       "Normalized EBITDA                                        166247000000.0   \n",
       "Total Unusual Items                                      147403000000.0   \n",
       "Total Unusual Items Excluding Goodwill                   138690000000.0   \n",
       "Net Income From Continuing Operation Net Minori...       224822000000.0   \n",
       "Reconciled Depreciation                                   57670000000.0   \n",
       "Reconciled Cost Of Revenue                               314174000000.0   \n",
       "EBITDA                                                   313650000000.0   \n",
       "EBIT                                                     255980000000.0   \n",
       "Net Interest Income                                       -1268000000.0   \n",
       "Interest Expense                                           7918000000.0   \n",
       "Interest Income                                            6650000000.0   \n",
       "Normalized Income                                   106167773661.423355   \n",
       "Net Income From Continuing And Discontinued Ope...       224822000000.0   \n",
       "Total Expenses                                           435727000000.0   \n",
       "Total Operating Income As Reported                       271620000000.0   \n",
       "Diluted Average Shares                                     9696000000.0   \n",
       "Basic Average Shares                                       9528000000.0   \n",
       "Diluted EPS                                                      23.164   \n",
       "Basic EPS                                                        23.597   \n",
       "Diluted NI Availto Com Stockholders                      224605000000.0   \n",
       "Average Dilution Earnings                                  -217000000.0   \n",
       "Net Income Common Stockholders                           224822000000.0   \n",
       "Otherunder Preferred Stock Dividend                                 0.0   \n",
       "Net Income                                               224822000000.0   \n",
       "Minority Interests                                        -2988000000.0   \n",
       "Net Income Including Noncontrolling Interests            227810000000.0   \n",
       "Net Income Continuous Operations                         227810000000.0   \n",
       "Tax Provision                                             20252000000.0   \n",
       "Pretax Income                                            248062000000.0   \n",
       "Other Non Operating Income Expenses                        1229000000.0   \n",
       "Special Income Charges                                    90973000000.0   \n",
       "Other Special Charges                                   -116001000000.0   \n",
       "Write Off                                                 16315000000.0   \n",
       "Net Non Operating Interest Income Expense                 -1268000000.0   \n",
       "Interest Expense Non Operating                             7918000000.0   \n",
       "Interest Income Non Operating                              6650000000.0   \n",
       "Operating Income                                         124391000000.0   \n",
       "Operating Expense                                        121553000000.0   \n",
       "Selling General And Administration                       130441000000.0   \n",
       "Selling And Marketing Expense                             40594000000.0   \n",
       "General And Administrative Expense                        89847000000.0   \n",
       "Gross Profit                                             245944000000.0   \n",
       "Cost Of Revenue                                          314174000000.0   \n",
       "Total Revenue                                            560118000000.0   \n",
       "Operating Revenue                                        560118000000.0   \n",
       "\n",
       "                                                            2020-12-31  \n",
       "Tax Effect Of Unusual Items                           5446359161.65802  \n",
       "Tax Rate For Calcs                                            0.110525  \n",
       "Normalized EBITDA                                       184188000000.0  \n",
       "Total Unusual Items                                      54057000000.0  \n",
       "Total Unusual Items Excluding Goodwill                   49277000000.0  \n",
       "Net Income From Continuing Operation Net Minori...      159847000000.0  \n",
       "Reconciled Depreciation                                  50774000000.0  \n",
       "Reconciled Cost Of Revenue                              260532000000.0  \n",
       "EBITDA                                                  238245000000.0  \n",
       "EBIT                                                    187471000000.0  \n",
       "Net Interest Income                                       -492000000.0  \n",
       "Interest Expense                                          7449000000.0  \n",
       "Interest Income                                           6957000000.0  \n",
       "Normalized Income                                   120796359161.65802  \n",
       "Net Income From Continuing And Discontinued Ope...      159847000000.0  \n",
       "Total Expenses                                          353993000000.0  \n",
       "Total Operating Income As Reported                      184237000000.0  \n",
       "Diluted Average Shares                                    9650000000.0  \n",
       "Basic Average Shares                                      9490000000.0  \n",
       "Diluted EPS                                                     16.523  \n",
       "Basic EPS                                                       16.844  \n",
       "Diluted NI Availto Com Stockholders                     159444000000.0  \n",
       "Average Dilution Earnings                                 -403000000.0  \n",
       "Net Income Common Stockholders                          159847000000.0  \n",
       "Otherunder Preferred Stock Dividend                                0.0  \n",
       "Net Income                                              159847000000.0  \n",
       "Minority Interests                                        -278000000.0  \n",
       "Net Income Including Noncontrolling Interests           160125000000.0  \n",
       "Net Income Continuous Operations                        160125000000.0  \n",
       "Tax Provision                                            19897000000.0  \n",
       "Pretax Income                                           180022000000.0  \n",
       "Other Non Operating Income Expenses                      -1833000000.0  \n",
       "Special Income Charges                                   10368000000.0  \n",
       "Other Special Charges                                   -21790000000.0  \n",
       "Write Off                                                 6642000000.0  \n",
       "Net Non Operating Interest Income Expense                 -492000000.0  \n",
       "Interest Expense Non Operating                            7449000000.0  \n",
       "Interest Income Non Operating                             6957000000.0  \n",
       "Operating Income                                        128071000000.0  \n",
       "Operating Expense                                        93461000000.0  \n",
       "Selling General And Administration                      101383000000.0  \n",
       "Selling And Marketing Expense                            33758000000.0  \n",
       "General And Administrative Expense                       67625000000.0  \n",
       "Gross Profit                                            221532000000.0  \n",
       "Cost Of Revenue                                         260532000000.0  \n",
       "Total Revenue                                           482064000000.0  \n",
       "Operating Revenue                                       482064000000.0  "
      ]
     },
     "execution_count": 3,
     "metadata": {},
     "output_type": "execute_result"
    }
   ],
   "source": [
    "tencent.financials"
   ]
  },
  {
   "cell_type": "code",
   "execution_count": 29,
   "metadata": {},
   "outputs": [
    {
     "data": {
      "text/html": [
       "<div>\n",
       "<style scoped>\n",
       "    .dataframe tbody tr th:only-of-type {\n",
       "        vertical-align: middle;\n",
       "    }\n",
       "\n",
       "    .dataframe tbody tr th {\n",
       "        vertical-align: top;\n",
       "    }\n",
       "\n",
       "    .dataframe thead th {\n",
       "        text-align: right;\n",
       "    }\n",
       "</style>\n",
       "<table border=\"1\" class=\"dataframe\">\n",
       "  <thead>\n",
       "    <tr style=\"text-align: right;\">\n",
       "      <th></th>\n",
       "      <th>Open</th>\n",
       "      <th>High</th>\n",
       "      <th>Low</th>\n",
       "      <th>Close</th>\n",
       "      <th>Volume</th>\n",
       "      <th>Dividends</th>\n",
       "      <th>Stock Splits</th>\n",
       "    </tr>\n",
       "    <tr>\n",
       "      <th>Date</th>\n",
       "      <th></th>\n",
       "      <th></th>\n",
       "      <th></th>\n",
       "      <th></th>\n",
       "      <th></th>\n",
       "      <th></th>\n",
       "      <th></th>\n",
       "    </tr>\n",
       "  </thead>\n",
       "  <tbody>\n",
       "    <tr>\n",
       "      <th>2023-02-23 00:00:00+08:00</th>\n",
       "      <td>348.322311</td>\n",
       "      <td>360.833324</td>\n",
       "      <td>345.939268</td>\n",
       "      <td>353.485596</td>\n",
       "      <td>19433112</td>\n",
       "      <td>0.0</td>\n",
       "      <td>0.0</td>\n",
       "    </tr>\n",
       "    <tr>\n",
       "      <th>2023-02-24 00:00:00+08:00</th>\n",
       "      <td>348.520895</td>\n",
       "      <td>352.691243</td>\n",
       "      <td>344.946316</td>\n",
       "      <td>346.932190</td>\n",
       "      <td>24415893</td>\n",
       "      <td>0.0</td>\n",
       "      <td>0.0</td>\n",
       "    </tr>\n",
       "    <tr>\n",
       "      <th>2023-02-27 00:00:00+08:00</th>\n",
       "      <td>342.563273</td>\n",
       "      <td>351.896875</td>\n",
       "      <td>340.378800</td>\n",
       "      <td>346.932190</td>\n",
       "      <td>20480043</td>\n",
       "      <td>0.0</td>\n",
       "      <td>0.0</td>\n",
       "    </tr>\n",
       "    <tr>\n",
       "      <th>2023-02-28 00:00:00+08:00</th>\n",
       "      <td>349.712421</td>\n",
       "      <td>355.074275</td>\n",
       "      <td>341.173157</td>\n",
       "      <td>341.173157</td>\n",
       "      <td>26006206</td>\n",
       "      <td>0.0</td>\n",
       "      <td>0.0</td>\n",
       "    </tr>\n",
       "    <tr>\n",
       "      <th>2023-03-01 00:00:00+08:00</th>\n",
       "      <td>344.946314</td>\n",
       "      <td>368.181034</td>\n",
       "      <td>343.556208</td>\n",
       "      <td>366.195160</td>\n",
       "      <td>35607254</td>\n",
       "      <td>0.0</td>\n",
       "      <td>0.0</td>\n",
       "    </tr>\n",
       "    <tr>\n",
       "      <th>...</th>\n",
       "      <td>...</td>\n",
       "      <td>...</td>\n",
       "      <td>...</td>\n",
       "      <td>...</td>\n",
       "      <td>...</td>\n",
       "      <td>...</td>\n",
       "      <td>...</td>\n",
       "    </tr>\n",
       "    <tr>\n",
       "      <th>2024-02-19 00:00:00+08:00</th>\n",
       "      <td>291.399994</td>\n",
       "      <td>291.399994</td>\n",
       "      <td>283.799988</td>\n",
       "      <td>284.799988</td>\n",
       "      <td>15415304</td>\n",
       "      <td>0.0</td>\n",
       "      <td>0.0</td>\n",
       "    </tr>\n",
       "    <tr>\n",
       "      <th>2024-02-20 00:00:00+08:00</th>\n",
       "      <td>287.000000</td>\n",
       "      <td>287.799988</td>\n",
       "      <td>280.399994</td>\n",
       "      <td>284.200012</td>\n",
       "      <td>15773028</td>\n",
       "      <td>0.0</td>\n",
       "      <td>0.0</td>\n",
       "    </tr>\n",
       "    <tr>\n",
       "      <th>2024-02-21 00:00:00+08:00</th>\n",
       "      <td>280.799988</td>\n",
       "      <td>294.600006</td>\n",
       "      <td>280.799988</td>\n",
       "      <td>288.799988</td>\n",
       "      <td>23947218</td>\n",
       "      <td>0.0</td>\n",
       "      <td>0.0</td>\n",
       "    </tr>\n",
       "    <tr>\n",
       "      <th>2024-02-22 00:00:00+08:00</th>\n",
       "      <td>288.200012</td>\n",
       "      <td>291.399994</td>\n",
       "      <td>286.799988</td>\n",
       "      <td>291.399994</td>\n",
       "      <td>12441270</td>\n",
       "      <td>0.0</td>\n",
       "      <td>0.0</td>\n",
       "    </tr>\n",
       "    <tr>\n",
       "      <th>2024-02-23 00:00:00+08:00</th>\n",
       "      <td>290.000000</td>\n",
       "      <td>296.399994</td>\n",
       "      <td>287.000000</td>\n",
       "      <td>290.799988</td>\n",
       "      <td>13229798</td>\n",
       "      <td>0.0</td>\n",
       "      <td>0.0</td>\n",
       "    </tr>\n",
       "  </tbody>\n",
       "</table>\n",
       "<p>246 rows × 7 columns</p>\n",
       "</div>"
      ],
      "text/plain": [
       "                                 Open        High         Low       Close  \\\n",
       "Date                                                                        \n",
       "2023-02-23 00:00:00+08:00  348.322311  360.833324  345.939268  353.485596   \n",
       "2023-02-24 00:00:00+08:00  348.520895  352.691243  344.946316  346.932190   \n",
       "2023-02-27 00:00:00+08:00  342.563273  351.896875  340.378800  346.932190   \n",
       "2023-02-28 00:00:00+08:00  349.712421  355.074275  341.173157  341.173157   \n",
       "2023-03-01 00:00:00+08:00  344.946314  368.181034  343.556208  366.195160   \n",
       "...                               ...         ...         ...         ...   \n",
       "2024-02-19 00:00:00+08:00  291.399994  291.399994  283.799988  284.799988   \n",
       "2024-02-20 00:00:00+08:00  287.000000  287.799988  280.399994  284.200012   \n",
       "2024-02-21 00:00:00+08:00  280.799988  294.600006  280.799988  288.799988   \n",
       "2024-02-22 00:00:00+08:00  288.200012  291.399994  286.799988  291.399994   \n",
       "2024-02-23 00:00:00+08:00  290.000000  296.399994  287.000000  290.799988   \n",
       "\n",
       "                             Volume  Dividends  Stock Splits  \n",
       "Date                                                          \n",
       "2023-02-23 00:00:00+08:00  19433112        0.0           0.0  \n",
       "2023-02-24 00:00:00+08:00  24415893        0.0           0.0  \n",
       "2023-02-27 00:00:00+08:00  20480043        0.0           0.0  \n",
       "2023-02-28 00:00:00+08:00  26006206        0.0           0.0  \n",
       "2023-03-01 00:00:00+08:00  35607254        0.0           0.0  \n",
       "...                             ...        ...           ...  \n",
       "2024-02-19 00:00:00+08:00  15415304        0.0           0.0  \n",
       "2024-02-20 00:00:00+08:00  15773028        0.0           0.0  \n",
       "2024-02-21 00:00:00+08:00  23947218        0.0           0.0  \n",
       "2024-02-22 00:00:00+08:00  12441270        0.0           0.0  \n",
       "2024-02-23 00:00:00+08:00  13229798        0.0           0.0  \n",
       "\n",
       "[246 rows x 7 columns]"
      ]
     },
     "execution_count": 29,
     "metadata": {},
     "output_type": "execute_result"
    }
   ],
   "source": [
    "df = tencent.history(period=\"1y\")\n",
    "df"
   ]
  },
  {
   "cell_type": "code",
   "execution_count": 25,
   "metadata": {},
   "outputs": [],
   "source": [
    "import plotly.graph_objs as go"
   ]
  },
  {
   "cell_type": "code",
   "execution_count": 31,
   "metadata": {},
   "outputs": [
    {
     "data": {
      "application/vnd.plotly.v1+json": {
       "config": {
        "plotlyServerURL": "https://plot.ly"
       },
       "data": [
        {
         "close": [
          353.485595703125,
          346.93218994140625,
          346.93218994140625,
          341.17315673828125,
          366.1951599121094,
          360.237548828125,
          365.003662109375,
          360.4361267089844,
          354.478515625,
          347.13079833984375,
          337.79718017578125,
          329.2579345703125,
          342.36468505859375,
          339.1872863769531,
          342.1661071777344,
          333.6268310546875,
          337.0028076171875,
          332.435302734375,
          341.17315673828125,
          344.74774169921875,
          372.9471435546875,
          374.138671875,
          360.237548828125,
          375.52880859375,
          382.0821533203125,
          382.28076171875,
          383.0751037597656,
          385.4581604003906,
          382.28076171875,
          382.67791748046875,
          373.9400939941406,
          354.6771240234375,
          360.6347351074219,
          362.8191833496094,
          368.379638671875,
          362.8191833496094,
          354.6771240234375,
          354.478515625,
          346.7336120605469,
          342.5632629394531,
          336.0098876953125,
          345.7406921386719,
          342.5632629394531,
          341.9674987792969,
          343.35760498046875,
          337.0028076171875,
          335.41412353515625,
          340.3788146972656,
          338.3929138183594,
          326.08050537109375,
          327.2720642089844,
          324.0946350097656,
          325.8819580078125,
          338.5915222167969,
          342.36468505859375,
          340.3788146972656,
          337.3999938964844,
          333.20001220703125,
          340.20001220703125,
          335.6000061035156,
          332.3999938964844,
          322.3999938964844,
          313.20001220703125,
          316.20001220703125,
          310.6000061035156,
          315.3999938964844,
          334.20001220703125,
          338.20001220703125,
          331.20001220703125,
          335.6000061035156,
          334.79998779296875,
          336,
          338.3999938964844,
          344.79998779296875,
          345.6000061035156,
          355,
          363,
          357.20001220703125,
          350,
          340.3999938964844,
          337,
          332.79998779296875,
          341.3999938964844,
          336.20001220703125,
          333.6000061035156,
          331.6000061035156,
          338,
          339.20001220703125,
          335.3999938964844,
          326.79998779296875,
          326.6000061035156,
          328.79998779296875,
          333.79998779296875,
          340,
          349.79998779296875,
          352.6000061035156,
          336.3999938964844,
          333,
          332.79998779296875,
          333,
          325,
          345,
          341,
          343.79998779296875,
          350.3999938964844,
          354.3999938964844,
          354,
          343.3999938964844,
          342.20001220703125,
          343.3999938964844,
          341.20001220703125,
          334.79998779296875,
          337.20001220703125,
          339.79998779296875,
          335.79998779296875,
          333.20001220703125,
          332.6000061035156,
          328.79998779296875,
          332.79998779296875,
          325,
          318,
          319,
          318,
          325.20001220703125,
          320,
          325.20001220703125,
          329.3999938964844,
          325.79998779296875,
          325,
          333.3999938964844,
          329,
          327.6000061035156,
          321.6000061035156,
          324,
          322,
          320.20001220703125,
          319.79998779296875,
          317.20001220703125,
          312.20001220703125,
          312.3999938964844,
          309.20001220703125,
          303,
          313.6000061035156,
          304.3999938964844,
          300,
          302,
          297.3999938964844,
          306.20001220703125,
          300.6000061035156,
          297.6000061035156,
          299.79998779296875,
          305.20001220703125,
          307,
          308.20001220703125,
          311,
          316.6000061035156,
          306.79998779296875,
          301.20001220703125,
          302.20001220703125,
          300,
          291.20001220703125,
          289,
          283,
          287.79998779296875,
          287.6000061035156,
          292.79998779296875,
          295.3999938964844,
          289.20001220703125,
          287,
          288.6000061035156,
          302.6000061035156,
          312.6000061035156,
          308.6000061035156,
          308.3999938964844,
          306.79998779296875,
          302.79998779296875,
          309.79998779296875,
          307.79998779296875,
          322.6000061035156,
          324.79998779296875,
          315.20001220703125,
          326.6000061035156,
          324.79998779296875,
          324.3999938964844,
          329.20001220703125,
          321.20001220703125,
          322.79998779296875,
          319.6000061035156,
          317,
          327,
          319,
          316.79998779296875,
          308.79998779296875,
          311.6000061035156,
          307.79998779296875,
          305.6000061035156,
          307.20001220703125,
          311.3999938964844,
          307,
          306.3999938964844,
          314.3999938964844,
          311.6000061035156,
          311.79998779296875,
          314.20001220703125,
          312.6000061035156,
          274,
          285,
          293,
          293.6000061035156,
          296.6000061035156,
          300.6000061035156,
          298.79998779296875,
          292.20001220703125,
          288,
          283.6000061035156,
          280.20001220703125,
          287.3999938964844,
          288.3999938964844,
          287.6000061035156,
          282.3999938964844,
          274.6000061035156,
          277.6000061035156,
          271.20001220703125,
          262.20001220703125,
          272,
          281.79998779296875,
          290.79998779296875,
          282.79998779296875,
          282,
          273.79998779296875,
          270.6000061035156,
          271.6000061035156,
          279.3999938964844,
          279.6000061035156,
          290.79998779296875,
          292.20001220703125,
          287.20001220703125,
          286.6000061035156,
          290,
          285.3999938964844,
          291.79998779296875,
          284.79998779296875,
          284.20001220703125,
          288.79998779296875,
          291.3999938964844,
          290.79998779296875
         ],
         "high": [
          360.8333239354235,
          352.69124285877535,
          351.89687505877623,
          355.0742746355171,
          368.1810339469951,
          366.39377064541986,
          372.1527906189942,
          365.9965799031933,
          366.1951603231644,
          349.1166724375522,
          346.73361319310845,
          335.811325215054,
          349.1166752259511,
          350.1095934129075,
          351.301109687981,
          342.5632640293666,
          344.151966050548,
          337.0028190944646,
          344.5491364529178,
          351.1025324974003,
          373.1457127736247,
          384.66381076543774,
          375.33020407579596,
          378.30902024375655,
          394.79176536235985,
          387.04684740637805,
          391.2171997328881,
          388.2383719147728,
          385.8553411354879,
          384.8623910226361,
          387.24544422240103,
          368.97541138799653,
          361.4290725967114,
          365.5994252044693,
          369.3725757033356,
          368.379636757296,
          360.43614675434634,
          359.04603197077074,
          353.0884027917048,
          348.32228538399914,
          339.18729833863864,
          349.712440329572,
          345.5420739215353,
          352.2940375804842,
          351.8968693030818,
          340.57738683386776,
          341.17317660922635,
          344.5491625025483,
          345.14490352653394,
          336.80424317308126,
          329.0593388134965,
          331.24379362477373,
          332.03814965139185,
          341.96750200840523,
          345.5420957611189,
          347.32937417138044,
          340.5774045436526,
          335.79998779296875,
          344.3999938964844,
          345.6000061035156,
          336.79998779296875,
          330.6000061035156,
          327.20001220703125,
          318.20001220703125,
          314.6000061035156,
          323.3999938964844,
          334.20001220703125,
          338.79998779296875,
          339.20001220703125,
          340,
          335.20001220703125,
          340,
          340,
          348.3999938964844,
          353.3999938964844,
          355,
          364.3999938964844,
          360,
          359.20001220703125,
          346,
          340.79998779296875,
          339.3999938964844,
          344.3999938964844,
          341,
          339,
          333.79998779296875,
          340,
          341.20001220703125,
          341,
          337,
          331.6000061035156,
          335.79998779296875,
          335.6000061035156,
          341,
          350.6000061035156,
          354.79998779296875,
          351.79998779296875,
          333.79998779296875,
          341.79998779296875,
          337.3999938964844,
          331,
          345.6000061035156,
          344.79998779296875,
          346.3999938964844,
          352,
          363,
          361,
          352.3999938964844,
          347.79998779296875,
          350.6000061035156,
          341.79998779296875,
          337.20001220703125,
          338.20001220703125,
          341.6000061035156,
          341.6000061035156,
          334.3999938964844,
          335,
          331,
          335.79998779296875,
          332.79998779296875,
          325.79998779296875,
          324.6000061035156,
          321.3999938964844,
          328,
          323.79998779296875,
          333.6000061035156,
          332,
          334,
          331.79998779296875,
          334.6000061035156,
          335,
          329,
          327.20001220703125,
          325.3999938964844,
          328,
          326,
          322.6000061035156,
          321.79998779296875,
          319,
          314.79998779296875,
          312.6000061035156,
          308.3999938964844,
          314,
          307,
          303.6000061035156,
          304.20001220703125,
          302.6000061035156,
          308.3999938964844,
          302,
          300,
          303.6000061035156,
          307.3999938964844,
          308.79998779296875,
          314.79998779296875,
          314.6000061035156,
          317.20001220703125,
          313,
          308.79998779296875,
          304.6000061035156,
          301.6000061035156,
          297.6000061035156,
          290.20001220703125,
          289.79998779296875,
          296.3999938964844,
          290.20001220703125,
          294.6000061035156,
          297.79998779296875,
          295.3999938964844,
          290,
          294.20001220703125,
          304.20001220703125,
          314.20001220703125,
          314,
          314.6000061035156,
          308.79998779296875,
          304.6000061035156,
          311.79998779296875,
          312,
          323.6000061035156,
          330,
          323.6000061035156,
          328.79998779296875,
          332.6000061035156,
          330,
          329.6000061035156,
          329.6000061035156,
          325,
          324.3999938964844,
          324,
          327,
          325.79998779296875,
          324.20001220703125,
          321,
          314.79998779296875,
          311.20001220703125,
          309.20001220703125,
          308.6000061035156,
          311.79998779296875,
          310.79998779296875,
          314,
          319.3999938964844,
          312.6000061035156,
          314.3999938964844,
          318.20001220703125,
          313.6000061035156,
          317,
          291,
          295.6000061035156,
          295.79998779296875,
          305,
          301.6000061035156,
          304.3999938964844,
          296.6000061035156,
          294.6000061035156,
          289.20001220703125,
          285.20001220703125,
          292.3999938964844,
          293,
          287.6000061035156,
          288.79998779296875,
          278.79998779296875,
          279.20001220703125,
          282.6000061035156,
          271.6000061035156,
          278.20001220703125,
          284.3999938964844,
          292,
          290.20001220703125,
          288.3999938964844,
          280,
          278,
          277.79998779296875,
          287.6000061035156,
          283.3999938964844,
          292.6000061035156,
          297,
          293.20001220703125,
          286.6000061035156,
          291.20001220703125,
          290,
          291.79998779296875,
          291.3999938964844,
          287.79998779296875,
          294.6000061035156,
          291.3999938964844,
          296.3999938964844
         ],
         "low": [
          345.93926793669635,
          344.9463158944583,
          340.37879952607125,
          341.17315673828125,
          343.55620803522567,
          359.8403800694039,
          361.82625145929956,
          358.0530839977611,
          352.49264158788515,
          342.56328185470755,
          337.79718017578125,
          328.26499751207996,
          335.0169568987929,
          336.6056441080483,
          341.7689384254686,
          331.4423575400641,
          337.0028076171875,
          328.66215417284144,
          328.06637631436024,
          343.75480469006436,
          349.91099301569744,
          372.1527977561263,
          360.03897959978144,
          364.2093018566401,
          379.30194178406975,
          377.51467603112195,
          381.28782918129195,
          382.2807498393543,
          379.5005501179726,
          377.9118319546908,
          368.7768092836952,
          351.6983128932363,
          344.94631212667457,
          356.4643924416961,
          357.8545000779862,
          358.4502664942961,
          352.4926504071431,
          353.08840985942624,
          343.5562015439517,
          335.6127039812613,
          330.648033748979,
          333.03107974657104,
          337.7971774889345,
          341.3717305153369,
          339.78305599605494,
          333.82542743727447,
          330.6480378136115,
          335.8113284273321,
          335.21553363395265,
          325.8819361519287,
          323.10171639574327,
          320.9172547491209,
          324.6904214047793,
          322.70452997202045,
          340.3788109450241,
          338.79013963052415,
          327.0734547462381,
          329,
          328.20001220703125,
          334,
          330.6000061035156,
          318.3999938964844,
          311.20001220703125,
          307.6000061035156,
          306,
          311.20001220703125,
          323.3999938964844,
          330,
          329,
          334.6000061035156,
          328.20001220703125,
          333.79998779296875,
          334.20001220703125,
          338,
          344,
          348,
          355.79998779296875,
          350.3999938964844,
          347.20001220703125,
          337,
          333,
          330.20001220703125,
          332.79998779296875,
          333.79998779296875,
          331.20001220703125,
          329.3999938964844,
          331.79998779296875,
          336.20001220703125,
          333.20001220703125,
          325.3999938964844,
          320,
          327.3999938964844,
          330.20001220703125,
          335.79998779296875,
          347,
          348.79998779296875,
          335,
          327,
          330.6000061035156,
          331,
          323.79998779296875,
          335,
          338.20001220703125,
          340.3999938964844,
          338.6000061035156,
          350.79998779296875,
          347.20001220703125,
          340.20001220703125,
          339,
          339.20001220703125,
          338,
          333.3999938964844,
          332,
          335.6000061035156,
          334.6000061035156,
          327.79998779296875,
          330.6000061035156,
          327.6000061035156,
          320.6000061035156,
          325,
          318,
          314.3999938964844,
          317,
          321,
          320,
          324.79998779296875,
          325.3999938964844,
          325,
          322,
          328.3999938964844,
          327.3999938964844,
          323.20001220703125,
          320.20001220703125,
          315.3999938964844,
          319.79998779296875,
          319,
          318.3999938964844,
          317,
          312.20001220703125,
          308.79998779296875,
          308,
          302,
          300.20001220703125,
          303.20001220703125,
          298.20001220703125,
          298,
          296.3999938964844,
          297.20001220703125,
          296.3999938964844,
          295.3999938964844,
          298.6000061035156,
          301.79998779296875,
          302,
          306,
          310.3999938964844,
          314.79998779296875,
          305.3999938964844,
          300.20001220703125,
          300,
          297.3999938964844,
          291.20001220703125,
          286.20001220703125,
          282.6000061035156,
          285.20001220703125,
          283,
          287,
          290.79998779296875,
          288,
          284.3999938964844,
          286.79998779296875,
          291.3999938964844,
          307.20001220703125,
          306.20001220703125,
          307.3999938964844,
          305,
          301.20001220703125,
          300.20001220703125,
          305.6000061035156,
          314,
          316.20001220703125,
          313.20001220703125,
          316.20001220703125,
          323.6000061035156,
          322,
          323.6000061035156,
          320,
          318,
          317,
          313.6000061035156,
          317,
          319,
          315.20001220703125,
          305,
          302.3999938964844,
          304,
          301,
          298.3999938964844,
          306.20001220703125,
          304.3999938964844,
          304.6000061035156,
          309,
          309.6000061035156,
          306.6000061035156,
          312.20001220703125,
          309,
          263.6000061035156,
          282.20001220703125,
          284.79998779296875,
          289.6000061035156,
          294.3999938964844,
          292.3999938964844,
          298,
          289.6000061035156,
          285.20001220703125,
          283.3999938964844,
          276.79998779296875,
          280,
          284.79998779296875,
          287.6000061035156,
          280,
          272.20001220703125,
          271.20001220703125,
          268.20001220703125,
          260.20001220703125,
          263.20001220703125,
          272.20001220703125,
          280.79998779296875,
          281.20001220703125,
          279.3999938964844,
          273,
          268.3999938964844,
          268,
          275,
          273.79998779296875,
          279.6000061035156,
          288.79998779296875,
          286.3999938964844,
          286.6000061035156,
          282,
          285,
          280.3999938964844,
          283.79998779296875,
          280.3999938964844,
          280.79998779296875,
          286.79998779296875,
          287
         ],
         "open": [
          348.32231083608576,
          348.52089523937127,
          342.5632730985273,
          349.71242093556117,
          344.946313799239,
          365.59943312797776,
          369.5711785555958,
          361.4290636971634,
          360.23753821181987,
          347.52796709897865,
          345.54207666998514,
          330.6480403914312,
          337.99576806914735,
          338.9886868554864,
          347.92512984067173,
          337.9957477819019,
          338.3929133397765,
          334.6197763028627,
          332.4352930216565,
          344.5491421765748,
          351.1025295374506,
          377.3160825860117,
          371.95422417361624,
          364.2093018566401,
          394.1959970897269,
          387.04684740637805,
          387.24545151224964,
          386.2524978896333,
          380.4934871613979,
          381.2878117272862,
          386.2525071859333,
          368.37964310154956,
          347.5279544199148,
          363.8121203759094,
          362.02484773093397,
          368.379636757296,
          360.43614675434634,
          354.6771151495247,
          350.70536005527464,
          344.74773644712633,
          339.18729833863864,
          333.42824850525426,
          344.5491369275079,
          345.54207806102437,
          349.5138265461284,
          337.2014071355711,
          338.1943654577523,
          340.97458299831095,
          341.57032430479825,
          335.8113061711583,
          324.6904217675511,
          330.2508566116911,
          329.45650721284295,
          322.70452997202045,
          345.5420957611189,
          343.55622543481763,
          338.79012999339153,
          333,
          331.79998779296875,
          345.20001220703125,
          331.20001220703125,
          329.79998779296875,
          327.20001220703125,
          311.79998779296875,
          314.6000061035156,
          312.6000061035156,
          327.6000061035156,
          336,
          338,
          340,
          332.79998779296875,
          336.3999938964844,
          340,
          339.6000061035156,
          346.6000061035156,
          353,
          359,
          359.6000061035156,
          354,
          341.6000061035156,
          340,
          335.6000061035156,
          332.79998779296875,
          340,
          339,
          331,
          331.79998779296875,
          336.3999938964844,
          339.79998779296875,
          332.20001220703125,
          323.20001220703125,
          333.79998779296875,
          332.6000061035156,
          338.6000061035156,
          350,
          354.79998779296875,
          351.79998779296875,
          330.6000061035156,
          336,
          332.79998779296875,
          328.6000061035156,
          337,
          344.79998779296875,
          346,
          343.79998779296875,
          360,
          356,
          351.6000061035156,
          342,
          348.6000061035156,
          340.20001220703125,
          334.3999938964844,
          333,
          337.20001220703125,
          338.79998779296875,
          328,
          331.20001220703125,
          329.79998779296875,
          320.6000061035156,
          329.3999938964844,
          321,
          318.20001220703125,
          320,
          321,
          322.6000061035156,
          330.6000061035156,
          325.3999938964844,
          333.79998779296875,
          331,
          330,
          332,
          329,
          326.6000061035156,
          315.3999938964844,
          328,
          326,
          322.3999938964844,
          320,
          317.20001220703125,
          312.79998779296875,
          312.6000061035156,
          306.79998779296875,
          302,
          306.6000061035156,
          301,
          298,
          301.79998779296875,
          297.6000061035156,
          302,
          299.79998779296875,
          299.79998779296875,
          303.79998779296875,
          305.3999938964844,
          308,
          314,
          316.6000061035156,
          312.79998779296875,
          308.79998779296875,
          304.6000061035156,
          300.20001220703125,
          295.3999938964844,
          287.3999938964844,
          287,
          292.3999938964844,
          286.79998779296875,
          287.6000061035156,
          291.6000061035156,
          295.3999938964844,
          288.79998779296875,
          290,
          292.20001220703125,
          309.79998779296875,
          312.6000061035156,
          309.3999938964844,
          305,
          304.6000061035156,
          302.20001220703125,
          311.79998779296875,
          316.6000061035156,
          330,
          323.6000061035156,
          316.20001220703125,
          330.3999938964844,
          328,
          326.6000061035156,
          329.6000061035156,
          325,
          324.3999938964844,
          323,
          317.3999938964844,
          324.79998779296875,
          323,
          321,
          306.6000061035156,
          309,
          307.3999938964844,
          300.79998779296875,
          307,
          309.6000061035156,
          310,
          311,
          309.6000061035156,
          311,
          316.20001220703125,
          309.20001220703125,
          317,
          282.20001220703125,
          285,
          295,
          300,
          294,
          304.3999938964844,
          295.3999938964844,
          294.3999938964844,
          286,
          282,
          280.6000061035156,
          285.6000061035156,
          287.6000061035156,
          283.79998779296875,
          277,
          274.6000061035156,
          275,
          270.6000061035156,
          266.79998779296875,
          279.6000061035156,
          285,
          288.20001220703125,
          286,
          277.20001220703125,
          273.79998779296875,
          270,
          284.6000061035156,
          278.3999938964844,
          279.79998779296875,
          295,
          290,
          286.6000061035156,
          287,
          288.6000061035156,
          285.6000061035156,
          291.3999938964844,
          287,
          280.79998779296875,
          288.20001220703125,
          290
         ],
         "type": "candlestick",
         "x": [
          "2023-02-23T00:00:00+08:00",
          "2023-02-24T00:00:00+08:00",
          "2023-02-27T00:00:00+08:00",
          "2023-02-28T00:00:00+08:00",
          "2023-03-01T00:00:00+08:00",
          "2023-03-02T00:00:00+08:00",
          "2023-03-03T00:00:00+08:00",
          "2023-03-06T00:00:00+08:00",
          "2023-03-07T00:00:00+08:00",
          "2023-03-08T00:00:00+08:00",
          "2023-03-09T00:00:00+08:00",
          "2023-03-10T00:00:00+08:00",
          "2023-03-13T00:00:00+08:00",
          "2023-03-14T00:00:00+08:00",
          "2023-03-15T00:00:00+08:00",
          "2023-03-16T00:00:00+08:00",
          "2023-03-17T00:00:00+08:00",
          "2023-03-20T00:00:00+08:00",
          "2023-03-21T00:00:00+08:00",
          "2023-03-22T00:00:00+08:00",
          "2023-03-23T00:00:00+08:00",
          "2023-03-24T00:00:00+08:00",
          "2023-03-27T00:00:00+08:00",
          "2023-03-28T00:00:00+08:00",
          "2023-03-29T00:00:00+08:00",
          "2023-03-30T00:00:00+08:00",
          "2023-03-31T00:00:00+08:00",
          "2023-04-03T00:00:00+08:00",
          "2023-04-04T00:00:00+08:00",
          "2023-04-06T00:00:00+08:00",
          "2023-04-11T00:00:00+08:00",
          "2023-04-12T00:00:00+08:00",
          "2023-04-13T00:00:00+08:00",
          "2023-04-14T00:00:00+08:00",
          "2023-04-17T00:00:00+08:00",
          "2023-04-18T00:00:00+08:00",
          "2023-04-19T00:00:00+08:00",
          "2023-04-20T00:00:00+08:00",
          "2023-04-21T00:00:00+08:00",
          "2023-04-24T00:00:00+08:00",
          "2023-04-25T00:00:00+08:00",
          "2023-04-26T00:00:00+08:00",
          "2023-04-27T00:00:00+08:00",
          "2023-04-28T00:00:00+08:00",
          "2023-05-02T00:00:00+08:00",
          "2023-05-03T00:00:00+08:00",
          "2023-05-04T00:00:00+08:00",
          "2023-05-05T00:00:00+08:00",
          "2023-05-08T00:00:00+08:00",
          "2023-05-09T00:00:00+08:00",
          "2023-05-10T00:00:00+08:00",
          "2023-05-11T00:00:00+08:00",
          "2023-05-12T00:00:00+08:00",
          "2023-05-15T00:00:00+08:00",
          "2023-05-16T00:00:00+08:00",
          "2023-05-17T00:00:00+08:00",
          "2023-05-18T00:00:00+08:00",
          "2023-05-19T00:00:00+08:00",
          "2023-05-22T00:00:00+08:00",
          "2023-05-23T00:00:00+08:00",
          "2023-05-24T00:00:00+08:00",
          "2023-05-25T00:00:00+08:00",
          "2023-05-29T00:00:00+08:00",
          "2023-05-30T00:00:00+08:00",
          "2023-05-31T00:00:00+08:00",
          "2023-06-01T00:00:00+08:00",
          "2023-06-02T00:00:00+08:00",
          "2023-06-05T00:00:00+08:00",
          "2023-06-06T00:00:00+08:00",
          "2023-06-07T00:00:00+08:00",
          "2023-06-08T00:00:00+08:00",
          "2023-06-09T00:00:00+08:00",
          "2023-06-12T00:00:00+08:00",
          "2023-06-13T00:00:00+08:00",
          "2023-06-14T00:00:00+08:00",
          "2023-06-15T00:00:00+08:00",
          "2023-06-16T00:00:00+08:00",
          "2023-06-19T00:00:00+08:00",
          "2023-06-20T00:00:00+08:00",
          "2023-06-21T00:00:00+08:00",
          "2023-06-23T00:00:00+08:00",
          "2023-06-26T00:00:00+08:00",
          "2023-06-27T00:00:00+08:00",
          "2023-06-28T00:00:00+08:00",
          "2023-06-29T00:00:00+08:00",
          "2023-06-30T00:00:00+08:00",
          "2023-07-03T00:00:00+08:00",
          "2023-07-04T00:00:00+08:00",
          "2023-07-05T00:00:00+08:00",
          "2023-07-06T00:00:00+08:00",
          "2023-07-07T00:00:00+08:00",
          "2023-07-10T00:00:00+08:00",
          "2023-07-11T00:00:00+08:00",
          "2023-07-12T00:00:00+08:00",
          "2023-07-13T00:00:00+08:00",
          "2023-07-14T00:00:00+08:00",
          "2023-07-18T00:00:00+08:00",
          "2023-07-19T00:00:00+08:00",
          "2023-07-20T00:00:00+08:00",
          "2023-07-21T00:00:00+08:00",
          "2023-07-24T00:00:00+08:00",
          "2023-07-25T00:00:00+08:00",
          "2023-07-26T00:00:00+08:00",
          "2023-07-27T00:00:00+08:00",
          "2023-07-28T00:00:00+08:00",
          "2023-07-31T00:00:00+08:00",
          "2023-08-01T00:00:00+08:00",
          "2023-08-02T00:00:00+08:00",
          "2023-08-03T00:00:00+08:00",
          "2023-08-04T00:00:00+08:00",
          "2023-08-07T00:00:00+08:00",
          "2023-08-08T00:00:00+08:00",
          "2023-08-09T00:00:00+08:00",
          "2023-08-10T00:00:00+08:00",
          "2023-08-11T00:00:00+08:00",
          "2023-08-14T00:00:00+08:00",
          "2023-08-15T00:00:00+08:00",
          "2023-08-16T00:00:00+08:00",
          "2023-08-17T00:00:00+08:00",
          "2023-08-18T00:00:00+08:00",
          "2023-08-21T00:00:00+08:00",
          "2023-08-22T00:00:00+08:00",
          "2023-08-23T00:00:00+08:00",
          "2023-08-24T00:00:00+08:00",
          "2023-08-25T00:00:00+08:00",
          "2023-08-28T00:00:00+08:00",
          "2023-08-29T00:00:00+08:00",
          "2023-08-30T00:00:00+08:00",
          "2023-08-31T00:00:00+08:00",
          "2023-09-04T00:00:00+08:00",
          "2023-09-05T00:00:00+08:00",
          "2023-09-06T00:00:00+08:00",
          "2023-09-07T00:00:00+08:00",
          "2023-09-11T00:00:00+08:00",
          "2023-09-12T00:00:00+08:00",
          "2023-09-13T00:00:00+08:00",
          "2023-09-14T00:00:00+08:00",
          "2023-09-15T00:00:00+08:00",
          "2023-09-18T00:00:00+08:00",
          "2023-09-19T00:00:00+08:00",
          "2023-09-20T00:00:00+08:00",
          "2023-09-21T00:00:00+08:00",
          "2023-09-22T00:00:00+08:00",
          "2023-09-25T00:00:00+08:00",
          "2023-09-26T00:00:00+08:00",
          "2023-09-27T00:00:00+08:00",
          "2023-09-28T00:00:00+08:00",
          "2023-09-29T00:00:00+08:00",
          "2023-10-03T00:00:00+08:00",
          "2023-10-04T00:00:00+08:00",
          "2023-10-05T00:00:00+08:00",
          "2023-10-06T00:00:00+08:00",
          "2023-10-09T00:00:00+08:00",
          "2023-10-10T00:00:00+08:00",
          "2023-10-11T00:00:00+08:00",
          "2023-10-12T00:00:00+08:00",
          "2023-10-13T00:00:00+08:00",
          "2023-10-16T00:00:00+08:00",
          "2023-10-17T00:00:00+08:00",
          "2023-10-18T00:00:00+08:00",
          "2023-10-19T00:00:00+08:00",
          "2023-10-20T00:00:00+08:00",
          "2023-10-24T00:00:00+08:00",
          "2023-10-25T00:00:00+08:00",
          "2023-10-26T00:00:00+08:00",
          "2023-10-27T00:00:00+08:00",
          "2023-10-30T00:00:00+08:00",
          "2023-10-31T00:00:00+08:00",
          "2023-11-01T00:00:00+08:00",
          "2023-11-02T00:00:00+08:00",
          "2023-11-03T00:00:00+08:00",
          "2023-11-06T00:00:00+08:00",
          "2023-11-07T00:00:00+08:00",
          "2023-11-08T00:00:00+08:00",
          "2023-11-09T00:00:00+08:00",
          "2023-11-10T00:00:00+08:00",
          "2023-11-13T00:00:00+08:00",
          "2023-11-14T00:00:00+08:00",
          "2023-11-15T00:00:00+08:00",
          "2023-11-16T00:00:00+08:00",
          "2023-11-17T00:00:00+08:00",
          "2023-11-20T00:00:00+08:00",
          "2023-11-21T00:00:00+08:00",
          "2023-11-22T00:00:00+08:00",
          "2023-11-23T00:00:00+08:00",
          "2023-11-24T00:00:00+08:00",
          "2023-11-27T00:00:00+08:00",
          "2023-11-28T00:00:00+08:00",
          "2023-11-29T00:00:00+08:00",
          "2023-11-30T00:00:00+08:00",
          "2023-12-01T00:00:00+08:00",
          "2023-12-04T00:00:00+08:00",
          "2023-12-05T00:00:00+08:00",
          "2023-12-06T00:00:00+08:00",
          "2023-12-07T00:00:00+08:00",
          "2023-12-08T00:00:00+08:00",
          "2023-12-11T00:00:00+08:00",
          "2023-12-12T00:00:00+08:00",
          "2023-12-13T00:00:00+08:00",
          "2023-12-14T00:00:00+08:00",
          "2023-12-15T00:00:00+08:00",
          "2023-12-18T00:00:00+08:00",
          "2023-12-19T00:00:00+08:00",
          "2023-12-20T00:00:00+08:00",
          "2023-12-21T00:00:00+08:00",
          "2023-12-22T00:00:00+08:00",
          "2023-12-27T00:00:00+08:00",
          "2023-12-28T00:00:00+08:00",
          "2023-12-29T00:00:00+08:00",
          "2024-01-02T00:00:00+08:00",
          "2024-01-03T00:00:00+08:00",
          "2024-01-04T00:00:00+08:00",
          "2024-01-05T00:00:00+08:00",
          "2024-01-08T00:00:00+08:00",
          "2024-01-09T00:00:00+08:00",
          "2024-01-10T00:00:00+08:00",
          "2024-01-11T00:00:00+08:00",
          "2024-01-12T00:00:00+08:00",
          "2024-01-15T00:00:00+08:00",
          "2024-01-16T00:00:00+08:00",
          "2024-01-17T00:00:00+08:00",
          "2024-01-18T00:00:00+08:00",
          "2024-01-19T00:00:00+08:00",
          "2024-01-22T00:00:00+08:00",
          "2024-01-23T00:00:00+08:00",
          "2024-01-24T00:00:00+08:00",
          "2024-01-25T00:00:00+08:00",
          "2024-01-26T00:00:00+08:00",
          "2024-01-29T00:00:00+08:00",
          "2024-01-30T00:00:00+08:00",
          "2024-01-31T00:00:00+08:00",
          "2024-02-01T00:00:00+08:00",
          "2024-02-02T00:00:00+08:00",
          "2024-02-05T00:00:00+08:00",
          "2024-02-06T00:00:00+08:00",
          "2024-02-07T00:00:00+08:00",
          "2024-02-08T00:00:00+08:00",
          "2024-02-09T00:00:00+08:00",
          "2024-02-14T00:00:00+08:00",
          "2024-02-15T00:00:00+08:00",
          "2024-02-16T00:00:00+08:00",
          "2024-02-19T00:00:00+08:00",
          "2024-02-20T00:00:00+08:00",
          "2024-02-21T00:00:00+08:00",
          "2024-02-22T00:00:00+08:00",
          "2024-02-23T00:00:00+08:00"
         ]
        }
       ],
       "layout": {
        "template": {
         "data": {
          "bar": [
           {
            "error_x": {
             "color": "#2a3f5f"
            },
            "error_y": {
             "color": "#2a3f5f"
            },
            "marker": {
             "line": {
              "color": "#E5ECF6",
              "width": 0.5
             },
             "pattern": {
              "fillmode": "overlay",
              "size": 10,
              "solidity": 0.2
             }
            },
            "type": "bar"
           }
          ],
          "barpolar": [
           {
            "marker": {
             "line": {
              "color": "#E5ECF6",
              "width": 0.5
             },
             "pattern": {
              "fillmode": "overlay",
              "size": 10,
              "solidity": 0.2
             }
            },
            "type": "barpolar"
           }
          ],
          "carpet": [
           {
            "aaxis": {
             "endlinecolor": "#2a3f5f",
             "gridcolor": "white",
             "linecolor": "white",
             "minorgridcolor": "white",
             "startlinecolor": "#2a3f5f"
            },
            "baxis": {
             "endlinecolor": "#2a3f5f",
             "gridcolor": "white",
             "linecolor": "white",
             "minorgridcolor": "white",
             "startlinecolor": "#2a3f5f"
            },
            "type": "carpet"
           }
          ],
          "choropleth": [
           {
            "colorbar": {
             "outlinewidth": 0,
             "ticks": ""
            },
            "type": "choropleth"
           }
          ],
          "contour": [
           {
            "colorbar": {
             "outlinewidth": 0,
             "ticks": ""
            },
            "colorscale": [
             [
              0,
              "#0d0887"
             ],
             [
              0.1111111111111111,
              "#46039f"
             ],
             [
              0.2222222222222222,
              "#7201a8"
             ],
             [
              0.3333333333333333,
              "#9c179e"
             ],
             [
              0.4444444444444444,
              "#bd3786"
             ],
             [
              0.5555555555555556,
              "#d8576b"
             ],
             [
              0.6666666666666666,
              "#ed7953"
             ],
             [
              0.7777777777777778,
              "#fb9f3a"
             ],
             [
              0.8888888888888888,
              "#fdca26"
             ],
             [
              1,
              "#f0f921"
             ]
            ],
            "type": "contour"
           }
          ],
          "contourcarpet": [
           {
            "colorbar": {
             "outlinewidth": 0,
             "ticks": ""
            },
            "type": "contourcarpet"
           }
          ],
          "heatmap": [
           {
            "colorbar": {
             "outlinewidth": 0,
             "ticks": ""
            },
            "colorscale": [
             [
              0,
              "#0d0887"
             ],
             [
              0.1111111111111111,
              "#46039f"
             ],
             [
              0.2222222222222222,
              "#7201a8"
             ],
             [
              0.3333333333333333,
              "#9c179e"
             ],
             [
              0.4444444444444444,
              "#bd3786"
             ],
             [
              0.5555555555555556,
              "#d8576b"
             ],
             [
              0.6666666666666666,
              "#ed7953"
             ],
             [
              0.7777777777777778,
              "#fb9f3a"
             ],
             [
              0.8888888888888888,
              "#fdca26"
             ],
             [
              1,
              "#f0f921"
             ]
            ],
            "type": "heatmap"
           }
          ],
          "heatmapgl": [
           {
            "colorbar": {
             "outlinewidth": 0,
             "ticks": ""
            },
            "colorscale": [
             [
              0,
              "#0d0887"
             ],
             [
              0.1111111111111111,
              "#46039f"
             ],
             [
              0.2222222222222222,
              "#7201a8"
             ],
             [
              0.3333333333333333,
              "#9c179e"
             ],
             [
              0.4444444444444444,
              "#bd3786"
             ],
             [
              0.5555555555555556,
              "#d8576b"
             ],
             [
              0.6666666666666666,
              "#ed7953"
             ],
             [
              0.7777777777777778,
              "#fb9f3a"
             ],
             [
              0.8888888888888888,
              "#fdca26"
             ],
             [
              1,
              "#f0f921"
             ]
            ],
            "type": "heatmapgl"
           }
          ],
          "histogram": [
           {
            "marker": {
             "pattern": {
              "fillmode": "overlay",
              "size": 10,
              "solidity": 0.2
             }
            },
            "type": "histogram"
           }
          ],
          "histogram2d": [
           {
            "colorbar": {
             "outlinewidth": 0,
             "ticks": ""
            },
            "colorscale": [
             [
              0,
              "#0d0887"
             ],
             [
              0.1111111111111111,
              "#46039f"
             ],
             [
              0.2222222222222222,
              "#7201a8"
             ],
             [
              0.3333333333333333,
              "#9c179e"
             ],
             [
              0.4444444444444444,
              "#bd3786"
             ],
             [
              0.5555555555555556,
              "#d8576b"
             ],
             [
              0.6666666666666666,
              "#ed7953"
             ],
             [
              0.7777777777777778,
              "#fb9f3a"
             ],
             [
              0.8888888888888888,
              "#fdca26"
             ],
             [
              1,
              "#f0f921"
             ]
            ],
            "type": "histogram2d"
           }
          ],
          "histogram2dcontour": [
           {
            "colorbar": {
             "outlinewidth": 0,
             "ticks": ""
            },
            "colorscale": [
             [
              0,
              "#0d0887"
             ],
             [
              0.1111111111111111,
              "#46039f"
             ],
             [
              0.2222222222222222,
              "#7201a8"
             ],
             [
              0.3333333333333333,
              "#9c179e"
             ],
             [
              0.4444444444444444,
              "#bd3786"
             ],
             [
              0.5555555555555556,
              "#d8576b"
             ],
             [
              0.6666666666666666,
              "#ed7953"
             ],
             [
              0.7777777777777778,
              "#fb9f3a"
             ],
             [
              0.8888888888888888,
              "#fdca26"
             ],
             [
              1,
              "#f0f921"
             ]
            ],
            "type": "histogram2dcontour"
           }
          ],
          "mesh3d": [
           {
            "colorbar": {
             "outlinewidth": 0,
             "ticks": ""
            },
            "type": "mesh3d"
           }
          ],
          "parcoords": [
           {
            "line": {
             "colorbar": {
              "outlinewidth": 0,
              "ticks": ""
             }
            },
            "type": "parcoords"
           }
          ],
          "pie": [
           {
            "automargin": true,
            "type": "pie"
           }
          ],
          "scatter": [
           {
            "fillpattern": {
             "fillmode": "overlay",
             "size": 10,
             "solidity": 0.2
            },
            "type": "scatter"
           }
          ],
          "scatter3d": [
           {
            "line": {
             "colorbar": {
              "outlinewidth": 0,
              "ticks": ""
             }
            },
            "marker": {
             "colorbar": {
              "outlinewidth": 0,
              "ticks": ""
             }
            },
            "type": "scatter3d"
           }
          ],
          "scattercarpet": [
           {
            "marker": {
             "colorbar": {
              "outlinewidth": 0,
              "ticks": ""
             }
            },
            "type": "scattercarpet"
           }
          ],
          "scattergeo": [
           {
            "marker": {
             "colorbar": {
              "outlinewidth": 0,
              "ticks": ""
             }
            },
            "type": "scattergeo"
           }
          ],
          "scattergl": [
           {
            "marker": {
             "colorbar": {
              "outlinewidth": 0,
              "ticks": ""
             }
            },
            "type": "scattergl"
           }
          ],
          "scattermapbox": [
           {
            "marker": {
             "colorbar": {
              "outlinewidth": 0,
              "ticks": ""
             }
            },
            "type": "scattermapbox"
           }
          ],
          "scatterpolar": [
           {
            "marker": {
             "colorbar": {
              "outlinewidth": 0,
              "ticks": ""
             }
            },
            "type": "scatterpolar"
           }
          ],
          "scatterpolargl": [
           {
            "marker": {
             "colorbar": {
              "outlinewidth": 0,
              "ticks": ""
             }
            },
            "type": "scatterpolargl"
           }
          ],
          "scatterternary": [
           {
            "marker": {
             "colorbar": {
              "outlinewidth": 0,
              "ticks": ""
             }
            },
            "type": "scatterternary"
           }
          ],
          "surface": [
           {
            "colorbar": {
             "outlinewidth": 0,
             "ticks": ""
            },
            "colorscale": [
             [
              0,
              "#0d0887"
             ],
             [
              0.1111111111111111,
              "#46039f"
             ],
             [
              0.2222222222222222,
              "#7201a8"
             ],
             [
              0.3333333333333333,
              "#9c179e"
             ],
             [
              0.4444444444444444,
              "#bd3786"
             ],
             [
              0.5555555555555556,
              "#d8576b"
             ],
             [
              0.6666666666666666,
              "#ed7953"
             ],
             [
              0.7777777777777778,
              "#fb9f3a"
             ],
             [
              0.8888888888888888,
              "#fdca26"
             ],
             [
              1,
              "#f0f921"
             ]
            ],
            "type": "surface"
           }
          ],
          "table": [
           {
            "cells": {
             "fill": {
              "color": "#EBF0F8"
             },
             "line": {
              "color": "white"
             }
            },
            "header": {
             "fill": {
              "color": "#C8D4E3"
             },
             "line": {
              "color": "white"
             }
            },
            "type": "table"
           }
          ]
         },
         "layout": {
          "annotationdefaults": {
           "arrowcolor": "#2a3f5f",
           "arrowhead": 0,
           "arrowwidth": 1
          },
          "autotypenumbers": "strict",
          "coloraxis": {
           "colorbar": {
            "outlinewidth": 0,
            "ticks": ""
           }
          },
          "colorscale": {
           "diverging": [
            [
             0,
             "#8e0152"
            ],
            [
             0.1,
             "#c51b7d"
            ],
            [
             0.2,
             "#de77ae"
            ],
            [
             0.3,
             "#f1b6da"
            ],
            [
             0.4,
             "#fde0ef"
            ],
            [
             0.5,
             "#f7f7f7"
            ],
            [
             0.6,
             "#e6f5d0"
            ],
            [
             0.7,
             "#b8e186"
            ],
            [
             0.8,
             "#7fbc41"
            ],
            [
             0.9,
             "#4d9221"
            ],
            [
             1,
             "#276419"
            ]
           ],
           "sequential": [
            [
             0,
             "#0d0887"
            ],
            [
             0.1111111111111111,
             "#46039f"
            ],
            [
             0.2222222222222222,
             "#7201a8"
            ],
            [
             0.3333333333333333,
             "#9c179e"
            ],
            [
             0.4444444444444444,
             "#bd3786"
            ],
            [
             0.5555555555555556,
             "#d8576b"
            ],
            [
             0.6666666666666666,
             "#ed7953"
            ],
            [
             0.7777777777777778,
             "#fb9f3a"
            ],
            [
             0.8888888888888888,
             "#fdca26"
            ],
            [
             1,
             "#f0f921"
            ]
           ],
           "sequentialminus": [
            [
             0,
             "#0d0887"
            ],
            [
             0.1111111111111111,
             "#46039f"
            ],
            [
             0.2222222222222222,
             "#7201a8"
            ],
            [
             0.3333333333333333,
             "#9c179e"
            ],
            [
             0.4444444444444444,
             "#bd3786"
            ],
            [
             0.5555555555555556,
             "#d8576b"
            ],
            [
             0.6666666666666666,
             "#ed7953"
            ],
            [
             0.7777777777777778,
             "#fb9f3a"
            ],
            [
             0.8888888888888888,
             "#fdca26"
            ],
            [
             1,
             "#f0f921"
            ]
           ]
          },
          "colorway": [
           "#636efa",
           "#EF553B",
           "#00cc96",
           "#ab63fa",
           "#FFA15A",
           "#19d3f3",
           "#FF6692",
           "#B6E880",
           "#FF97FF",
           "#FECB52"
          ],
          "font": {
           "color": "#2a3f5f"
          },
          "geo": {
           "bgcolor": "white",
           "lakecolor": "white",
           "landcolor": "#E5ECF6",
           "showlakes": true,
           "showland": true,
           "subunitcolor": "white"
          },
          "hoverlabel": {
           "align": "left"
          },
          "hovermode": "closest",
          "mapbox": {
           "style": "light"
          },
          "paper_bgcolor": "white",
          "plot_bgcolor": "#E5ECF6",
          "polar": {
           "angularaxis": {
            "gridcolor": "white",
            "linecolor": "white",
            "ticks": ""
           },
           "bgcolor": "#E5ECF6",
           "radialaxis": {
            "gridcolor": "white",
            "linecolor": "white",
            "ticks": ""
           }
          },
          "scene": {
           "xaxis": {
            "backgroundcolor": "#E5ECF6",
            "gridcolor": "white",
            "gridwidth": 2,
            "linecolor": "white",
            "showbackground": true,
            "ticks": "",
            "zerolinecolor": "white"
           },
           "yaxis": {
            "backgroundcolor": "#E5ECF6",
            "gridcolor": "white",
            "gridwidth": 2,
            "linecolor": "white",
            "showbackground": true,
            "ticks": "",
            "zerolinecolor": "white"
           },
           "zaxis": {
            "backgroundcolor": "#E5ECF6",
            "gridcolor": "white",
            "gridwidth": 2,
            "linecolor": "white",
            "showbackground": true,
            "ticks": "",
            "zerolinecolor": "white"
           }
          },
          "shapedefaults": {
           "line": {
            "color": "#2a3f5f"
           }
          },
          "ternary": {
           "aaxis": {
            "gridcolor": "white",
            "linecolor": "white",
            "ticks": ""
           },
           "baxis": {
            "gridcolor": "white",
            "linecolor": "white",
            "ticks": ""
           },
           "bgcolor": "#E5ECF6",
           "caxis": {
            "gridcolor": "white",
            "linecolor": "white",
            "ticks": ""
           }
          },
          "title": {
           "x": 0.05
          },
          "xaxis": {
           "automargin": true,
           "gridcolor": "white",
           "linecolor": "white",
           "ticks": "",
           "title": {
            "standoff": 15
           },
           "zerolinecolor": "white",
           "zerolinewidth": 2
          },
          "yaxis": {
           "automargin": true,
           "gridcolor": "white",
           "linecolor": "white",
           "ticks": "",
           "title": {
            "standoff": 15
           },
           "zerolinecolor": "white",
           "zerolinewidth": 2
          }
         }
        },
        "title": {
         "text": "Tencent Holdings Limited Candlestick Chart"
        },
        "xaxis": {
         "rangeslider": {
          "visible": false
         }
        }
       }
      }
     },
     "metadata": {},
     "output_type": "display_data"
    }
   ],
   "source": [
    "candlestick_chart = go.Figure(data=[go.Candlestick(x=df.index, open=df['Open'], high=df['High'], low=df['Low'], close=df['Close'])])\n",
    "candlestick_chart.update_layout(title=f\"{tencent.info['longName']} Candlestick Chart\", xaxis_rangeslider_visible=False)\n"
   ]
  },
  {
   "cell_type": "code",
   "execution_count": null,
   "metadata": {},
   "outputs": [],
   "source": []
  }
 ],
 "metadata": {
  "kernelspec": {
   "display_name": "py311",
   "language": "python",
   "name": "python3"
  },
  "language_info": {
   "codemirror_mode": {
    "name": "ipython",
    "version": 3
   },
   "file_extension": ".py",
   "mimetype": "text/x-python",
   "name": "python",
   "nbconvert_exporter": "python",
   "pygments_lexer": "ipython3",
   "version": "3.11.5"
  }
 },
 "nbformat": 4,
 "nbformat_minor": 2
}
