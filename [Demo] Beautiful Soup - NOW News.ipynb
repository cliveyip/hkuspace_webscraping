{
 "cells": [
  {
   "cell_type": "code",
   "execution_count": 1,
   "metadata": {},
   "outputs": [],
   "source": [
    "import requests\n",
    "from bs4 import BeautifulSoup"
   ]
  },
  {
   "cell_type": "code",
   "execution_count": null,
   "metadata": {},
   "outputs": [],
   "source": []
  },
  {
   "cell_type": "markdown",
   "metadata": {},
   "source": [
    "Scrape news titles"
   ]
  },
  {
   "cell_type": "code",
   "execution_count": 2,
   "metadata": {},
   "outputs": [],
   "source": [
    "url = requests.get('https://news.now.com/home/local')\n",
    "soup = BeautifulSoup(url.content, 'html.parser')"
   ]
  },
  {
   "cell_type": "code",
   "execution_count": 3,
   "metadata": {},
   "outputs": [],
   "source": [
    "news_titles = soup.select('div.newsTitle')"
   ]
  },
  {
   "cell_type": "code",
   "execution_count": 4,
   "metadata": {},
   "outputs": [
    {
     "data": {
      "text/plain": [
       "'院舍試行「團進團出遊車河」\\u3000冀旅行社協助院舍組團'"
      ]
     },
     "execution_count": 4,
     "metadata": {},
     "output_type": "execute_result"
    }
   ],
   "source": [
    "news_titles[1].text"
   ]
  },
  {
   "cell_type": "code",
   "execution_count": 5,
   "metadata": {},
   "outputs": [
    {
     "name": "stdout",
     "output_type": "stream",
     "text": [
      "林健鋒：政府應加強宣傳入境免隔離措施\n",
      "院舍試行「團進團出遊車河」　冀旅行社協助院舍組團\n",
      "【11月12日疫情速報】(10:30)\n",
      "翁以登：大部分美國商會會員都希望留港發展\n",
      "團進團出月內實施　旅遊業界：走前一步比原地踏步好\n",
      "【天氣報告】(11月12日)\n",
      "歐陽若曦下周將出戰澳門格蘭披治大賽力求衛冕GT盃\n",
      "演出業協會：調查報告建議對業界構成壓力　籲取得業界共識後始落實執行\n",
      "本港第三季經濟萎縮4.5%　全年預測修訂至負3.2%\n",
      "【11月11日疫情速報】(22:40)\n",
      "MIRROR演唱會意外調查報告完成　舞蹈公司無買勞保及無報工傷\n",
      "MIRROR演唱會意外警拘五人　總承辦商涉虛報重量誤導康文署\n",
      "MakerVille及大國文化：仔細研究警方公布細節　保留追究相關單位權利\n",
      "【杏林在線】盡力呼吸\n",
      "議員認為防疫措施複雜　盧寵茂指放寬防疫要穩打穩紮\n",
      "院舍探訪放寬至多於一人　可「團進團出」外出活動\n",
      "舞台界促政府訂更清晰監管指引\n",
      "MIRROR演唱會意外調查報告完成　舞蹈公司無買勞保及無報工傷\n",
      "新增5599宗新冠病毒確診　多10名患者離世\n",
      "內地縮短入境隔離期　有議員預料將逐步放寬入境政策\n"
     ]
    }
   ],
   "source": [
    "for news_title in news_titles:\n",
    "    print(news_title.text)"
   ]
  },
  {
   "cell_type": "markdown",
   "metadata": {},
   "source": [
    "Scrape news titles, time and short description"
   ]
  },
  {
   "cell_type": "code",
   "execution_count": 6,
   "metadata": {},
   "outputs": [],
   "source": [
    "divs = soup.select('div.newsDecs')"
   ]
  },
  {
   "cell_type": "code",
   "execution_count": 7,
   "metadata": {},
   "outputs": [
    {
     "data": {
      "text/plain": [
       "[<div class=\"newsDecs\">\n",
       " <div class=\"newsTitle\">林健鋒：政府應加強宣傳入境免隔離措施</div>\n",
       " <div class=\"newsTime\">48分鐘前</div>\n",
       " <div class=\"newsLeading\"><p>【Now新聞台】行政會議成員林健鋒指政府應加強宣傳香港入境免隔離的措施，吸引旅客來港。 </p></div>\n",
       " </div>,\n",
       " <div class=\"newsDecs\">\n",
       " <div class=\"newsTitle\">院舍試行「團進團出遊車河」　冀旅行社協助院舍組團</div>\n",
       " <div class=\"newsTime\">1小時前</div>\n",
       " <div class=\"newsLeading\"><p>【Now新聞台】下周一起，院舍住客可以「團進團出」集體外出活動，有院舍在新措施前，已試行帶長者「遊車河」。 </p></div>\n",
       " </div>,\n",
       " <div class=\"newsDecs\">\n",
       " <div class=\"newsTitle\">【11月12日疫情速報】(10:30)</div>\n",
       " <div class=\"newsTime\">29分鐘前</div>\n",
       " <div class=\"newsLeading\"><p>【Now新聞台】11月12日新型冠狀病毒疫情速報：</p></div>\n",
       " </div>,\n",
       " <div class=\"newsDecs\">\n",
       " <div class=\"newsTitle\">翁以登：大部分美國商會會員都希望留港發展</div>\n",
       " <div class=\"newsTime\">1小時前</div>\n",
       " <div class=\"newsLeading\"><p>【Now新聞台】香港美國商會總裁翁以登在本台節目《大鳴大放》指，早前的國際金融投資峰會成功吸引金融機構注意力，不少企業家都認為香港值得發展。 </p></div>\n",
       " </div>,\n",
       " <div class=\"newsDecs\">\n",
       " <div class=\"newsTitle\">團進團出月內實施　旅遊業界：走前一步比原地踏步好</div>\n",
       " <div class=\"newsTime\">1小時前</div>\n",
       " <div class=\"newsLeading\"><p>【Now新聞台】政府近期逐步放寬防疫措施，並推出入境團「團進團出」，旅遊及零售業立法會議員預料新措施不會帶來太大幫助，但認為是一個好的開始。 </p></div>\n",
       " </div>,\n",
       " <div class=\"newsDecs\">\n",
       " <div class=\"newsTitle\">【天氣報告】(11月12日)</div>\n",
       " <div class=\"newsTime\">2小時前</div>\n",
       " <div class=\"newsLeading\"><p>【Now新聞台】天文台科學主任和大家看看天氣預報。</p></div>\n",
       " </div>,\n",
       " <div class=\"newsDecs\">\n",
       " <div class=\"newsTitle\">歐陽若曦下周將出戰澳門格蘭披治大賽力求衛冕GT盃</div>\n",
       " <div class=\"newsTime\">3小時前</div>\n",
       " <div class=\"newsLeading\"><p>【Now新聞台】香港賽車手歐陽若曦下周將會出戰澳門格蘭披治大賽，在GT盃力求衛冕。香港賽車隊Craft-Bamboo Racing將會派出兩部戰車出戰第69屆澳門格蘭披治大賽車。 </p></div>\n",
       " </div>,\n",
       " <div class=\"newsDecs\">\n",
       " <div class=\"newsTitle\">演出業協會：調查報告建議對業界構成壓力　籲取得業界共識後始落實執行</div>\n",
       " <div class=\"newsTime\">11小時前</div>\n",
       " <div class=\"newsLeading\"><p>【Now新聞台】演出業協會發聲明，指調查報告的建議對業界營運構成壓力，令成本大幅增加，影響創意和演出行業發展。 </p></div>\n",
       " </div>,\n",
       " <div class=\"newsDecs\">\n",
       " <div class=\"newsTitle\">本港第三季經濟萎縮4.5%　全年預測修訂至負3.2%</div>\n",
       " <div class=\"newsTime\">11小時前</div>\n",
       " <div class=\"newsLeading\"><p>【Now新聞台】本港第三季經濟萎縮百分之4.5。政府指短期經濟前景欠佳，將全年增長預測向下修訂至負百分之3.2。 </p></div>\n",
       " </div>,\n",
       " <div class=\"newsDecs\">\n",
       " <div class=\"newsTitle\">【11月11日疫情速報】(22:40)</div>\n",
       " <div class=\"newsTime\">12小時前</div>\n",
       " <div class=\"newsLeading\"><p>【Now新聞台】11月11日新型冠狀病毒疫情速報：</p></div>\n",
       " </div>,\n",
       " <div class=\"newsDecs\">\n",
       " <div class=\"newsTitle\">MIRROR演唱會意外調查報告完成　舞蹈公司無買勞保及無報工傷</div>\n",
       " <div class=\"newsTime\">12小時前</div>\n",
       " <div class=\"newsLeading\"><p>【Now新聞台】政府就意外完成調查報告，指有關方面就天花懸掛系統提交的資料不準確，舞蹈公司亦無為受傷舞蹈員買勞工保險及報工傷，正研究採取法律行動。小組提出多項建議，包括要求專業人士核實裝置重量及鋼索品質證明等。 </p></div>\n",
       " </div>,\n",
       " <div class=\"newsDecs\">\n",
       " <div class=\"newsTitle\">MIRROR演唱會意外警拘五人　總承辦商涉虛報重量誤導康文署</div>\n",
       " <div class=\"newsTime\">12小時前</div>\n",
       " <div class=\"newsLeading\"><p>【Now新聞台】今次演唱會意外，兩個承辦商合共五名高級職員被捕，涉嫌欺詐及容許物件從高處墮下。警方指，懷疑有人虛報多個裝置的重量，以加快取得演唱會許可，其中被捕44歲男子獲准保釋候查。 </p></div>\n",
       " </div>,\n",
       " <div class=\"newsDecs\">\n",
       " <div class=\"newsTitle\">MakerVille及大國文化：仔細研究警方公布細節　保留追究相關單位權利</div>\n",
       " <div class=\"newsTime\">13小時前</div>\n",
       " <div class=\"newsLeading\"><p>【Now新聞台】演唱會主辦單位MakerVille及大國文化指，對於警方公布的細節，會仔細研究和諮詢法律意見，並保留追究相關單位的權利，亦會繼續承擔三位受傷舞者的醫療費用。</p></div>\n",
       " </div>,\n",
       " <div class=\"newsDecs\">\n",
       " <div class=\"newsTitle\">【杏林在線】盡力呼吸</div>\n",
       " <div class=\"newsTime\">13小時前</div>\n",
       " <div class=\"newsLeading\"><p>【Now新聞台】「肺動脈高壓」是一種難以察覺的疾病，但致命率非常高，患者多數是女性。患病十年的洪太因呼吸困難進出醫院多次才被診斷出來，這個病令她需要長期倚賴呼吸機。今集《杏林在線》請來心臟科醫生講解肺動脈高壓的病理以及難以斷症的原因。</p></div>\n",
       " </div>,\n",
       " <div class=\"newsDecs\">\n",
       " <div class=\"newsTitle\">議員認為防疫措施複雜　盧寵茂指放寬防疫要穩打穩紮</div>\n",
       " <div class=\"newsTime\">13小時前</div>\n",
       " <div class=\"newsLeading\"><p>【Now新聞台】政府下周四起放寬部分社交距離措施，進入街市等場所前毋須反掃疫苗通行證，有立法會議員認為措施複雜。醫務衞生局指，放寬防疫措施要穩打穩紮。</p></div>\n",
       " </div>,\n",
       " <div class=\"newsDecs\">\n",
       " <div class=\"newsTitle\">院舍探訪放寬至多於一人　可「團進團出」外出活動</div>\n",
       " <div class=\"newsTime\">15小時前</div>\n",
       " <div class=\"newsLeading\"><p>【Now新聞台】社署下周一起放寬院舍探訪至多於一人，院友亦可以「團進團出」集體外出活動。 </p></div>\n",
       " </div>,\n",
       " <div class=\"newsDecs\">\n",
       " <div class=\"newsTitle\">舞台界促政府訂更清晰監管指引</div>\n",
       " <div class=\"newsTime\">15小時前</div>\n",
       " <div class=\"newsLeading\"><p>【Now新聞台】有舞台界人士認為政府加強監管舞台安全同時，要制定更清晰指引。工程師學會就指會參考外國經驗，協助制定舞台機械安全指引。 </p></div>\n",
       " </div>,\n",
       " <div class=\"newsDecs\">\n",
       " <div class=\"newsTitle\">MIRROR演唱會意外調查報告完成　舞蹈公司無買勞保及無報工傷</div>\n",
       " <div class=\"newsTime\">15小時前</div>\n",
       " <div class=\"newsLeading\"><p>【Now新聞台】政府就意外完成調查報告，指有關方面就天花懸掛系統提交的資料不準確，舞蹈公司亦無為受傷舞蹈員買勞工保險及報工傷，正研究採取法律行動。小組提出多項建議，包括要求專業人士核實裝置重量及鋼索品質證明等。 </p></div>\n",
       " </div>,\n",
       " <div class=\"newsDecs\">\n",
       " <div class=\"newsTitle\">新增5599宗新冠病毒確診　多10名患者離世</div>\n",
       " <div class=\"newsTime\">16小時前</div>\n",
       " <div class=\"newsLeading\"><p>【Now新聞台】本港新增5599宗新冠病毒確診，多10名患者離世。 </p></div>\n",
       " </div>,\n",
       " <div class=\"newsDecs\">\n",
       " <div class=\"newsTitle\">內地縮短入境隔離期　有議員預料將逐步放寬入境政策</div>\n",
       " <div class=\"newsTime\">16小時前</div>\n",
       " <div class=\"newsLeading\"><p>【Now新聞台】立法會議員黃國相信，內地縮短入境隔離期會多了港人回內地，預料入境政策會逐步放寬。商界就表示會考慮到內地巡視業務，部署明年的訂單。 </p></div>\n",
       " </div>]"
      ]
     },
     "execution_count": 7,
     "metadata": {},
     "output_type": "execute_result"
    }
   ],
   "source": [
    "divs"
   ]
  },
  {
   "cell_type": "code",
   "execution_count": 8,
   "metadata": {},
   "outputs": [
    {
     "data": {
      "text/plain": [
       "<div class=\"newsDecs\">\n",
       "<div class=\"newsTitle\">林健鋒：政府應加強宣傳入境免隔離措施</div>\n",
       "<div class=\"newsTime\">48分鐘前</div>\n",
       "<div class=\"newsLeading\"><p>【Now新聞台】行政會議成員林健鋒指政府應加強宣傳香港入境免隔離的措施，吸引旅客來港。 </p></div>\n",
       "</div>"
      ]
     },
     "execution_count": 8,
     "metadata": {},
     "output_type": "execute_result"
    }
   ],
   "source": [
    "divs[0]"
   ]
  },
  {
   "cell_type": "code",
   "execution_count": 9,
   "metadata": {
    "scrolled": true
   },
   "outputs": [
    {
     "data": {
      "text/plain": [
       "[<div class=\"newsTitle\">林健鋒：政府應加強宣傳入境免隔離措施</div>]"
      ]
     },
     "execution_count": 9,
     "metadata": {},
     "output_type": "execute_result"
    }
   ],
   "source": [
    "divs[0].select('div.newsTitle')"
   ]
  },
  {
   "cell_type": "code",
   "execution_count": 10,
   "metadata": {},
   "outputs": [
    {
     "data": {
      "text/plain": [
       "'林健鋒：政府應加強宣傳入境免隔離措施'"
      ]
     },
     "execution_count": 10,
     "metadata": {},
     "output_type": "execute_result"
    }
   ],
   "source": [
    "divs[0].select('div.newsTitle')[0].text"
   ]
  },
  {
   "cell_type": "code",
   "execution_count": 11,
   "metadata": {},
   "outputs": [
    {
     "name": "stdout",
     "output_type": "stream",
     "text": [
      "林健鋒：政府應加強宣傳入境免隔離措施\n",
      "48分鐘前\n",
      "【Now新聞台】行政會議成員林健鋒指政府應加強宣傳香港入境免隔離的措施，吸引旅客來港。 \n",
      " \n",
      "院舍試行「團進團出遊車河」　冀旅行社協助院舍組團\n",
      "1小時前\n",
      "【Now新聞台】下周一起，院舍住客可以「團進團出」集體外出活動，有院舍在新措施前，已試行帶長者「遊車河」。 \n",
      " \n",
      "【11月12日疫情速報】(10:30)\n",
      "29分鐘前\n",
      "【Now新聞台】11月12日新型冠狀病毒疫情速報：\n",
      " \n",
      "翁以登：大部分美國商會會員都希望留港發展\n",
      "1小時前\n",
      "【Now新聞台】香港美國商會總裁翁以登在本台節目《大鳴大放》指，早前的國際金融投資峰會成功吸引金融機構注意力，不少企業家都認為香港值得發展。 \n",
      " \n",
      "團進團出月內實施　旅遊業界：走前一步比原地踏步好\n",
      "1小時前\n",
      "【Now新聞台】政府近期逐步放寬防疫措施，並推出入境團「團進團出」，旅遊及零售業立法會議員預料新措施不會帶來太大幫助，但認為是一個好的開始。 \n",
      " \n",
      "【天氣報告】(11月12日)\n",
      "2小時前\n",
      "【Now新聞台】天文台科學主任和大家看看天氣預報。\n",
      " \n",
      "歐陽若曦下周將出戰澳門格蘭披治大賽力求衛冕GT盃\n",
      "3小時前\n",
      "【Now新聞台】香港賽車手歐陽若曦下周將會出戰澳門格蘭披治大賽，在GT盃力求衛冕。香港賽車隊Craft-Bamboo Racing將會派出兩部戰車出戰第69屆澳門格蘭披治大賽車。 \n",
      " \n",
      "演出業協會：調查報告建議對業界構成壓力　籲取得業界共識後始落實執行\n",
      "11小時前\n",
      "【Now新聞台】演出業協會發聲明，指調查報告的建議對業界營運構成壓力，令成本大幅增加，影響創意和演出行業發展。 \n",
      " \n",
      "本港第三季經濟萎縮4.5%　全年預測修訂至負3.2%\n",
      "11小時前\n",
      "【Now新聞台】本港第三季經濟萎縮百分之4.5。政府指短期經濟前景欠佳，將全年增長預測向下修訂至負百分之3.2。 \n",
      " \n",
      "【11月11日疫情速報】(22:40)\n",
      "12小時前\n",
      "【Now新聞台】11月11日新型冠狀病毒疫情速報：\n",
      " \n",
      "MIRROR演唱會意外調查報告完成　舞蹈公司無買勞保及無報工傷\n",
      "12小時前\n",
      "【Now新聞台】政府就意外完成調查報告，指有關方面就天花懸掛系統提交的資料不準確，舞蹈公司亦無為受傷舞蹈員買勞工保險及報工傷，正研究採取法律行動。小組提出多項建議，包括要求專業人士核實裝置重量及鋼索品質證明等。 \n",
      " \n",
      "MIRROR演唱會意外警拘五人　總承辦商涉虛報重量誤導康文署\n",
      "12小時前\n",
      "【Now新聞台】今次演唱會意外，兩個承辦商合共五名高級職員被捕，涉嫌欺詐及容許物件從高處墮下。警方指，懷疑有人虛報多個裝置的重量，以加快取得演唱會許可，其中被捕44歲男子獲准保釋候查。 \n",
      " \n",
      "MakerVille及大國文化：仔細研究警方公布細節　保留追究相關單位權利\n",
      "13小時前\n",
      "【Now新聞台】演唱會主辦單位MakerVille及大國文化指，對於警方公布的細節，會仔細研究和諮詢法律意見，並保留追究相關單位的權利，亦會繼續承擔三位受傷舞者的醫療費用。\n",
      " \n",
      "【杏林在線】盡力呼吸\n",
      "13小時前\n",
      "【Now新聞台】「肺動脈高壓」是一種難以察覺的疾病，但致命率非常高，患者多數是女性。患病十年的洪太因呼吸困難進出醫院多次才被診斷出來，這個病令她需要長期倚賴呼吸機。今集《杏林在線》請來心臟科醫生講解肺動脈高壓的病理以及難以斷症的原因。\n",
      " \n",
      "議員認為防疫措施複雜　盧寵茂指放寬防疫要穩打穩紮\n",
      "13小時前\n",
      "【Now新聞台】政府下周四起放寬部分社交距離措施，進入街市等場所前毋須反掃疫苗通行證，有立法會議員認為措施複雜。醫務衞生局指，放寬防疫措施要穩打穩紮。\n",
      " \n",
      "院舍探訪放寬至多於一人　可「團進團出」外出活動\n",
      "15小時前\n",
      "【Now新聞台】社署下周一起放寬院舍探訪至多於一人，院友亦可以「團進團出」集體外出活動。 \n",
      " \n",
      "舞台界促政府訂更清晰監管指引\n",
      "15小時前\n",
      "【Now新聞台】有舞台界人士認為政府加強監管舞台安全同時，要制定更清晰指引。工程師學會就指會參考外國經驗，協助制定舞台機械安全指引。 \n",
      " \n",
      "MIRROR演唱會意外調查報告完成　舞蹈公司無買勞保及無報工傷\n",
      "15小時前\n",
      "【Now新聞台】政府就意外完成調查報告，指有關方面就天花懸掛系統提交的資料不準確，舞蹈公司亦無為受傷舞蹈員買勞工保險及報工傷，正研究採取法律行動。小組提出多項建議，包括要求專業人士核實裝置重量及鋼索品質證明等。 \n",
      " \n",
      "新增5599宗新冠病毒確診　多10名患者離世\n",
      "16小時前\n",
      "【Now新聞台】本港新增5599宗新冠病毒確診，多10名患者離世。 \n",
      " \n",
      "內地縮短入境隔離期　有議員預料將逐步放寬入境政策\n",
      "16小時前\n",
      "【Now新聞台】立法會議員黃國相信，內地縮短入境隔離期會多了港人回內地，預料入境政策會逐步放寬。商界就表示會考慮到內地巡視業務，部署明年的訂單。 \n",
      " \n"
     ]
    }
   ],
   "source": [
    "for div in divs:\n",
    "    print(div.select('.newsTitle')[0].text)\n",
    "    print(div.select('.newsTime')[0].text)\n",
    "    print(div.select('.newsLeading')[0].text)\n",
    "    print(' ')"
   ]
  },
  {
   "cell_type": "markdown",
   "metadata": {},
   "source": [
    "Scrape multiple pages"
   ]
  },
  {
   "cell_type": "code",
   "execution_count": 12,
   "metadata": {},
   "outputs": [
    {
     "name": "stdout",
     "output_type": "stream",
     "text": [
      "Page: 1\n",
      "林健鋒：政府應加強宣傳入境免隔離措施\n",
      "院舍試行「團進團出遊車河」　冀旅行社協助院舍組團\n",
      "【11月12日疫情速報】(10:30)\n",
      "翁以登：大部分美國商會會員都希望留港發展\n",
      "團進團出月內實施　旅遊業界：走前一步比原地踏步好\n",
      "【天氣報告】(11月12日)\n",
      "歐陽若曦下周將出戰澳門格蘭披治大賽力求衛冕GT盃\n",
      "演出業協會：調查報告建議對業界構成壓力　籲取得業界共識後始落實執行\n",
      "本港第三季經濟萎縮4.5%　全年預測修訂至負3.2%\n",
      "【11月11日疫情速報】(22:40)\n",
      "MIRROR演唱會意外調查報告完成　舞蹈公司無買勞保及無報工傷\n",
      "MIRROR演唱會意外警拘五人　總承辦商涉虛報重量誤導康文署\n",
      "MakerVille及大國文化：仔細研究警方公布細節　保留追究相關單位權利\n",
      "【杏林在線】盡力呼吸\n",
      "議員認為防疫措施複雜　盧寵茂指放寬防疫要穩打穩紮\n",
      "院舍探訪放寬至多於一人　可「團進團出」外出活動\n",
      "舞台界促政府訂更清晰監管指引\n",
      "MIRROR演唱會意外調查報告完成　舞蹈公司無買勞保及無報工傷\n",
      "新增5599宗新冠病毒確診　多10名患者離世\n",
      "內地縮短入境隔離期　有議員預料將逐步放寬入境政策\n",
      "Page: 2\n",
      "政府向下修訂全年經濟增長預測\n",
      "MIRROR演唱會意外警拘五人　總承辦商涉虛報重量誤導康文署\n",
      "政府就MIRROR演唱會意外完成調查報告　楊潤雄：LED屏幕重量資料明顯不準確\n",
      "【附連結】55個地方納入強制檢測公告 (11月11日)\n",
      "本港樓價持續下跌　五周共跌3.42%\n",
      "多三人報名參選立法會選委會界別補選\n",
      "MIRROR演唱會意外警拘五人　總承辦商涉虛報重量誤導康文署\n",
      "消息：院舍探訪放寬至多於一人　可團體包車外出活動\n",
      "本港新增5599宗新冠病毒確診　多10名患者離世\n",
      "【附名單】多區污水檢測陽性　政府將向相關人士派發快速測試包 (11月11日)\n",
      "港鐵入稟向康泰追討232萬元欠款\n",
      "下年度財政預算案　明年2月22日發表\n",
      "內地縮短入境隔離期至「5+3」　有議員預料將逐步放寬入境政策\n",
      "4人涉轉載煽惑他人投白票帖文　其中1人認罪判囚2個月緩刑18個月\n",
      "MIRROR演唱會事故警方拘五人　有人疑虛報工程文件\n",
      "李廣宇、陳永光報名參加立法會選委會界別補選\n",
      "錦上路站柏瓏I施工出錯　屋宇署到場視察\n",
      "盧寵茂：研究強制醫護服務一定年期　安排適用所有醫護\n",
      "飲品玻璃樽徵費計劃明年5月起實施\n",
      "李廣宇、陳永光報名參加立法會選委會界別補選\n",
      "Page: 3\n",
      "立法會一般會期於下月23日結束\n",
      "【時事全方位】加強防範免墮騙局\n",
      "【時事全方位】放寬檢疫措施\n",
      "【時事全方位】兒童疫苗怎谷針？\n",
      "【時事全方位】加強人才流動(二)\n",
      "【時事全方位】加強人才流動(一)\n",
      "警隊紀念日向殉職警員致敬　警總增設紀念牆\n",
      "發還產假薪酬計劃截至9月底批逾1.1萬宗申請　涉款2.53億元\n",
      "工聯會李廣宇報名參加立法會選委會界別補選\n",
      "4人涉轉載煽惑他人投白票帖文　1人認罪判緩刑 \n",
      "【首都專線】內地動物領養平台「疫市」發展　為逾千流浪狗尋家\n",
      "政府撤銷張震遠勳銜及何秀蘭太平紳士委任\n",
      "MIRROR演唱會意外　警方拘5人　包括兩承辦商職員\n",
      "林定國不評論梁振英批評法官\n",
      "劉家獻：入院確診患者若病徵輕微　可居家隔離\n",
      "朱文佳登上殘疾人羽毛球世界第一創香港歷史\n",
      "大欖隧道重型貨車撞收費亭職員輕傷\n",
      "李家超：香港法治獲國際認可　國安法保障人權\n",
      "勞顧會換屆民主派無人參選　有候選人冀透過參選提出改革\n",
      "MIRROR演唱會意外警方拘5人　包括兩承辦商職員\n",
      "Page: 4\n",
      "【天氣報告】(11月11日)\n",
      "香港仔路陷有私家車被困\n",
      "旺角兩名男子駕乘的士涉販毒被捕\n",
      "MIRROR演唱會意外　警方拘5人涉嫌欺詐\n",
      "【晨早新聞重點】(11月11日)\n",
      "北區醫院有醫生疑不恰當處方藥物　院方已報警處理\n",
      "港鐵錦上路站上蓋物業據報未按圖則施工　屋宇署將到地盤視察\n",
      "【11月10日疫情速報】(22:35)\n",
      "淺水灣一食肆16人疑食物中毒　據悉曾進食生蠔\n",
      "港鐵錦上路站上蓋物業據報未按圖則施工　發展商：已要求全面檢查及跟進\n",
      "部分社交距離措施鬆綁　有街市檔戶與健身業界指無助生意\n",
      "消息：將藍隧道暫定下月11日通車　多條巴士線擬開辦配合\n",
      "馬料水地盤男工高處墮下受傷\n",
      "【政情網上行】立會辯論「學習二十大精神」　何君堯談去殖化和去植髮\n",
      "健身中心迫簽合約　8人分別判囚4至27個月或社會服務令\n",
      "【時事全方位重點提要】(11月11日)\n",
      "【政情網上行】林鄭：卸任後不需要新崗位\n",
      "消息：將藍隧道暫定下月11日通車　多條巴士線開辦配合\n",
      "健身業界：放寬社交距離措施對生意無幫助\n",
      "本港增5697宗新冠確診　多項社交距離措施下周四起放寬\n",
      "Page: 5\n",
      "【附連結】43個地方納入強制檢測公告 (11月10日)\n",
      "梁振英：促成南沙港人子弟學校為助警察子女讀書\n",
      "新民黨何敬康報名參加立法會選委會界別補選 \n",
      "2019年9月政總衝突　三人被裁定暴動罪成\n",
      "因應家傭確診新冠病毒　楊何蓓茵按指引居家檢疫\n",
      "李家超：有序放寬防疫措施　確保主要及經濟活動順利進行\n",
      "本港增5697宗新冠確診　部分社交距離措施下周四起放寬\n",
      "【招聘啟事】Now新聞台誠聘多個職位\n",
      "【附名單】屯門及元朗區污水檢測陽性　政府將向相關人士派發快速測試包 (11月10日)\n",
      "維園年宵攤位競投總額超去年　最貴攤位69000元租出\n",
      "犯罪集團發虛假速遞短訊　盜信用卡資料購物涉款270萬元\n",
      "網媒記者東奧直播期間辱國歌　判監3個月\n",
      "海關檢獲4400萬支私煙　市值約1億2000萬\n",
      "消息指將藍隧道暫定下月11日通車\n",
      "勞工界反政府「一刀切」放寬輸入外勞  院舍業界稱消息令人振奮\n",
      "院舍明年允輸入外勞　孫玉菡︰本地及外勞比例可再扭鬆\n",
      "增3所共132所內地高校收2023年文憑試考生\n",
      "犯罪集團發虛假速遞短訊　盜信用卡資料購物涉款270萬元\n",
      "維園年宵多個攤位　逾3萬元成交 \n",
      "立法會通過學習二十大精神議案　曾國衞：會號召各界舉辦學習會\n"
     ]
    }
   ],
   "source": [
    "for pagenum in range(1, 6):\n",
    "    url = requests.get('https://news.now.com/home/local?pageNo=' + str(pagenum))\n",
    "    soup = BeautifulSoup(url.content, 'html.parser')\n",
    "    print('Page: ' + str(pagenum))\n",
    "    news_titles = soup.select('div.newsTitle')\n",
    "    for news_title in news_titles:\n",
    "        print(news_title.text)"
   ]
  },
  {
   "cell_type": "code",
   "execution_count": 13,
   "metadata": {},
   "outputs": [
    {
     "name": "stdout",
     "output_type": "stream",
     "text": [
      "https://news.now.com/home/local?pageNo=1\n",
      "https://news.now.com/home/local?pageNo=2\n",
      "https://news.now.com/home/local?pageNo=3\n",
      "https://news.now.com/home/local?pageNo=4\n",
      "https://news.now.com/home/local?pageNo=5\n"
     ]
    }
   ],
   "source": [
    "for pagenum in range(1, 6):\n",
    "    print('https://news.now.com/home/local?pageNo=' + str(pagenum))"
   ]
  },
  {
   "cell_type": "code",
   "execution_count": null,
   "metadata": {},
   "outputs": [],
   "source": []
  }
 ],
 "metadata": {
  "kernelspec": {
   "display_name": "Python 3",
   "language": "python",
   "name": "python3"
  },
  "language_info": {
   "codemirror_mode": {
    "name": "ipython",
    "version": 3
   },
   "file_extension": ".py",
   "mimetype": "text/x-python",
   "name": "python",
   "nbconvert_exporter": "python",
   "pygments_lexer": "ipython3",
   "version": "3.8.8"
  },
  "varInspector": {
   "cols": {
    "lenName": "",
    "lenType": 16,
    "lenVar": 40
   },
   "kernels_config": {
    "python": {
     "delete_cmd_postfix": "",
     "delete_cmd_prefix": "del ",
     "library": "var_list.py",
     "varRefreshCmd": "print(var_dic_list())"
    },
    "r": {
     "delete_cmd_postfix": ") ",
     "delete_cmd_prefix": "rm(",
     "library": "var_list.r",
     "varRefreshCmd": "cat(var_dic_list()) "
    }
   },
   "types_to_exclude": [
    "module",
    "function",
    "builtin_function_or_method",
    "instance",
    "_Feature"
   ],
   "window_display": false
  }
 },
 "nbformat": 4,
 "nbformat_minor": 2
}
