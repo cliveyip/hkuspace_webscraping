{
 "cells": [
  {
   "cell_type": "markdown",
   "metadata": {},
   "source": [
    "Scrape first page"
   ]
  },
  {
   "cell_type": "code",
   "execution_count": 2,
   "metadata": {},
   "outputs": [],
   "source": [
    "import requests\n",
    "from bs4 import BeautifulSoup\n",
    "import xlwt\n",
    "from xlwt import Workbook\n",
    "\n",
    "url = requests.get('https://quotes.toscrape.com/')\n",
    "soup = BeautifulSoup(url.content, 'html.parser')\n",
    "\n",
    "quotes = soup.select('span.text')\n",
    "author = soup.select('.author')\n",
    "\n",
    "wb = Workbook()\n",
    "sheet1 = wb.add_sheet('Sheet 1')\n",
    "\n",
    "sheet1.write(0, 0, \"Quotes\")\n",
    "sheet1.write(0, 1, \"Author\")\n",
    "    \n",
    "for i in range(len(quotes)):\n",
    "    sheet1.write(i + 1, 0, quotes[i].text)\n",
    "    sheet1.write(i + 1, 1, author[i].text)\n",
    "\n",
    "wb.save('Quotes.xls')"
   ]
  },
  {
   "cell_type": "markdown",
   "metadata": {},
   "source": [
    "Scrape all pages"
   ]
  },
  {
   "cell_type": "code",
   "execution_count": 5,
   "metadata": {},
   "outputs": [],
   "source": [
    "import requests\n",
    "from bs4 import BeautifulSoup\n",
    "import xlwt\n",
    "from xlwt import Workbook\n",
    "\n",
    "wb = Workbook()\n",
    "sheet1 = wb.add_sheet('Sheet 1')\n",
    "\n",
    "sheet1.write(0, 0, \"Page\")\n",
    "sheet1.write(0, 1, \"Quotes\")\n",
    "sheet1.write(0, 2, \"Author\")\n",
    "\n",
    "for i in range(0, 10):\n",
    "    url = requests.get('https://quotes.toscrape.com/page/' + str(i+1) + '/')\n",
    "    soup = BeautifulSoup(url.content, 'html.parser')\n",
    "\n",
    "    quotes = soup.select('span.text')\n",
    "    author = soup.select('.author')\n",
    "\n",
    "    for j in range(len(quotes)):\n",
    "        sheet1.write(i * 10 + j + 1, 0, i+1)\n",
    "        sheet1.write(i * 10 + j + 1, 1, quotes[j].text)\n",
    "        sheet1.write(i * 10 + j + 1, 2, author[j].text)\n",
    "\n",
    "wb.save('Quotes-all.xls')"
   ]
  },
  {
   "cell_type": "code",
   "execution_count": 8,
   "metadata": {},
   "outputs": [
    {
     "name": "stdout",
     "output_type": "stream",
     "text": [
      "https://quotes.toscrape.com/page/1/\n",
      "https://quotes.toscrape.com/page/2/\n",
      "https://quotes.toscrape.com/page/3/\n",
      "https://quotes.toscrape.com/page/4/\n",
      "https://quotes.toscrape.com/page/5/\n",
      "https://quotes.toscrape.com/page/6/\n",
      "https://quotes.toscrape.com/page/7/\n",
      "https://quotes.toscrape.com/page/8/\n",
      "https://quotes.toscrape.com/page/9/\n",
      "https://quotes.toscrape.com/page/10/\n"
     ]
    }
   ],
   "source": [
    "for i in range(0,10):\n",
    "    print('https://quotes.toscrape.com/page/' + str(i+1) + '/')"
   ]
  },
  {
   "cell_type": "code",
   "execution_count": null,
   "metadata": {},
   "outputs": [],
   "source": []
  }
 ],
 "metadata": {
  "kernelspec": {
   "display_name": "Python 3",
   "language": "python",
   "name": "python3"
  },
  "language_info": {
   "codemirror_mode": {
    "name": "ipython",
    "version": 3
   },
   "file_extension": ".py",
   "mimetype": "text/x-python",
   "name": "python",
   "nbconvert_exporter": "python",
   "pygments_lexer": "ipython3",
   "version": "3.8.8"
  },
  "varInspector": {
   "cols": {
    "lenName": "",
    "lenType": 16,
    "lenVar": 40
   },
   "kernels_config": {
    "python": {
     "delete_cmd_postfix": "",
     "delete_cmd_prefix": "del ",
     "library": "var_list.py",
     "varRefreshCmd": "print(var_dic_list())"
    },
    "r": {
     "delete_cmd_postfix": ") ",
     "delete_cmd_prefix": "rm(",
     "library": "var_list.r",
     "varRefreshCmd": "cat(var_dic_list()) "
    }
   },
   "types_to_exclude": [
    "module",
    "function",
    "builtin_function_or_method",
    "instance",
    "_Feature"
   ],
   "window_display": false
  }
 },
 "nbformat": 4,
 "nbformat_minor": 2
}
